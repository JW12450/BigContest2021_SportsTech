{
  "nbformat": 4,
  "nbformat_minor": 0,
  "metadata": {
    "colab": {
      "name": "10명_제외.ipynb",
      "provenance": []
    },
    "kernelspec": {
      "name": "python3",
      "display_name": "Python 3"
    },
    "language_info": {
      "name": "python"
    }
  },
  "cells": [
    {
      "cell_type": "code",
      "metadata": {
        "colab": {
          "base_uri": "https://localhost:8080/"
        },
        "id": "1q4Dm9bnZ-XV",
        "outputId": "4ce3d49c-08da-43d1-9a2a-d0eff55b3edf"
      },
      "source": [
        "from google.colab import drive\n",
        "drive.mount('/content/drive')"
      ],
      "execution_count": null,
      "outputs": [
        {
          "output_type": "stream",
          "name": "stdout",
          "text": [
            "Drive already mounted at /content/drive; to attempt to forcibly remount, call drive.mount(\"/content/drive\", force_remount=True).\n"
          ]
        }
      ]
    },
    {
      "cell_type": "markdown",
      "metadata": {
        "id": "NZO7GYftck0y"
      },
      "source": [
        "#### PCODE    선수\n",
        "76232 양의지\n",
        "\n",
        "68050 강백호\n",
        "\n",
        "75847 최정\n",
        "\n",
        "67341 이정후\n",
        "\n",
        "79192 채은성\n",
        "\n",
        "78224 김재환\n",
        "\n",
        "78513 전준우\n",
        "\n",
        "76290 김현수\n",
        "\n",
        "79215 박건우\n",
        "\n",
        "67872 로맥\n"
      ]
    },
    {
      "cell_type": "code",
      "metadata": {
        "id": "im6N9wf8fUrJ"
      },
      "source": [
        "code_list = [76232, 68050, 75847, 67341, 79192, 78224, 78513, 76290, 79215, 67872]"
      ],
      "execution_count": null,
      "outputs": []
    },
    {
      "cell_type": "code",
      "metadata": {
        "id": "ggqSDXFQaDTu"
      },
      "source": [
        "import pandas as pd\n",
        "import numpy as np\n",
        "import matplotlib.pyplot as plt\n",
        "import seaborn as sns\n",
        "%matplotlib inline \n",
        "import warnings\n",
        "warnings.filterwarnings(action='ignore')"
      ],
      "execution_count": null,
      "outputs": []
    },
    {
      "cell_type": "code",
      "metadata": {
        "id": "Rf-avj-iaDWz"
      },
      "source": [
        "df1 = pd.read_csv('/content/drive/MyDrive/빅콘테스트/Train_dataset/10명포함/1번/df1.csv', index_col=0)\n",
        "df2 = pd.read_csv('/content/drive/MyDrive/빅콘테스트/Train_dataset/10명포함/1번/df2.csv', index_col=0)\n",
        "df3 = pd.read_csv('/content/drive/MyDrive/빅콘테스트/Train_dataset/10명포함/1번/df3.csv', index_col=0)"
      ],
      "execution_count": null,
      "outputs": []
    },
    {
      "cell_type": "code",
      "metadata": {
        "id": "lnWvUM7JfkJU"
      },
      "source": [
        "out_index = []\n",
        "for i in range(len(code_list)):\n",
        "  out_index.append(df1[df1['PCODE'] == code_list[i]].index[0])\n",
        "\n",
        "out_index = pd.Series(out_index)"
      ],
      "execution_count": null,
      "outputs": []
    },
    {
      "cell_type": "code",
      "metadata": {
        "id": "m7lD7tVVimv5"
      },
      "source": [
        "df1_test = df1.loc[out_index]\n",
        "df1 = df1.drop(out_index)\n",
        "\n",
        "df1.to_csv('/content/drive/MyDrive/빅콘테스트/Train_dataset/1번/df1.csv')\n",
        "df1_test.to_csv('/content/drive/MyDrive/빅콘테스트/Train_dataset/1번/df1_test.csv')"
      ],
      "execution_count": null,
      "outputs": []
    },
    {
      "cell_type": "code",
      "metadata": {
        "id": "Ff8rTN8pjHqH"
      },
      "source": [
        "out_index = []\n",
        "for i in range(len(code_list)):\n",
        "  out_index.append(df2[df2['PCODE'] == code_list[i]].index[0])\n",
        "\n",
        "out_index = pd.Series(out_index)\n",
        "\n",
        "df2_test = df2.loc[out_index]\n",
        "df2 = df2.drop(out_index)\n",
        "\n",
        "df2.to_csv('/content/drive/MyDrive/빅콘테스트/Train_dataset/1번/df2.csv')\n",
        "df2_test.to_csv('/content/drive/MyDrive/빅콘테스트/Train_dataset/1번/df2_test.csv')"
      ],
      "execution_count": null,
      "outputs": []
    },
    {
      "cell_type": "code",
      "metadata": {
        "id": "Kb5CsF6ejHyH"
      },
      "source": [
        "out_index = []\n",
        "for i in range(len(code_list)):\n",
        "  out_index.append(df3[df3['PCODE'] == code_list[i]].index[0])\n",
        "\n",
        "out_index = pd.Series(out_index)\n",
        "\n",
        "df3_test = df3.loc[out_index]\n",
        "df3 = df3.drop(out_index)\n",
        "\n",
        "df3.to_csv('/content/drive/MyDrive/빅콘테스트/Train_dataset/1번/df3.csv')\n",
        "df3_test.to_csv('/content/drive/MyDrive/빅콘테스트/Train_dataset/1번/df3_test.csv')"
      ],
      "execution_count": null,
      "outputs": []
    },
    {
      "cell_type": "code",
      "metadata": {
        "id": "LYgHayskjH2u"
      },
      "source": [
        ""
      ],
      "execution_count": null,
      "outputs": []
    },
    {
      "cell_type": "code",
      "metadata": {
        "id": "tlT3LL9TjH5X"
      },
      "source": [
        ""
      ],
      "execution_count": null,
      "outputs": []
    },
    {
      "cell_type": "code",
      "metadata": {
        "colab": {
          "base_uri": "https://localhost:8080/",
          "height": 419
        },
        "id": "sE7s0yP0jH8r",
        "outputId": "b828dc02-25f0-4b84-dd18-61ea91204b53"
      },
      "source": [
        "df1 = pd.read_csv('/content/drive/MyDrive/빅콘테스트/Train_dataset/10명포함/2번/df1.csv', index_col=0)\n",
        "df2 = pd.read_csv('/content/drive/MyDrive/빅콘테스트/Train_dataset/10명포함/2번/df2.csv', index_col=0)\n",
        "df3 = pd.read_csv('/content/drive/MyDrive/빅콘테스트/Train_dataset/10명포함/2번/df3.csv', index_col=0)\n",
        "df1"
      ],
      "execution_count": null,
      "outputs": [
        {
          "output_type": "execute_result",
          "data": {
            "text/html": [
              "<div>\n",
              "<style scoped>\n",
              "    .dataframe tbody tr th:only-of-type {\n",
              "        vertical-align: middle;\n",
              "    }\n",
              "\n",
              "    .dataframe tbody tr th {\n",
              "        vertical-align: top;\n",
              "    }\n",
              "\n",
              "    .dataframe thead th {\n",
              "        text-align: right;\n",
              "    }\n",
              "</style>\n",
              "<table border=\"1\" class=\"dataframe\">\n",
              "  <thead>\n",
              "    <tr style=\"text-align: right;\">\n",
              "      <th></th>\n",
              "      <th>PCODE</th>\n",
              "      <th>배럴지수</th>\n",
              "      <th>뜬공땅볼비율</th>\n",
              "      <th>장타율</th>\n",
              "    </tr>\n",
              "  </thead>\n",
              "  <tbody>\n",
              "    <tr>\n",
              "      <th>3</th>\n",
              "      <td>50165</td>\n",
              "      <td>0.182801</td>\n",
              "      <td>2.239521</td>\n",
              "      <td>0.50700</td>\n",
              "    </tr>\n",
              "    <tr>\n",
              "      <th>11</th>\n",
              "      <td>50350</td>\n",
              "      <td>0.068750</td>\n",
              "      <td>1.897436</td>\n",
              "      <td>0.33600</td>\n",
              "    </tr>\n",
              "    <tr>\n",
              "      <th>14</th>\n",
              "      <td>50458</td>\n",
              "      <td>0.000000</td>\n",
              "      <td>1.101408</td>\n",
              "      <td>0.29300</td>\n",
              "    </tr>\n",
              "    <tr>\n",
              "      <th>15</th>\n",
              "      <td>50468</td>\n",
              "      <td>0.119277</td>\n",
              "      <td>1.625000</td>\n",
              "      <td>0.47700</td>\n",
              "    </tr>\n",
              "    <tr>\n",
              "      <th>16</th>\n",
              "      <td>50469</td>\n",
              "      <td>0.086087</td>\n",
              "      <td>1.629630</td>\n",
              "      <td>0.36700</td>\n",
              "    </tr>\n",
              "    <tr>\n",
              "      <th>...</th>\n",
              "      <td>...</td>\n",
              "      <td>...</td>\n",
              "      <td>...</td>\n",
              "      <td>...</td>\n",
              "    </tr>\n",
              "    <tr>\n",
              "      <th>428</th>\n",
              "      <td>79402</td>\n",
              "      <td>0.021220</td>\n",
              "      <td>1.346857</td>\n",
              "      <td>0.34375</td>\n",
              "    </tr>\n",
              "    <tr>\n",
              "      <th>430</th>\n",
              "      <td>79456</td>\n",
              "      <td>0.003962</td>\n",
              "      <td>0.826477</td>\n",
              "      <td>0.35425</td>\n",
              "    </tr>\n",
              "    <tr>\n",
              "      <th>433</th>\n",
              "      <td>79608</td>\n",
              "      <td>0.035714</td>\n",
              "      <td>1.793256</td>\n",
              "      <td>0.46725</td>\n",
              "    </tr>\n",
              "    <tr>\n",
              "      <th>435</th>\n",
              "      <td>99606</td>\n",
              "      <td>0.029412</td>\n",
              "      <td>1.074074</td>\n",
              "      <td>0.42100</td>\n",
              "    </tr>\n",
              "    <tr>\n",
              "      <th>436</th>\n",
              "      <td>99810</td>\n",
              "      <td>0.025688</td>\n",
              "      <td>1.142857</td>\n",
              "      <td>0.41700</td>\n",
              "    </tr>\n",
              "  </tbody>\n",
              "</table>\n",
              "<p>153 rows × 4 columns</p>\n",
              "</div>"
            ],
            "text/plain": [
              "     PCODE      배럴지수    뜬공땅볼비율      장타율\n",
              "3    50165  0.182801  2.239521  0.50700\n",
              "11   50350  0.068750  1.897436  0.33600\n",
              "14   50458  0.000000  1.101408  0.29300\n",
              "15   50468  0.119277  1.625000  0.47700\n",
              "16   50469  0.086087  1.629630  0.36700\n",
              "..     ...       ...       ...      ...\n",
              "428  79402  0.021220  1.346857  0.34375\n",
              "430  79456  0.003962  0.826477  0.35425\n",
              "433  79608  0.035714  1.793256  0.46725\n",
              "435  99606  0.029412  1.074074  0.42100\n",
              "436  99810  0.025688  1.142857  0.41700\n",
              "\n",
              "[153 rows x 4 columns]"
            ]
          },
          "metadata": {},
          "execution_count": 79
        }
      ]
    },
    {
      "cell_type": "code",
      "metadata": {
        "id": "fYwR_y8ejH_o"
      },
      "source": [
        "out_index = []\n",
        "for i in range(len(code_list)):\n",
        "  out_index.append(df1[df1['PCODE'] == code_list[i]].index[0])\n",
        "\n",
        "out_index = pd.Series(out_index)\n",
        "\n",
        "df1_test = df1.loc[out_index]\n",
        "df1 = df1.drop(out_index)\n",
        "\n",
        "df1.to_csv('/content/drive/MyDrive/빅콘테스트/Train_dataset/2번/df1.csv')\n",
        "df1_test.to_csv('/content/drive/MyDrive/빅콘테스트/Train_dataset/2번/df2_test.csv')"
      ],
      "execution_count": null,
      "outputs": []
    },
    {
      "cell_type": "code",
      "metadata": {
        "id": "d3RtK-6xjICC"
      },
      "source": [
        "out_index = []\n",
        "for i in range(len(code_list)):\n",
        "  out_index.append(df2[df2['PCODE'] == code_list[i]].index[0])\n",
        "\n",
        "out_index = pd.Series(out_index)\n",
        "\n",
        "df2_test = df2.loc[out_index]\n",
        "df2 = df2.drop(out_index)\n",
        "\n",
        "df2.to_csv('/content/drive/MyDrive/빅콘테스트/Train_dataset/2번/df2.csv')\n",
        "df2_test.to_csv('/content/drive/MyDrive/빅콘테스트/Train_dataset/2번/df2_test.csv')"
      ],
      "execution_count": null,
      "outputs": []
    },
    {
      "cell_type": "code",
      "metadata": {
        "id": "t_WvaTJ2jIEX"
      },
      "source": [
        "out_index = []\n",
        "for i in range(len(code_list)):\n",
        "  out_index.append(df3[df3['PCODE'] == code_list[i]].index[0])\n",
        "\n",
        "out_index = pd.Series(out_index)\n",
        "\n",
        "df3_test = df3.loc[out_index]\n",
        "df3 = df3.drop(out_index)\n",
        "\n",
        "df3.to_csv('/content/drive/MyDrive/빅콘테스트/Train_dataset/2번/df3.csv')\n",
        "df3_test.to_csv('/content/drive/MyDrive/빅콘테스트/Train_dataset/2번/df3_test.csv')"
      ],
      "execution_count": null,
      "outputs": []
    },
    {
      "cell_type": "code",
      "metadata": {
        "id": "GtMbAA3HjIHI"
      },
      "source": [
        ""
      ],
      "execution_count": null,
      "outputs": []
    },
    {
      "cell_type": "code",
      "metadata": {
        "colab": {
          "base_uri": "https://localhost:8080/",
          "height": 419
        },
        "id": "cKJfaDQPaDpr",
        "outputId": "19e15933-410a-417b-fe8c-fd4de15a8bf2"
      },
      "source": [
        "df1 = pd.read_csv('/content/drive/MyDrive/빅콘테스트/Train_dataset/10명포함/3번/df1.csv', index_col=0)\n",
        "df2 = pd.read_csv('/content/drive/MyDrive/빅콘테스트/Train_dataset/10명포함/3번/df2.csv', index_col=0)\n",
        "df3 = pd.read_csv('/content/drive/MyDrive/빅콘테스트/Train_dataset/10명포함/3번/df3.csv', index_col=0)\n",
        "df1"
      ],
      "execution_count": null,
      "outputs": [
        {
          "output_type": "execute_result",
          "data": {
            "text/html": [
              "<div>\n",
              "<style scoped>\n",
              "    .dataframe tbody tr th:only-of-type {\n",
              "        vertical-align: middle;\n",
              "    }\n",
              "\n",
              "    .dataframe tbody tr th {\n",
              "        vertical-align: top;\n",
              "    }\n",
              "\n",
              "    .dataframe thead th {\n",
              "        text-align: right;\n",
              "    }\n",
              "</style>\n",
              "<table border=\"1\" class=\"dataframe\">\n",
              "  <thead>\n",
              "    <tr style=\"text-align: right;\">\n",
              "      <th></th>\n",
              "      <th>PCODE_YEAR</th>\n",
              "      <th>배럴지수</th>\n",
              "      <th>뜬공땅볼비율</th>\n",
              "      <th>장타율</th>\n",
              "    </tr>\n",
              "  </thead>\n",
              "  <tbody>\n",
              "    <tr>\n",
              "      <th>0</th>\n",
              "      <td>50165_2020</td>\n",
              "      <td>0.160584</td>\n",
              "      <td>2.386364</td>\n",
              "      <td>0.592</td>\n",
              "    </tr>\n",
              "    <tr>\n",
              "      <th>1</th>\n",
              "      <td>50165_2021</td>\n",
              "      <td>0.150376</td>\n",
              "      <td>2.037037</td>\n",
              "      <td>0.422</td>\n",
              "    </tr>\n",
              "    <tr>\n",
              "      <th>2</th>\n",
              "      <td>50350_2020</td>\n",
              "      <td>0.062500</td>\n",
              "      <td>1.897436</td>\n",
              "      <td>0.336</td>\n",
              "    </tr>\n",
              "    <tr>\n",
              "      <th>3</th>\n",
              "      <td>50458_2020</td>\n",
              "      <td>0.000000</td>\n",
              "      <td>1.239130</td>\n",
              "      <td>0.272</td>\n",
              "    </tr>\n",
              "    <tr>\n",
              "      <th>4</th>\n",
              "      <td>50458_2021</td>\n",
              "      <td>0.000000</td>\n",
              "      <td>0.976744</td>\n",
              "      <td>0.314</td>\n",
              "    </tr>\n",
              "    <tr>\n",
              "      <th>...</th>\n",
              "      <td>...</td>\n",
              "      <td>...</td>\n",
              "      <td>...</td>\n",
              "      <td>...</td>\n",
              "    </tr>\n",
              "    <tr>\n",
              "      <th>461</th>\n",
              "      <td>79608_2019</td>\n",
              "      <td>0.020619</td>\n",
              "      <td>1.666667</td>\n",
              "      <td>0.412</td>\n",
              "    </tr>\n",
              "    <tr>\n",
              "      <th>462</th>\n",
              "      <td>79608_2020</td>\n",
              "      <td>0.028571</td>\n",
              "      <td>2.203390</td>\n",
              "      <td>0.413</td>\n",
              "    </tr>\n",
              "    <tr>\n",
              "      <th>463</th>\n",
              "      <td>79608_2021</td>\n",
              "      <td>0.048193</td>\n",
              "      <td>1.268293</td>\n",
              "      <td>0.481</td>\n",
              "    </tr>\n",
              "    <tr>\n",
              "      <th>464</th>\n",
              "      <td>99606_2018</td>\n",
              "      <td>0.042017</td>\n",
              "      <td>1.074074</td>\n",
              "      <td>0.421</td>\n",
              "    </tr>\n",
              "    <tr>\n",
              "      <th>465</th>\n",
              "      <td>99810_2018</td>\n",
              "      <td>0.036697</td>\n",
              "      <td>1.142857</td>\n",
              "      <td>0.417</td>\n",
              "    </tr>\n",
              "  </tbody>\n",
              "</table>\n",
              "<p>466 rows × 4 columns</p>\n",
              "</div>"
            ],
            "text/plain": [
              "     PCODE_YEAR      배럴지수    뜬공땅볼비율    장타율\n",
              "0    50165_2020  0.160584  2.386364  0.592\n",
              "1    50165_2021  0.150376  2.037037  0.422\n",
              "2    50350_2020  0.062500  1.897436  0.336\n",
              "3    50458_2020  0.000000  1.239130  0.272\n",
              "4    50458_2021  0.000000  0.976744  0.314\n",
              "..          ...       ...       ...    ...\n",
              "461  79608_2019  0.020619  1.666667  0.412\n",
              "462  79608_2020  0.028571  2.203390  0.413\n",
              "463  79608_2021  0.048193  1.268293  0.481\n",
              "464  99606_2018  0.042017  1.074074  0.421\n",
              "465  99810_2018  0.036697  1.142857  0.417\n",
              "\n",
              "[466 rows x 4 columns]"
            ]
          },
          "metadata": {},
          "execution_count": 86
        }
      ]
    },
    {
      "cell_type": "code",
      "metadata": {
        "colab": {
          "base_uri": "https://localhost:8080/"
        },
        "id": "F6uphsvwkhpa",
        "outputId": "aff588c3-a735-411e-8a34-d87603b3f714"
      },
      "source": [
        "code_list2 = code_list\n",
        "code_list2 "
      ],
      "execution_count": null,
      "outputs": [
        {
          "output_type": "execute_result",
          "data": {
            "text/plain": [
              "[76232, 68050, 75847, 67341, 79192, 78224, 78513, 76290, 79215, 67872]"
            ]
          },
          "metadata": {},
          "execution_count": 90
        }
      ]
    },
    {
      "cell_type": "code",
      "metadata": {
        "colab": {
          "base_uri": "https://localhost:8080/"
        },
        "id": "1YkxMb7Bkr8t",
        "outputId": "ce9dd48b-aade-48db-8b9c-7efcb87e65da"
      },
      "source": [
        "code_list = []\n",
        "\n",
        "for i in range(len(code_list2)):\n",
        "  code_list.append(str(code_list2[i]) + \"_2021\")\n",
        "\n",
        "code_list"
      ],
      "execution_count": null,
      "outputs": [
        {
          "output_type": "execute_result",
          "data": {
            "text/plain": [
              "['76232_2021',\n",
              " '68050_2021',\n",
              " '75847_2021',\n",
              " '67341_2021',\n",
              " '79192_2021',\n",
              " '78224_2021',\n",
              " '78513_2021',\n",
              " '76290_2021',\n",
              " '79215_2021',\n",
              " '67872_2021']"
            ]
          },
          "metadata": {},
          "execution_count": 93
        }
      ]
    },
    {
      "cell_type": "code",
      "metadata": {
        "id": "cPwjLOdskH6I"
      },
      "source": [
        "out_index = []\n",
        "for i in range(len(code_list)):\n",
        "  out_index.append(df1[df1['PCODE_YEAR'] == code_list[i]].index[0])\n",
        "\n",
        "out_index = pd.Series(out_index)\n",
        "\n",
        "df1_test = df1.loc[out_index]\n",
        "df1 = df1.drop(out_index)\n",
        "\n",
        "df1.to_csv('/content/drive/MyDrive/빅콘테스트/Train_dataset/3번/df1.csv')\n",
        "df1_test.to_csv('/content/drive/MyDrive/빅콘테스트/Train_dataset/3번/df1_test.csv')"
      ],
      "execution_count": null,
      "outputs": []
    },
    {
      "cell_type": "code",
      "metadata": {
        "id": "KWfNfwLDkH-n"
      },
      "source": [
        "out_index = []\n",
        "for i in range(len(code_list)):\n",
        "  out_index.append(df2[df2['PCODE_YEAR'] == code_list[i]].index[0])\n",
        "\n",
        "out_index = pd.Series(out_index)\n",
        "\n",
        "df2_test = df2.loc[out_index]\n",
        "df2 = df2.drop(out_index)\n",
        "\n",
        "df2.to_csv('/content/drive/MyDrive/빅콘테스트/Train_dataset/3번/df2.csv')\n",
        "df2_test.to_csv('/content/drive/MyDrive/빅콘테스트/Train_dataset/3번/df2_test.csv')"
      ],
      "execution_count": null,
      "outputs": []
    },
    {
      "cell_type": "code",
      "metadata": {
        "id": "Erkf-6BCaDsK"
      },
      "source": [
        "out_index = []\n",
        "for i in range(len(code_list)):\n",
        "  out_index.append(df3[df3['PCODE_YEAR'] == code_list[i]].index[0])\n",
        "\n",
        "out_index = pd.Series(out_index)\n",
        "\n",
        "df3_test = df3.loc[out_index]\n",
        "df3 = df3.drop(out_index)\n",
        "\n",
        "df3.to_csv('/content/drive/MyDrive/빅콘테스트/Train_dataset/3번/df3.csv')\n",
        "df3_test.to_csv('/content/drive/MyDrive/빅콘테스트/Train_dataset/3번/df3_test.csv')"
      ],
      "execution_count": null,
      "outputs": []
    },
    {
      "cell_type": "code",
      "metadata": {
        "id": "3AEbUTdGaDuv"
      },
      "source": [
        ""
      ],
      "execution_count": null,
      "outputs": []
    },
    {
      "cell_type": "code",
      "metadata": {
        "id": "7BXbFhmgEXhY"
      },
      "source": [
        ""
      ],
      "execution_count": null,
      "outputs": []
    },
    {
      "cell_type": "markdown",
      "metadata": {
        "id": "fr4dfpl7FBkU"
      },
      "source": [
        "## 출루율"
      ]
    },
    {
      "cell_type": "code",
      "metadata": {
        "id": "dqKgcwq7EaFR"
      },
      "source": [
        "df1 = pd.read_csv('/content/drive/MyDrive/빅콘테스트/Train_dataset/출루율/10명포함/1번/df1.csv', index_col=0)\n",
        "df2 = pd.read_csv('/content/drive/MyDrive/빅콘테스트/Train_dataset/출루율/10명포함/1번/df2.csv', index_col=0)\n",
        "df3 = pd.read_csv('/content/drive/MyDrive/빅콘테스트/Train_dataset/출루율/10명포함/1번/df3.csv', index_col=0)"
      ],
      "execution_count": null,
      "outputs": []
    },
    {
      "cell_type": "code",
      "metadata": {
        "id": "vXT6zOcyEaIt"
      },
      "source": [
        "out_index = []\n",
        "for i in range(len(code_list)):\n",
        "  out_index.append(df1[df1['PCODE'] == code_list[i]].index[0])\n",
        "\n",
        "out_index = pd.Series(out_index)\n",
        "\n",
        "df1_test = df1.loc[out_index]\n",
        "df1 = df1.drop(out_index)\n",
        "\n",
        "df1.to_csv('/content/drive/MyDrive/빅콘테스트/Train_dataset/출루율/1번/df1.csv')\n",
        "df1_test.to_csv('/content/drive/MyDrive/빅콘테스트/Train_dataset/출루율/1번/df1_test.csv')"
      ],
      "execution_count": null,
      "outputs": []
    },
    {
      "cell_type": "code",
      "metadata": {
        "id": "ApPCRfb5EaMW"
      },
      "source": [
        "out_index = []\n",
        "for i in range(len(code_list)):\n",
        "  out_index.append(df2[df2['PCODE'] == code_list[i]].index[0])\n",
        "\n",
        "out_index = pd.Series(out_index)\n",
        "\n",
        "df2_test = df2.loc[out_index]\n",
        "df2 = df2.drop(out_index)\n",
        "\n",
        "df2.to_csv('/content/drive/MyDrive/빅콘테스트/Train_dataset/출루율/1번/df2.csv')\n",
        "df2_test.to_csv('/content/drive/MyDrive/빅콘테스트/Train_dataset/출루율/1번/df2_test.csv')"
      ],
      "execution_count": null,
      "outputs": []
    },
    {
      "cell_type": "code",
      "metadata": {
        "id": "gL3YxKRnFgQq"
      },
      "source": [
        "out_index = []\n",
        "for i in range(len(code_list)):\n",
        "  out_index.append(df3[df3['PCODE'] == code_list[i]].index[0])\n",
        "\n",
        "out_index = pd.Series(out_index)\n",
        "\n",
        "df3_test = df3.loc[out_index]\n",
        "df3 = df3.drop(out_index)\n",
        "\n",
        "df3.to_csv('/content/drive/MyDrive/빅콘테스트/Train_dataset/출루율/1번/df3.csv')\n",
        "df3_test.to_csv('/content/drive/MyDrive/빅콘테스트/Train_dataset/출루율/1번/df3_test.csv')"
      ],
      "execution_count": null,
      "outputs": []
    },
    {
      "cell_type": "code",
      "metadata": {
        "id": "CPhA0-gxEaPf"
      },
      "source": [
        ""
      ],
      "execution_count": null,
      "outputs": []
    },
    {
      "cell_type": "code",
      "metadata": {
        "id": "E8A2imAvEaSE"
      },
      "source": [
        "df1 = pd.read_csv('/content/drive/MyDrive/빅콘테스트/Train_dataset/출루율/10명포함/2번/df1.csv', index_col=0)\n",
        "df2 = pd.read_csv('/content/drive/MyDrive/빅콘테스트/Train_dataset/출루율/10명포함/2번/df2.csv', index_col=0)\n",
        "df3 = pd.read_csv('/content/drive/MyDrive/빅콘테스트/Train_dataset/출루율/10명포함/2번/df3.csv', index_col=0)"
      ],
      "execution_count": null,
      "outputs": []
    },
    {
      "cell_type": "code",
      "metadata": {
        "id": "4nhmLpMKEaV_"
      },
      "source": [
        "out_index = []\n",
        "for i in range(len(code_list)):\n",
        "  out_index.append(df1[df1['PCODE'] == code_list[i]].index[0])\n",
        "\n",
        "out_index = pd.Series(out_index)\n",
        "\n",
        "df1_test = df1.loc[out_index]\n",
        "df1 = df1.drop(out_index)\n",
        "\n",
        "df1.to_csv('/content/drive/MyDrive/빅콘테스트/Train_dataset/출루율/2번/df1.csv')\n",
        "df1_test.to_csv('/content/drive/MyDrive/빅콘테스트/Train_dataset/출루율/2번/df1_test.csv')"
      ],
      "execution_count": null,
      "outputs": []
    },
    {
      "cell_type": "code",
      "metadata": {
        "id": "pNAQZsgcEaYc"
      },
      "source": [
        "out_index = []\n",
        "for i in range(len(code_list)):\n",
        "  out_index.append(df2[df2['PCODE'] == code_list[i]].index[0])\n",
        "\n",
        "out_index = pd.Series(out_index)\n",
        "\n",
        "df2_test = df2.loc[out_index]\n",
        "df2 = df2.drop(out_index)\n",
        "\n",
        "df2.to_csv('/content/drive/MyDrive/빅콘테스트/Train_dataset/출루율/2번/df2.csv')\n",
        "df2_test.to_csv('/content/drive/MyDrive/빅콘테스트/Train_dataset/출루율/2번/df2_test.csv')"
      ],
      "execution_count": null,
      "outputs": []
    },
    {
      "cell_type": "code",
      "metadata": {
        "id": "-nGzaTcQEabe"
      },
      "source": [
        "out_index = []\n",
        "for i in range(len(code_list)):\n",
        "  out_index.append(df3[df3['PCODE'] == code_list[i]].index[0])\n",
        "\n",
        "out_index = pd.Series(out_index)\n",
        "\n",
        "df3_test = df3.loc[out_index]\n",
        "df3 = df3.drop(out_index)\n",
        "\n",
        "df3.to_csv('/content/drive/MyDrive/빅콘테스트/Train_dataset/출루율/2번/df3.csv')\n",
        "df3_test.to_csv('/content/drive/MyDrive/빅콘테스트/Train_dataset/출루율/2번/df3_test.csv')"
      ],
      "execution_count": null,
      "outputs": []
    },
    {
      "cell_type": "code",
      "metadata": {
        "id": "J395-CfeEadf"
      },
      "source": [
        ""
      ],
      "execution_count": null,
      "outputs": []
    },
    {
      "cell_type": "code",
      "metadata": {
        "colab": {
          "base_uri": "https://localhost:8080/",
          "height": 419
        },
        "id": "a5PUN8xUEagX",
        "outputId": "61e0dc9c-219a-4fe3-f2b7-50bce42474d9"
      },
      "source": [
        "df1 = pd.read_csv('/content/drive/MyDrive/빅콘테스트/Train_dataset/출루율/10명포함/3번/df1.csv', index_col=0)\n",
        "df2 = pd.read_csv('/content/drive/MyDrive/빅콘테스트/Train_dataset/출루율/10명포함/3번/df2.csv', index_col=0)\n",
        "df3 = pd.read_csv('/content/drive/MyDrive/빅콘테스트/Train_dataset/출루율/10명포함/3번/df3.csv', index_col=0)\n",
        "df1"
      ],
      "execution_count": null,
      "outputs": [
        {
          "output_type": "execute_result",
          "data": {
            "text/html": [
              "<div>\n",
              "<style scoped>\n",
              "    .dataframe tbody tr th:only-of-type {\n",
              "        vertical-align: middle;\n",
              "    }\n",
              "\n",
              "    .dataframe tbody tr th {\n",
              "        vertical-align: top;\n",
              "    }\n",
              "\n",
              "    .dataframe thead th {\n",
              "        text-align: right;\n",
              "    }\n",
              "</style>\n",
              "<table border=\"1\" class=\"dataframe\">\n",
              "  <thead>\n",
              "    <tr style=\"text-align: right;\">\n",
              "      <th></th>\n",
              "      <th>PCODE_YEAR</th>\n",
              "      <th>타율</th>\n",
              "      <th>홈런</th>\n",
              "      <th>볼삼비</th>\n",
              "      <th>P/PA</th>\n",
              "      <th>초구</th>\n",
              "      <th>전체</th>\n",
              "      <th>컨택%</th>\n",
              "      <th>2S후커트%</th>\n",
              "      <th>2S후선구%</th>\n",
              "      <th>출루율</th>\n",
              "    </tr>\n",
              "  </thead>\n",
              "  <tbody>\n",
              "    <tr>\n",
              "      <th>0</th>\n",
              "      <td>60558_2018</td>\n",
              "      <td>0.254</td>\n",
              "      <td>12.0</td>\n",
              "      <td>0.260870</td>\n",
              "      <td>3.75</td>\n",
              "      <td>30.0</td>\n",
              "      <td>48.2</td>\n",
              "      <td>71.5</td>\n",
              "      <td>66.6</td>\n",
              "      <td>33.4</td>\n",
              "      <td>0.309973</td>\n",
              "    </tr>\n",
              "    <tr>\n",
              "      <th>1</th>\n",
              "      <td>61102_2018</td>\n",
              "      <td>0.296</td>\n",
              "      <td>19.0</td>\n",
              "      <td>0.350000</td>\n",
              "      <td>3.76</td>\n",
              "      <td>28.0</td>\n",
              "      <td>50.1</td>\n",
              "      <td>78.3</td>\n",
              "      <td>76.8</td>\n",
              "      <td>31.6</td>\n",
              "      <td>0.353448</td>\n",
              "    </tr>\n",
              "    <tr>\n",
              "      <th>2</th>\n",
              "      <td>61186_2018</td>\n",
              "      <td>0.340</td>\n",
              "      <td>2.0</td>\n",
              "      <td>0.812500</td>\n",
              "      <td>3.63</td>\n",
              "      <td>35.3</td>\n",
              "      <td>46.9</td>\n",
              "      <td>82.4</td>\n",
              "      <td>80.2</td>\n",
              "      <td>36.7</td>\n",
              "      <td>0.409877</td>\n",
              "    </tr>\n",
              "    <tr>\n",
              "      <th>3</th>\n",
              "      <td>61208_2018</td>\n",
              "      <td>0.301</td>\n",
              "      <td>2.0</td>\n",
              "      <td>0.431818</td>\n",
              "      <td>3.75</td>\n",
              "      <td>29.8</td>\n",
              "      <td>48.4</td>\n",
              "      <td>84.7</td>\n",
              "      <td>79.8</td>\n",
              "      <td>29.9</td>\n",
              "      <td>0.348276</td>\n",
              "    </tr>\n",
              "    <tr>\n",
              "      <th>4</th>\n",
              "      <td>61353_2018</td>\n",
              "      <td>0.279</td>\n",
              "      <td>6.0</td>\n",
              "      <td>0.156250</td>\n",
              "      <td>3.81</td>\n",
              "      <td>39.9</td>\n",
              "      <td>51.0</td>\n",
              "      <td>72.6</td>\n",
              "      <td>63.8</td>\n",
              "      <td>34.8</td>\n",
              "      <td>0.310541</td>\n",
              "    </tr>\n",
              "    <tr>\n",
              "      <th>...</th>\n",
              "      <td>...</td>\n",
              "      <td>...</td>\n",
              "      <td>...</td>\n",
              "      <td>...</td>\n",
              "      <td>...</td>\n",
              "      <td>...</td>\n",
              "      <td>...</td>\n",
              "      <td>...</td>\n",
              "      <td>...</td>\n",
              "      <td>...</td>\n",
              "      <td>...</td>\n",
              "    </tr>\n",
              "    <tr>\n",
              "      <th>395</th>\n",
              "      <td>51203_2021</td>\n",
              "      <td>0.275</td>\n",
              "      <td>2.0</td>\n",
              "      <td>0.200000</td>\n",
              "      <td>3.87</td>\n",
              "      <td>33.7</td>\n",
              "      <td>50.2</td>\n",
              "      <td>77.0</td>\n",
              "      <td>71.0</td>\n",
              "      <td>30.8</td>\n",
              "      <td>0.319444</td>\n",
              "    </tr>\n",
              "    <tr>\n",
              "      <th>396</th>\n",
              "      <td>51463_2021</td>\n",
              "      <td>0.312</td>\n",
              "      <td>20.0</td>\n",
              "      <td>0.666667</td>\n",
              "      <td>3.79</td>\n",
              "      <td>18.5</td>\n",
              "      <td>44.3</td>\n",
              "      <td>79.1</td>\n",
              "      <td>77.5</td>\n",
              "      <td>37.8</td>\n",
              "      <td>0.378453</td>\n",
              "    </tr>\n",
              "    <tr>\n",
              "      <th>397</th>\n",
              "      <td>51725_2021</td>\n",
              "      <td>0.257</td>\n",
              "      <td>7.0</td>\n",
              "      <td>0.275862</td>\n",
              "      <td>3.88</td>\n",
              "      <td>23.5</td>\n",
              "      <td>46.7</td>\n",
              "      <td>75.7</td>\n",
              "      <td>72.6</td>\n",
              "      <td>27.5</td>\n",
              "      <td>0.305970</td>\n",
              "    </tr>\n",
              "    <tr>\n",
              "      <th>398</th>\n",
              "      <td>51817_2021</td>\n",
              "      <td>0.255</td>\n",
              "      <td>13.0</td>\n",
              "      <td>0.811594</td>\n",
              "      <td>4.18</td>\n",
              "      <td>23.2</td>\n",
              "      <td>39.2</td>\n",
              "      <td>74.0</td>\n",
              "      <td>62.9</td>\n",
              "      <td>43.6</td>\n",
              "      <td>0.406250</td>\n",
              "    </tr>\n",
              "    <tr>\n",
              "      <th>399</th>\n",
              "      <td>69102_2021</td>\n",
              "      <td>0.270</td>\n",
              "      <td>7.0</td>\n",
              "      <td>0.900000</td>\n",
              "      <td>4.33</td>\n",
              "      <td>24.7</td>\n",
              "      <td>39.0</td>\n",
              "      <td>81.4</td>\n",
              "      <td>79.8</td>\n",
              "      <td>38.1</td>\n",
              "      <td>0.385542</td>\n",
              "    </tr>\n",
              "  </tbody>\n",
              "</table>\n",
              "<p>400 rows × 11 columns</p>\n",
              "</div>"
            ],
            "text/plain": [
              "     PCODE_YEAR     타율    홈런       볼삼비  ...   컨택%  2S후커트%  2S후선구%       출루율\n",
              "0    60558_2018  0.254  12.0  0.260870  ...  71.5    66.6    33.4  0.309973\n",
              "1    61102_2018  0.296  19.0  0.350000  ...  78.3    76.8    31.6  0.353448\n",
              "2    61186_2018  0.340   2.0  0.812500  ...  82.4    80.2    36.7  0.409877\n",
              "3    61208_2018  0.301   2.0  0.431818  ...  84.7    79.8    29.9  0.348276\n",
              "4    61353_2018  0.279   6.0  0.156250  ...  72.6    63.8    34.8  0.310541\n",
              "..          ...    ...   ...       ...  ...   ...     ...     ...       ...\n",
              "395  51203_2021  0.275   2.0  0.200000  ...  77.0    71.0    30.8  0.319444\n",
              "396  51463_2021  0.312  20.0  0.666667  ...  79.1    77.5    37.8  0.378453\n",
              "397  51725_2021  0.257   7.0  0.275862  ...  75.7    72.6    27.5  0.305970\n",
              "398  51817_2021  0.255  13.0  0.811594  ...  74.0    62.9    43.6  0.406250\n",
              "399  69102_2021  0.270   7.0  0.900000  ...  81.4    79.8    38.1  0.385542\n",
              "\n",
              "[400 rows x 11 columns]"
            ]
          },
          "metadata": {},
          "execution_count": 112
        }
      ]
    },
    {
      "cell_type": "code",
      "metadata": {
        "colab": {
          "base_uri": "https://localhost:8080/"
        },
        "id": "VjZ2X7PBEajd",
        "outputId": "28840bb6-6205-4b37-900a-8ff871407bba"
      },
      "source": [
        "code_list2 = code_list\n",
        "code_list2 "
      ],
      "execution_count": null,
      "outputs": [
        {
          "output_type": "execute_result",
          "data": {
            "text/plain": [
              "[76232, 68050, 75847, 67341, 79192, 78224, 78513, 76290, 79215, 67872]"
            ]
          },
          "metadata": {},
          "execution_count": 113
        }
      ]
    },
    {
      "cell_type": "code",
      "metadata": {
        "colab": {
          "base_uri": "https://localhost:8080/"
        },
        "id": "OR-W-R62Ealr",
        "outputId": "784057c1-cddd-4875-f9e0-b67e28550661"
      },
      "source": [
        "code_list = []\n",
        "\n",
        "for i in range(len(code_list2)):\n",
        "  code_list.append(str(code_list2[i]) + \"_2021\")\n",
        "\n",
        "code_list"
      ],
      "execution_count": null,
      "outputs": [
        {
          "output_type": "execute_result",
          "data": {
            "text/plain": [
              "['76232_2021',\n",
              " '68050_2021',\n",
              " '75847_2021',\n",
              " '67341_2021',\n",
              " '79192_2021',\n",
              " '78224_2021',\n",
              " '78513_2021',\n",
              " '76290_2021',\n",
              " '79215_2021',\n",
              " '67872_2021']"
            ]
          },
          "metadata": {},
          "execution_count": 114
        }
      ]
    },
    {
      "cell_type": "code",
      "metadata": {
        "id": "IUpfcVhqEaow"
      },
      "source": [
        "out_index = []\n",
        "for i in range(len(code_list)):\n",
        "  out_index.append(df1[df1['PCODE_YEAR'] == code_list[i]].index[0])\n",
        "\n",
        "out_index = pd.Series(out_index)\n",
        "\n",
        "df1_test = df1.loc[out_index]\n",
        "df1 = df1.drop(out_index)\n",
        "\n",
        "df1.to_csv('/content/drive/MyDrive/빅콘테스트/Train_dataset/출루율/3번/df1.csv')\n",
        "df1_test.to_csv('/content/drive/MyDrive/빅콘테스트/Train_dataset/출루율/3번/df1_test.csv')"
      ],
      "execution_count": null,
      "outputs": []
    },
    {
      "cell_type": "code",
      "metadata": {
        "id": "w-TthPkWEart"
      },
      "source": [
        "out_index = []\n",
        "for i in range(len(code_list)):\n",
        "  out_index.append(df2[df2['PCODE_YEAR'] == code_list[i]].index[0])\n",
        "\n",
        "out_index = pd.Series(out_index)\n",
        "\n",
        "df2_test = df2.loc[out_index]\n",
        "df2 = df2.drop(out_index)\n",
        "\n",
        "df2.to_csv('/content/drive/MyDrive/빅콘테스트/Train_dataset/출루율/3번/df2.csv')\n",
        "df2_test.to_csv('/content/drive/MyDrive/빅콘테스트/Train_dataset/출루율/3번/df2_test.csv')"
      ],
      "execution_count": null,
      "outputs": []
    },
    {
      "cell_type": "code",
      "metadata": {
        "id": "_VAx330OEat8"
      },
      "source": [
        "out_index = []\n",
        "for i in range(len(code_list)):\n",
        "  out_index.append(df3[df3['PCODE_YEAR'] == code_list[i]].index[0])\n",
        "\n",
        "out_index = pd.Series(out_index)\n",
        "\n",
        "df3_test = df3.loc[out_index]\n",
        "df3 = df3.drop(out_index)\n",
        "\n",
        "df3.to_csv('/content/drive/MyDrive/빅콘테스트/Train_dataset/출루율/3번/df3.csv')\n",
        "df3_test.to_csv('/content/drive/MyDrive/빅콘테스트/Train_dataset/출루율/3번/df3_test.csv')"
      ],
      "execution_count": null,
      "outputs": []
    },
    {
      "cell_type": "code",
      "metadata": {
        "id": "9814ErA5Eax1"
      },
      "source": [
        ""
      ],
      "execution_count": null,
      "outputs": []
    },
    {
      "cell_type": "code",
      "metadata": {
        "id": "rgp-f4wOEXj-"
      },
      "source": [
        ""
      ],
      "execution_count": null,
      "outputs": []
    },
    {
      "cell_type": "code",
      "metadata": {
        "id": "qrCiTIb5EXoJ"
      },
      "source": [
        ""
      ],
      "execution_count": null,
      "outputs": []
    },
    {
      "cell_type": "code",
      "metadata": {
        "id": "qp5pd5nPEXqw"
      },
      "source": [
        ""
      ],
      "execution_count": null,
      "outputs": []
    },
    {
      "cell_type": "code",
      "metadata": {
        "id": "kqQr8gjnEXtm"
      },
      "source": [
        ""
      ],
      "execution_count": null,
      "outputs": []
    },
    {
      "cell_type": "code",
      "metadata": {
        "id": "hrwVbMyyEXwu"
      },
      "source": [
        ""
      ],
      "execution_count": null,
      "outputs": []
    },
    {
      "cell_type": "code",
      "metadata": {
        "id": "GOXhqCJQEXz2"
      },
      "source": [
        ""
      ],
      "execution_count": null,
      "outputs": []
    },
    {
      "cell_type": "code",
      "metadata": {
        "id": "paa3Jn9DEX2Z"
      },
      "source": [
        ""
      ],
      "execution_count": null,
      "outputs": []
    },
    {
      "cell_type": "code",
      "metadata": {
        "id": "imROIIEWEX53"
      },
      "source": [
        ""
      ],
      "execution_count": null,
      "outputs": []
    },
    {
      "cell_type": "code",
      "metadata": {
        "id": "DNTj9XsaEX8v"
      },
      "source": [
        ""
      ],
      "execution_count": null,
      "outputs": []
    },
    {
      "cell_type": "code",
      "metadata": {
        "id": "792lJ0n6EX-0"
      },
      "source": [
        ""
      ],
      "execution_count": null,
      "outputs": []
    },
    {
      "cell_type": "code",
      "metadata": {
        "id": "uR7HQzWcEYBc"
      },
      "source": [
        ""
      ],
      "execution_count": null,
      "outputs": []
    },
    {
      "cell_type": "code",
      "metadata": {
        "id": "sOQ6bbvmEYES"
      },
      "source": [
        ""
      ],
      "execution_count": null,
      "outputs": []
    },
    {
      "cell_type": "code",
      "metadata": {
        "id": "9Xw0zB2yEYG6"
      },
      "source": [
        ""
      ],
      "execution_count": null,
      "outputs": []
    },
    {
      "cell_type": "code",
      "metadata": {
        "id": "pqWEQFLcEYJ0"
      },
      "source": [
        ""
      ],
      "execution_count": null,
      "outputs": []
    },
    {
      "cell_type": "code",
      "metadata": {
        "id": "0DKU-ykbEYM6"
      },
      "source": [
        ""
      ],
      "execution_count": null,
      "outputs": []
    },
    {
      "cell_type": "code",
      "metadata": {
        "id": "D2YRUE2lEYPu"
      },
      "source": [
        ""
      ],
      "execution_count": null,
      "outputs": []
    },
    {
      "cell_type": "code",
      "metadata": {
        "id": "qs8M_wMgEYT3"
      },
      "source": [
        ""
      ],
      "execution_count": null,
      "outputs": []
    },
    {
      "cell_type": "code",
      "metadata": {
        "id": "swBGKlkMEYXw"
      },
      "source": [
        ""
      ],
      "execution_count": null,
      "outputs": []
    },
    {
      "cell_type": "code",
      "metadata": {
        "id": "rArYBb5XEYbV"
      },
      "source": [
        ""
      ],
      "execution_count": null,
      "outputs": []
    },
    {
      "cell_type": "code",
      "metadata": {
        "id": "m8Y2W9RBEYd_"
      },
      "source": [
        ""
      ],
      "execution_count": null,
      "outputs": []
    },
    {
      "cell_type": "code",
      "metadata": {
        "id": "l3a4Q2rdEYgY"
      },
      "source": [
        ""
      ],
      "execution_count": null,
      "outputs": []
    },
    {
      "cell_type": "code",
      "metadata": {
        "id": "I2yq9_AbEYjo"
      },
      "source": [
        ""
      ],
      "execution_count": null,
      "outputs": []
    },
    {
      "cell_type": "code",
      "metadata": {
        "id": "3kNm1DYYEYmf"
      },
      "source": [
        ""
      ],
      "execution_count": null,
      "outputs": []
    },
    {
      "cell_type": "code",
      "metadata": {
        "id": "IRhdckBPEYrh"
      },
      "source": [
        ""
      ],
      "execution_count": null,
      "outputs": []
    },
    {
      "cell_type": "code",
      "metadata": {
        "id": "XPWq5OKPEYwd"
      },
      "source": [
        ""
      ],
      "execution_count": null,
      "outputs": []
    },
    {
      "cell_type": "code",
      "metadata": {
        "id": "AciOhGNbEYzq"
      },
      "source": [
        ""
      ],
      "execution_count": null,
      "outputs": []
    },
    {
      "cell_type": "code",
      "metadata": {
        "id": "10Ftwz1pEY3o"
      },
      "source": [
        ""
      ],
      "execution_count": null,
      "outputs": []
    }
  ]
}