{
  "nbformat": 4,
  "nbformat_minor": 0,
  "metadata": {
    "colab": {
      "name": "최종 OPS  예측.ipynb",
      "provenance": []
    },
    "kernelspec": {
      "name": "python3",
      "display_name": "Python 3"
    },
    "language_info": {
      "name": "python"
    }
  },
  "cells": [
    {
      "cell_type": "code",
      "metadata": {
        "colab": {
          "base_uri": "https://localhost:8080/"
        },
        "id": "rhJbHvTA68st",
        "outputId": "fb52058e-0798-4dbe-e1ae-88e896567b84"
      },
      "source": [
        "from google.colab import drive\n",
        "drive.mount('/content/drive')"
      ],
      "execution_count": null,
      "outputs": [
        {
          "output_type": "stream",
          "name": "stdout",
          "text": [
            "Mounted at /content/drive\n"
          ]
        }
      ]
    },
    {
      "cell_type": "code",
      "metadata": {
        "id": "-Y_2p7S2agFy"
      },
      "source": [
        ""
      ],
      "execution_count": null,
      "outputs": []
    },
    {
      "cell_type": "code",
      "metadata": {
        "id": "V-nfQ-bZ7_Zc"
      },
      "source": [
        "import pandas as pd\n",
        "import numpy as np\n",
        "import matplotlib.pyplot as plt\n",
        "import seaborn as sns\n",
        "%matplotlib inline \n",
        "import warnings\n",
        "warnings.filterwarnings(action='ignore')"
      ],
      "execution_count": null,
      "outputs": []
    },
    {
      "cell_type": "markdown",
      "metadata": {
        "id": "e3-emKCs9fXv"
      },
      "source": [
        "## 1) 장타율 예측"
      ]
    },
    {
      "cell_type": "markdown",
      "metadata": {
        "id": "WORYXiwG9iZw"
      },
      "source": [
        "df1,2 중 RMSE가 가장 낮은 모델 3개 평균\n",
        "\n",
        "+\n",
        "\n",
        "df3 중 RMSE가 가장 낮은 모델 3개 평균\n",
        "\n",
        "+\n",
        "\n",
        "2021년 OPS\n",
        "\n",
        "+\n",
        "\n",
        "9/14"
      ]
    },
    {
      "cell_type": "markdown",
      "metadata": {
        "id": "0dDaBBlL-3Lc"
      },
      "source": [
        "#### 1번 (전체 시즌 평균)\n",
        "\n",
        "\n",
        "df3 사용 \n",
        "Linear Regression, Random Forest, XGBoost\n",
        "\n",
        "모델 3개 예측값 평균\n"
      ]
    },
    {
      "cell_type": "markdown",
      "metadata": {
        "id": "YemlcNE9CD6C"
      },
      "source": [
        "장타율 = Linear Regression"
      ]
    },
    {
      "cell_type": "code",
      "metadata": {
        "colab": {
          "base_uri": "https://localhost:8080/",
          "height": 419
        },
        "id": "_wIwaT4JAbqs",
        "outputId": "b551129a-d36f-4164-a7b1-345312d90235"
      },
      "source": [
        "df3 = pd.read_csv('/content/drive/MyDrive/빅콘테스트/Train_dataset/1번/df3.csv', index_col=0)\n",
        "df3"
      ],
      "execution_count": null,
      "outputs": [
        {
          "output_type": "execute_result",
          "data": {
            "text/html": [
              "<div>\n",
              "<style scoped>\n",
              "    .dataframe tbody tr th:only-of-type {\n",
              "        vertical-align: middle;\n",
              "    }\n",
              "\n",
              "    .dataframe tbody tr th {\n",
              "        vertical-align: top;\n",
              "    }\n",
              "\n",
              "    .dataframe thead th {\n",
              "        text-align: right;\n",
              "    }\n",
              "</style>\n",
              "<table border=\"1\" class=\"dataframe\">\n",
              "  <thead>\n",
              "    <tr style=\"text-align: right;\">\n",
              "      <th></th>\n",
              "      <th>PCODE</th>\n",
              "      <th>타율</th>\n",
              "      <th>홈런</th>\n",
              "      <th>인플레이타구비율</th>\n",
              "      <th>뜬공땅볼비율</th>\n",
              "      <th>배럴지수</th>\n",
              "      <th>장타율</th>\n",
              "    </tr>\n",
              "  </thead>\n",
              "  <tbody>\n",
              "    <tr>\n",
              "      <th>3</th>\n",
              "      <td>50165</td>\n",
              "      <td>0.26050</td>\n",
              "      <td>23.00</td>\n",
              "      <td>0.307494</td>\n",
              "      <td>2.253521</td>\n",
              "      <td>0.157248</td>\n",
              "      <td>0.50700</td>\n",
              "    </tr>\n",
              "    <tr>\n",
              "      <th>11</th>\n",
              "      <td>50350</td>\n",
              "      <td>0.25400</td>\n",
              "      <td>2.00</td>\n",
              "      <td>0.297030</td>\n",
              "      <td>1.897436</td>\n",
              "      <td>0.062500</td>\n",
              "      <td>0.33600</td>\n",
              "    </tr>\n",
              "    <tr>\n",
              "      <th>14</th>\n",
              "      <td>50458</td>\n",
              "      <td>0.24950</td>\n",
              "      <td>1.00</td>\n",
              "      <td>0.290960</td>\n",
              "      <td>1.112360</td>\n",
              "      <td>0.000000</td>\n",
              "      <td>0.29300</td>\n",
              "    </tr>\n",
              "    <tr>\n",
              "      <th>15</th>\n",
              "      <td>50468</td>\n",
              "      <td>0.28000</td>\n",
              "      <td>6.00</td>\n",
              "      <td>0.369048</td>\n",
              "      <td>1.625000</td>\n",
              "      <td>0.108434</td>\n",
              "      <td>0.47700</td>\n",
              "    </tr>\n",
              "    <tr>\n",
              "      <th>16</th>\n",
              "      <td>50469</td>\n",
              "      <td>0.20900</td>\n",
              "      <td>8.00</td>\n",
              "      <td>0.259843</td>\n",
              "      <td>1.629630</td>\n",
              "      <td>0.078261</td>\n",
              "      <td>0.36700</td>\n",
              "    </tr>\n",
              "    <tr>\n",
              "      <th>...</th>\n",
              "      <td>...</td>\n",
              "      <td>...</td>\n",
              "      <td>...</td>\n",
              "      <td>...</td>\n",
              "      <td>...</td>\n",
              "      <td>...</td>\n",
              "      <td>...</td>\n",
              "    </tr>\n",
              "    <tr>\n",
              "      <th>428</th>\n",
              "      <td>79402</td>\n",
              "      <td>0.26225</td>\n",
              "      <td>5.25</td>\n",
              "      <td>0.307811</td>\n",
              "      <td>1.334507</td>\n",
              "      <td>0.022989</td>\n",
              "      <td>0.34375</td>\n",
              "    </tr>\n",
              "    <tr>\n",
              "      <th>430</th>\n",
              "      <td>79456</td>\n",
              "      <td>0.30200</td>\n",
              "      <td>0.75</td>\n",
              "      <td>0.337224</td>\n",
              "      <td>0.790816</td>\n",
              "      <td>0.004754</td>\n",
              "      <td>0.35425</td>\n",
              "    </tr>\n",
              "    <tr>\n",
              "      <th>433</th>\n",
              "      <td>79608</td>\n",
              "      <td>0.31700</td>\n",
              "      <td>10.25</td>\n",
              "      <td>0.344578</td>\n",
              "      <td>1.822034</td>\n",
              "      <td>0.039496</td>\n",
              "      <td>0.46725</td>\n",
              "    </tr>\n",
              "    <tr>\n",
              "      <th>435</th>\n",
              "      <td>99606</td>\n",
              "      <td>0.29500</td>\n",
              "      <td>4.00</td>\n",
              "      <td>0.387597</td>\n",
              "      <td>1.074074</td>\n",
              "      <td>0.042017</td>\n",
              "      <td>0.42100</td>\n",
              "    </tr>\n",
              "    <tr>\n",
              "      <th>436</th>\n",
              "      <td>99810</td>\n",
              "      <td>0.31800</td>\n",
              "      <td>3.00</td>\n",
              "      <td>0.359504</td>\n",
              "      <td>1.142857</td>\n",
              "      <td>0.036697</td>\n",
              "      <td>0.41700</td>\n",
              "    </tr>\n",
              "  </tbody>\n",
              "</table>\n",
              "<p>143 rows × 7 columns</p>\n",
              "</div>"
            ],
            "text/plain": [
              "     PCODE       타율     홈런  인플레이타구비율    뜬공땅볼비율      배럴지수      장타율\n",
              "3    50165  0.26050  23.00  0.307494  2.253521  0.157248  0.50700\n",
              "11   50350  0.25400   2.00  0.297030  1.897436  0.062500  0.33600\n",
              "14   50458  0.24950   1.00  0.290960  1.112360  0.000000  0.29300\n",
              "15   50468  0.28000   6.00  0.369048  1.625000  0.108434  0.47700\n",
              "16   50469  0.20900   8.00  0.259843  1.629630  0.078261  0.36700\n",
              "..     ...      ...    ...       ...       ...       ...      ...\n",
              "428  79402  0.26225   5.25  0.307811  1.334507  0.022989  0.34375\n",
              "430  79456  0.30200   0.75  0.337224  0.790816  0.004754  0.35425\n",
              "433  79608  0.31700  10.25  0.344578  1.822034  0.039496  0.46725\n",
              "435  99606  0.29500   4.00  0.387597  1.074074  0.042017  0.42100\n",
              "436  99810  0.31800   3.00  0.359504  1.142857  0.036697  0.41700\n",
              "\n",
              "[143 rows x 7 columns]"
            ]
          },
          "metadata": {},
          "execution_count": 3
        }
      ]
    },
    {
      "cell_type": "code",
      "metadata": {
        "id": "QCX9pSHJAtbh"
      },
      "source": [
        "from sklearn.model_selection import train_test_split\n",
        "\n",
        "#linear regression\n",
        "x = df3[['타율','홈런','인플레이타구비율','뜬공땅볼비율','배럴지수']]\n",
        "y = df3[['장타율']]\n",
        "x_train, x_test, y_train, y_test = train_test_split(x, y, train_size=0.8, test_size=0.2)"
      ],
      "execution_count": null,
      "outputs": []
    },
    {
      "cell_type": "code",
      "metadata": {
        "id": "1JZWD2MvAtgu"
      },
      "source": [
        "# 칼럼별 분포를 정규화 시켜줄 필요성 \n",
        "from sklearn.preprocessing import StandardScaler\n",
        "scaler = StandardScaler()\n",
        "\n",
        "x_train = scaler.fit_transform(x_train)\n",
        "x_test= scaler.transform(x_test)"
      ],
      "execution_count": null,
      "outputs": []
    },
    {
      "cell_type": "code",
      "metadata": {
        "colab": {
          "base_uri": "https://localhost:8080/"
        },
        "id": "vkscs4YwAtmi",
        "outputId": "4727d0a5-d450-4b7c-905f-682a1ed518f9"
      },
      "source": [
        "from sklearn.linear_model import LinearRegression\n",
        "lr_model = LinearRegression()\n",
        "lr_model.fit(x_train, y_train)"
      ],
      "execution_count": null,
      "outputs": [
        {
          "output_type": "execute_result",
          "data": {
            "text/plain": [
              "LinearRegression(copy_X=True, fit_intercept=True, n_jobs=None, normalize=False)"
            ]
          },
          "metadata": {},
          "execution_count": 7
        }
      ]
    },
    {
      "cell_type": "code",
      "metadata": {
        "id": "7Zw04V-BAtqk"
      },
      "source": [
        "y_pred = lr_model.predict(x_test)"
      ],
      "execution_count": null,
      "outputs": []
    },
    {
      "cell_type": "code",
      "metadata": {
        "colab": {
          "base_uri": "https://localhost:8080/",
          "height": 359
        },
        "id": "cyUn7aoxAtur",
        "outputId": "06e02b0f-c017-4d1a-915f-0f2b8ec334c0"
      },
      "source": [
        "df3_test = pd.read_csv('/content/drive/MyDrive/빅콘테스트/Train_dataset/1번/df3_test.csv', index_col=0)\n",
        "df3_test"
      ],
      "execution_count": null,
      "outputs": [
        {
          "output_type": "execute_result",
          "data": {
            "text/html": [
              "<div>\n",
              "<style scoped>\n",
              "    .dataframe tbody tr th:only-of-type {\n",
              "        vertical-align: middle;\n",
              "    }\n",
              "\n",
              "    .dataframe tbody tr th {\n",
              "        vertical-align: top;\n",
              "    }\n",
              "\n",
              "    .dataframe thead th {\n",
              "        text-align: right;\n",
              "    }\n",
              "</style>\n",
              "<table border=\"1\" class=\"dataframe\">\n",
              "  <thead>\n",
              "    <tr style=\"text-align: right;\">\n",
              "      <th></th>\n",
              "      <th>PCODE</th>\n",
              "      <th>타율</th>\n",
              "      <th>홈런</th>\n",
              "      <th>인플레이타구비율</th>\n",
              "      <th>뜬공땅볼비율</th>\n",
              "      <th>배럴지수</th>\n",
              "      <th>장타율</th>\n",
              "    </tr>\n",
              "  </thead>\n",
              "  <tbody>\n",
              "    <tr>\n",
              "      <th>372</th>\n",
              "      <td>76232</td>\n",
              "      <td>0.34700</td>\n",
              "      <td>24.00</td>\n",
              "      <td>0.346276</td>\n",
              "      <td>2.455882</td>\n",
              "      <td>0.092649</td>\n",
              "      <td>0.60650</td>\n",
              "    </tr>\n",
              "    <tr>\n",
              "      <th>262</th>\n",
              "      <td>68050</td>\n",
              "      <td>0.33775</td>\n",
              "      <td>18.75</td>\n",
              "      <td>0.382602</td>\n",
              "      <td>1.640000</td>\n",
              "      <td>0.095482</td>\n",
              "      <td>0.53550</td>\n",
              "    </tr>\n",
              "    <tr>\n",
              "      <th>369</th>\n",
              "      <td>75847</td>\n",
              "      <td>0.27625</td>\n",
              "      <td>29.25</td>\n",
              "      <td>0.296059</td>\n",
              "      <td>3.041176</td>\n",
              "      <td>0.119007</td>\n",
              "      <td>0.55050</td>\n",
              "    </tr>\n",
              "    <tr>\n",
              "      <th>245</th>\n",
              "      <td>67341</td>\n",
              "      <td>0.34225</td>\n",
              "      <td>7.50</td>\n",
              "      <td>0.368867</td>\n",
              "      <td>1.720395</td>\n",
              "      <td>0.033686</td>\n",
              "      <td>0.49000</td>\n",
              "    </tr>\n",
              "    <tr>\n",
              "      <th>416</th>\n",
              "      <td>79192</td>\n",
              "      <td>0.31375</td>\n",
              "      <td>16.00</td>\n",
              "      <td>0.353955</td>\n",
              "      <td>1.683333</td>\n",
              "      <td>0.101105</td>\n",
              "      <td>0.49175</td>\n",
              "    </tr>\n",
              "    <tr>\n",
              "      <th>398</th>\n",
              "      <td>78224</td>\n",
              "      <td>0.28850</td>\n",
              "      <td>26.25</td>\n",
              "      <td>0.349153</td>\n",
              "      <td>1.596639</td>\n",
              "      <td>0.145780</td>\n",
              "      <td>0.52325</td>\n",
              "    </tr>\n",
              "    <tr>\n",
              "      <th>402</th>\n",
              "      <td>78513</td>\n",
              "      <td>0.31250</td>\n",
              "      <td>21.25</td>\n",
              "      <td>0.328302</td>\n",
              "      <td>1.517685</td>\n",
              "      <td>0.084567</td>\n",
              "      <td>0.50050</td>\n",
              "    </tr>\n",
              "    <tr>\n",
              "      <th>375</th>\n",
              "      <td>76290</td>\n",
              "      <td>0.32125</td>\n",
              "      <td>16.25</td>\n",
              "      <td>0.343522</td>\n",
              "      <td>1.537705</td>\n",
              "      <td>0.095029</td>\n",
              "      <td>0.50425</td>\n",
              "    </tr>\n",
              "    <tr>\n",
              "      <th>418</th>\n",
              "      <td>79215</td>\n",
              "      <td>0.32175</td>\n",
              "      <td>9.50</td>\n",
              "      <td>0.356465</td>\n",
              "      <td>1.893878</td>\n",
              "      <td>0.089202</td>\n",
              "      <td>0.46125</td>\n",
              "    </tr>\n",
              "    <tr>\n",
              "      <th>257</th>\n",
              "      <td>67872</td>\n",
              "      <td>0.27850</td>\n",
              "      <td>30.50</td>\n",
              "      <td>0.313156</td>\n",
              "      <td>2.399061</td>\n",
              "      <td>0.105556</td>\n",
              "      <td>0.52750</td>\n",
              "    </tr>\n",
              "  </tbody>\n",
              "</table>\n",
              "</div>"
            ],
            "text/plain": [
              "     PCODE       타율     홈런  인플레이타구비율    뜬공땅볼비율      배럴지수      장타율\n",
              "372  76232  0.34700  24.00  0.346276  2.455882  0.092649  0.60650\n",
              "262  68050  0.33775  18.75  0.382602  1.640000  0.095482  0.53550\n",
              "369  75847  0.27625  29.25  0.296059  3.041176  0.119007  0.55050\n",
              "245  67341  0.34225   7.50  0.368867  1.720395  0.033686  0.49000\n",
              "416  79192  0.31375  16.00  0.353955  1.683333  0.101105  0.49175\n",
              "398  78224  0.28850  26.25  0.349153  1.596639  0.145780  0.52325\n",
              "402  78513  0.31250  21.25  0.328302  1.517685  0.084567  0.50050\n",
              "375  76290  0.32125  16.25  0.343522  1.537705  0.095029  0.50425\n",
              "418  79215  0.32175   9.50  0.356465  1.893878  0.089202  0.46125\n",
              "257  67872  0.27850  30.50  0.313156  2.399061  0.105556  0.52750"
            ]
          },
          "metadata": {},
          "execution_count": 9
        }
      ]
    },
    {
      "cell_type": "code",
      "metadata": {
        "id": "41D0osEoAtzx"
      },
      "source": [
        "df3_x_test = df3_test[['타율','홈런','인플레이타구비율','뜬공땅볼비율','배럴지수']]\n",
        "df3_x_test = x_test= scaler.transform(df3_x_test)"
      ],
      "execution_count": null,
      "outputs": []
    },
    {
      "cell_type": "code",
      "metadata": {
        "colab": {
          "base_uri": "https://localhost:8080/"
        },
        "id": "RrYDJGhuAt3T",
        "outputId": "81af6704-678c-45e4-cf14-fdf9ef84cf02"
      },
      "source": [
        "df3_test_lr = lr_model.predict(df3_x_test)\n",
        "df3_test_lr"
      ],
      "execution_count": null,
      "outputs": [
        {
          "output_type": "execute_result",
          "data": {
            "text/plain": [
              "array([[0.58837749],\n",
              "       [0.54748118],\n",
              "       [0.55112142],\n",
              "       [0.46833586],\n",
              "       [0.51638107],\n",
              "       [0.55712598],\n",
              "       [0.52833319],\n",
              "       [0.52403716],\n",
              "       [0.49278197],\n",
              "       [0.5433752 ]])"
            ]
          },
          "metadata": {},
          "execution_count": 17
        }
      ]
    },
    {
      "cell_type": "markdown",
      "metadata": {
        "id": "1LMSNHl4B-ju"
      },
      "source": [
        "장타율 - RandomForest"
      ]
    },
    {
      "cell_type": "code",
      "metadata": {
        "id": "bpt1wlCIAt8P"
      },
      "source": [
        "x = df3[['타율','홈런','인플레이타구비율','뜬공땅볼비율','배럴지수']]\n",
        "y = df3[['장타율']]\n",
        "x_train, x_test, y_train, y_test = train_test_split(x, y, train_size=0.8, test_size=0.2)"
      ],
      "execution_count": null,
      "outputs": []
    },
    {
      "cell_type": "code",
      "metadata": {
        "colab": {
          "base_uri": "https://localhost:8080/"
        },
        "id": "-x6g6NV-AuCu",
        "outputId": "b89cf9cb-a406-4642-cf61-2937576d74fa"
      },
      "source": [
        "rf_model = RandomForestRegressor(max_depth=5, n_estimators = 100, \n",
        "                                 min_samples_leaf=2, min_samples_split = 3, \n",
        "                                 bootstrap=True, random_state=0)\n",
        "\n",
        "rf_model.fit(x_train, y_train)"
      ],
      "execution_count": null,
      "outputs": [
        {
          "output_type": "execute_result",
          "data": {
            "text/plain": [
              "RandomForestRegressor(bootstrap=True, ccp_alpha=0.0, criterion='mse',\n",
              "                      max_depth=5, max_features='auto', max_leaf_nodes=None,\n",
              "                      max_samples=None, min_impurity_decrease=0.0,\n",
              "                      min_impurity_split=None, min_samples_leaf=2,\n",
              "                      min_samples_split=3, min_weight_fraction_leaf=0.0,\n",
              "                      n_estimators=100, n_jobs=None, oob_score=False,\n",
              "                      random_state=0, verbose=0, warm_start=False)"
            ]
          },
          "metadata": {},
          "execution_count": 16
        }
      ]
    },
    {
      "cell_type": "code",
      "metadata": {
        "colab": {
          "base_uri": "https://localhost:8080/",
          "height": 359
        },
        "id": "f6K9NeDwCt63",
        "outputId": "1eeaabb7-8a2c-4d52-e39a-266f781fc994"
      },
      "source": [
        "df3_test = pd.read_csv('/content/drive/MyDrive/빅콘테스트/Train_dataset/1번/df3_test.csv', index_col=0)\n",
        "df3_x_test = df3_test[['타율','홈런','인플레이타구비율','뜬공땅볼비율','배럴지수']]\n",
        "df3_x_test"
      ],
      "execution_count": null,
      "outputs": [
        {
          "output_type": "execute_result",
          "data": {
            "text/html": [
              "<div>\n",
              "<style scoped>\n",
              "    .dataframe tbody tr th:only-of-type {\n",
              "        vertical-align: middle;\n",
              "    }\n",
              "\n",
              "    .dataframe tbody tr th {\n",
              "        vertical-align: top;\n",
              "    }\n",
              "\n",
              "    .dataframe thead th {\n",
              "        text-align: right;\n",
              "    }\n",
              "</style>\n",
              "<table border=\"1\" class=\"dataframe\">\n",
              "  <thead>\n",
              "    <tr style=\"text-align: right;\">\n",
              "      <th></th>\n",
              "      <th>타율</th>\n",
              "      <th>홈런</th>\n",
              "      <th>인플레이타구비율</th>\n",
              "      <th>뜬공땅볼비율</th>\n",
              "      <th>배럴지수</th>\n",
              "    </tr>\n",
              "  </thead>\n",
              "  <tbody>\n",
              "    <tr>\n",
              "      <th>372</th>\n",
              "      <td>0.34700</td>\n",
              "      <td>24.00</td>\n",
              "      <td>0.346276</td>\n",
              "      <td>2.455882</td>\n",
              "      <td>0.092649</td>\n",
              "    </tr>\n",
              "    <tr>\n",
              "      <th>262</th>\n",
              "      <td>0.33775</td>\n",
              "      <td>18.75</td>\n",
              "      <td>0.382602</td>\n",
              "      <td>1.640000</td>\n",
              "      <td>0.095482</td>\n",
              "    </tr>\n",
              "    <tr>\n",
              "      <th>369</th>\n",
              "      <td>0.27625</td>\n",
              "      <td>29.25</td>\n",
              "      <td>0.296059</td>\n",
              "      <td>3.041176</td>\n",
              "      <td>0.119007</td>\n",
              "    </tr>\n",
              "    <tr>\n",
              "      <th>245</th>\n",
              "      <td>0.34225</td>\n",
              "      <td>7.50</td>\n",
              "      <td>0.368867</td>\n",
              "      <td>1.720395</td>\n",
              "      <td>0.033686</td>\n",
              "    </tr>\n",
              "    <tr>\n",
              "      <th>416</th>\n",
              "      <td>0.31375</td>\n",
              "      <td>16.00</td>\n",
              "      <td>0.353955</td>\n",
              "      <td>1.683333</td>\n",
              "      <td>0.101105</td>\n",
              "    </tr>\n",
              "    <tr>\n",
              "      <th>398</th>\n",
              "      <td>0.28850</td>\n",
              "      <td>26.25</td>\n",
              "      <td>0.349153</td>\n",
              "      <td>1.596639</td>\n",
              "      <td>0.145780</td>\n",
              "    </tr>\n",
              "    <tr>\n",
              "      <th>402</th>\n",
              "      <td>0.31250</td>\n",
              "      <td>21.25</td>\n",
              "      <td>0.328302</td>\n",
              "      <td>1.517685</td>\n",
              "      <td>0.084567</td>\n",
              "    </tr>\n",
              "    <tr>\n",
              "      <th>375</th>\n",
              "      <td>0.32125</td>\n",
              "      <td>16.25</td>\n",
              "      <td>0.343522</td>\n",
              "      <td>1.537705</td>\n",
              "      <td>0.095029</td>\n",
              "    </tr>\n",
              "    <tr>\n",
              "      <th>418</th>\n",
              "      <td>0.32175</td>\n",
              "      <td>9.50</td>\n",
              "      <td>0.356465</td>\n",
              "      <td>1.893878</td>\n",
              "      <td>0.089202</td>\n",
              "    </tr>\n",
              "    <tr>\n",
              "      <th>257</th>\n",
              "      <td>0.27850</td>\n",
              "      <td>30.50</td>\n",
              "      <td>0.313156</td>\n",
              "      <td>2.399061</td>\n",
              "      <td>0.105556</td>\n",
              "    </tr>\n",
              "  </tbody>\n",
              "</table>\n",
              "</div>"
            ],
            "text/plain": [
              "          타율     홈런  인플레이타구비율    뜬공땅볼비율      배럴지수\n",
              "372  0.34700  24.00  0.346276  2.455882  0.092649\n",
              "262  0.33775  18.75  0.382602  1.640000  0.095482\n",
              "369  0.27625  29.25  0.296059  3.041176  0.119007\n",
              "245  0.34225   7.50  0.368867  1.720395  0.033686\n",
              "416  0.31375  16.00  0.353955  1.683333  0.101105\n",
              "398  0.28850  26.25  0.349153  1.596639  0.145780\n",
              "402  0.31250  21.25  0.328302  1.517685  0.084567\n",
              "375  0.32125  16.25  0.343522  1.537705  0.095029\n",
              "418  0.32175   9.50  0.356465  1.893878  0.089202\n",
              "257  0.27850  30.50  0.313156  2.399061  0.105556"
            ]
          },
          "metadata": {},
          "execution_count": 21
        }
      ]
    },
    {
      "cell_type": "code",
      "metadata": {
        "colab": {
          "base_uri": "https://localhost:8080/"
        },
        "id": "SxYocEbiAuFn",
        "outputId": "3385d2cc-9f4a-4146-deeb-b06467c69919"
      },
      "source": [
        "df3_test_rf = rf_model.predict(df3_x_test)\n",
        "df3_test_rf"
      ],
      "execution_count": null,
      "outputs": [
        {
          "output_type": "execute_result",
          "data": {
            "text/plain": [
              "array([0.57767228, 0.55759904, 0.51569175, 0.44511387, 0.4823849 ,\n",
              "       0.53210468, 0.56353394, 0.48794398, 0.46420736, 0.50152073])"
            ]
          },
          "metadata": {},
          "execution_count": 22
        }
      ]
    },
    {
      "cell_type": "markdown",
      "metadata": {
        "id": "yMxIh8xvC3-d"
      },
      "source": [
        "장타율 - XGBoost"
      ]
    },
    {
      "cell_type": "code",
      "metadata": {
        "id": "eUD1GQ30DBue"
      },
      "source": [
        "x = df3[['타율','홈런','인플레이타구비율','뜬공땅볼비율','배럴지수']]\n",
        "y = df3[['장타율']]\n",
        "x_train, x_test, y_train, y_test = train_test_split(x, y, train_size=0.8, test_size=0.2)"
      ],
      "execution_count": null,
      "outputs": []
    },
    {
      "cell_type": "code",
      "metadata": {
        "colab": {
          "base_uri": "https://localhost:8080/"
        },
        "id": "lovtCXFRAuK6",
        "outputId": "ef9330c7-bad5-491f-f97a-5b235da15cf3"
      },
      "source": [
        "import xgboost\n",
        "\n",
        "xgb_model = xgboost.XGBRegressor(base_score=0.5, booster='gbtree', colsample_bylevel=1,\n",
        "             colsample_bynode=1, colsample_bytree=0.75, gamma=0,\n",
        "             importance_type='gain', learning_rate=0.02, max_delta_step=0,\n",
        "             max_depth=7, min_child_weight=1, missing=None, n_estimators=1000,\n",
        "             n_jobs=1, nthread=None, objective='reg:linear', random_state=0,\n",
        "             reg_alpha=0.03, reg_lambda=1, scale_pos_weight=1, seed=None,\n",
        "             silent=None, subsample=1, verbosity=1)\n",
        "xgb_model.fit(x_train,y_train)"
      ],
      "execution_count": null,
      "outputs": [
        {
          "output_type": "stream",
          "name": "stdout",
          "text": [
            "[12:05:37] WARNING: /workspace/src/objective/regression_obj.cu:152: reg:linear is now deprecated in favor of reg:squarederror.\n"
          ]
        },
        {
          "output_type": "execute_result",
          "data": {
            "text/plain": [
              "XGBRegressor(base_score=0.5, booster='gbtree', colsample_bylevel=1,\n",
              "             colsample_bynode=1, colsample_bytree=0.75, gamma=0,\n",
              "             importance_type='gain', learning_rate=0.02, max_delta_step=0,\n",
              "             max_depth=7, min_child_weight=1, missing=None, n_estimators=1000,\n",
              "             n_jobs=1, nthread=None, objective='reg:linear', random_state=0,\n",
              "             reg_alpha=0.03, reg_lambda=1, scale_pos_weight=1, seed=None,\n",
              "             silent=None, subsample=1, verbosity=1)"
            ]
          },
          "metadata": {},
          "execution_count": 25
        }
      ]
    },
    {
      "cell_type": "code",
      "metadata": {
        "colab": {
          "base_uri": "https://localhost:8080/"
        },
        "id": "vzN4ta-BAbun",
        "outputId": "f203c965-1cfb-4d93-9460-90845ff284b9"
      },
      "source": [
        "df3_test_xgb = xgb_model.predict(df3_x_test)\n",
        "df3_test_xgb"
      ],
      "execution_count": null,
      "outputs": [
        {
          "output_type": "execute_result",
          "data": {
            "text/plain": [
              "array([0.50899404, 0.5147848 , 0.5077991 , 0.4585406 , 0.5005234 ,\n",
              "       0.5164686 , 0.5195724 , 0.4767856 , 0.4697238 , 0.49102458],\n",
              "      dtype=float32)"
            ]
          },
          "metadata": {},
          "execution_count": 28
        }
      ]
    },
    {
      "cell_type": "code",
      "metadata": {
        "colab": {
          "base_uri": "https://localhost:8080/"
        },
        "id": "8E5mwHC2FSIN",
        "outputId": "02fa7e1f-c501-4c57-f32c-5444f5c9239e"
      },
      "source": [
        "df3_test_lr = np.array(df3_test_lr).flatten()\n",
        "df3_test_lr"
      ],
      "execution_count": null,
      "outputs": [
        {
          "output_type": "execute_result",
          "data": {
            "text/plain": [
              "array([0.5883775 , 0.5474812 , 0.5511214 , 0.46833587, 0.5163811 ,\n",
              "       0.557126  , 0.5283332 , 0.5240372 , 0.49278197, 0.5433752 ],\n",
              "      dtype=float32)"
            ]
          },
          "metadata": {},
          "execution_count": 49
        }
      ]
    },
    {
      "cell_type": "code",
      "metadata": {
        "colab": {
          "base_uri": "https://localhost:8080/"
        },
        "id": "GddmnblpAb1O",
        "outputId": "1cbba217-d774-413a-94a2-8f2e1c12e9ee"
      },
      "source": [
        "df3_test_rf = df3_test_rf.astype(np.float32)\n",
        "df3_test_rf"
      ],
      "execution_count": null,
      "outputs": [
        {
          "output_type": "execute_result",
          "data": {
            "text/plain": [
              "array([0.5776723 , 0.55759907, 0.51569176, 0.44511387, 0.4823849 ,\n",
              "       0.5321047 , 0.56353396, 0.48794398, 0.46420735, 0.50152075],\n",
              "      dtype=float32)"
            ]
          },
          "metadata": {},
          "execution_count": 37
        }
      ]
    },
    {
      "cell_type": "code",
      "metadata": {
        "colab": {
          "base_uri": "https://localhost:8080/"
        },
        "id": "amclFyjyAb4_",
        "outputId": "e7b6fd69-4f7b-4ff9-9b33-bd0a03f18043"
      },
      "source": [
        "df3_test_xgb"
      ],
      "execution_count": null,
      "outputs": [
        {
          "output_type": "execute_result",
          "data": {
            "text/plain": [
              "array([0.50899404, 0.5147848 , 0.5077991 , 0.4585406 , 0.5005234 ,\n",
              "       0.5164686 , 0.5195724 , 0.4767856 , 0.4697238 , 0.49102458],\n",
              "      dtype=float32)"
            ]
          },
          "metadata": {},
          "execution_count": 31
        }
      ]
    },
    {
      "cell_type": "code",
      "metadata": {
        "colab": {
          "base_uri": "https://localhost:8080/"
        },
        "id": "rkvtlPChDte2",
        "outputId": "f7643b31-6c37-42f1-8685-ef0a458140dc"
      },
      "source": [
        "slg1 = (df3_test_lr + df3_test_rf + df3_test_xgb) / 3\n",
        "slg1"
      ],
      "execution_count": null,
      "outputs": [
        {
          "output_type": "execute_result",
          "data": {
            "text/plain": [
              "array([0.55834794, 0.539955  , 0.5248708 , 0.4573301 , 0.4997631 ,\n",
              "       0.5352331 , 0.5371465 , 0.49625555, 0.47557104, 0.5119735 ],\n",
              "      dtype=float32)"
            ]
          },
          "metadata": {},
          "execution_count": 51
        }
      ]
    },
    {
      "cell_type": "code",
      "metadata": {
        "id": "Tx_q6uyuAcCd"
      },
      "source": [
        ""
      ],
      "execution_count": null,
      "outputs": []
    },
    {
      "cell_type": "markdown",
      "metadata": {
        "id": "pAI9CEL9_YXX"
      },
      "source": [
        "#### 2번 (연도별 가중치 평균)\n",
        "\n",
        "df3 사용 Linear Regression, RandomForest, XGBoost\n",
        "모델 3개 예측값 평균"
      ]
    },
    {
      "cell_type": "code",
      "metadata": {
        "colab": {
          "base_uri": "https://localhost:8080/",
          "height": 419
        },
        "id": "FKIhSi2fGBxr",
        "outputId": "89e8f489-cc35-4a92-a17b-329fa61a1e39"
      },
      "source": [
        "df6 = pd.read_csv('/content/drive/MyDrive/빅콘테스트/Train_dataset/2번/df3.csv', index_col=0)\n",
        "df6"
      ],
      "execution_count": null,
      "outputs": [
        {
          "output_type": "execute_result",
          "data": {
            "text/html": [
              "<div>\n",
              "<style scoped>\n",
              "    .dataframe tbody tr th:only-of-type {\n",
              "        vertical-align: middle;\n",
              "    }\n",
              "\n",
              "    .dataframe tbody tr th {\n",
              "        vertical-align: top;\n",
              "    }\n",
              "\n",
              "    .dataframe thead th {\n",
              "        text-align: right;\n",
              "    }\n",
              "</style>\n",
              "<table border=\"1\" class=\"dataframe\">\n",
              "  <thead>\n",
              "    <tr style=\"text-align: right;\">\n",
              "      <th></th>\n",
              "      <th>PCODE</th>\n",
              "      <th>타율</th>\n",
              "      <th>홈런</th>\n",
              "      <th>인플레이타구비율</th>\n",
              "      <th>뜬공땅볼비율</th>\n",
              "      <th>배럴지수</th>\n",
              "      <th>장타율</th>\n",
              "    </tr>\n",
              "  </thead>\n",
              "  <tbody>\n",
              "    <tr>\n",
              "      <th>3</th>\n",
              "      <td>50165</td>\n",
              "      <td>0.26050</td>\n",
              "      <td>23.00</td>\n",
              "      <td>0.307494</td>\n",
              "      <td>2.239521</td>\n",
              "      <td>0.182801</td>\n",
              "      <td>0.50700</td>\n",
              "    </tr>\n",
              "    <tr>\n",
              "      <th>11</th>\n",
              "      <td>50350</td>\n",
              "      <td>0.25400</td>\n",
              "      <td>2.00</td>\n",
              "      <td>0.297030</td>\n",
              "      <td>1.897436</td>\n",
              "      <td>0.068750</td>\n",
              "      <td>0.33600</td>\n",
              "    </tr>\n",
              "    <tr>\n",
              "      <th>14</th>\n",
              "      <td>50458</td>\n",
              "      <td>0.24950</td>\n",
              "      <td>1.00</td>\n",
              "      <td>0.290960</td>\n",
              "      <td>1.101408</td>\n",
              "      <td>0.000000</td>\n",
              "      <td>0.29300</td>\n",
              "    </tr>\n",
              "    <tr>\n",
              "      <th>15</th>\n",
              "      <td>50468</td>\n",
              "      <td>0.28000</td>\n",
              "      <td>6.00</td>\n",
              "      <td>0.369048</td>\n",
              "      <td>1.625000</td>\n",
              "      <td>0.119277</td>\n",
              "      <td>0.47700</td>\n",
              "    </tr>\n",
              "    <tr>\n",
              "      <th>16</th>\n",
              "      <td>50469</td>\n",
              "      <td>0.20900</td>\n",
              "      <td>8.00</td>\n",
              "      <td>0.259843</td>\n",
              "      <td>1.629630</td>\n",
              "      <td>0.086087</td>\n",
              "      <td>0.36700</td>\n",
              "    </tr>\n",
              "    <tr>\n",
              "      <th>...</th>\n",
              "      <td>...</td>\n",
              "      <td>...</td>\n",
              "      <td>...</td>\n",
              "      <td>...</td>\n",
              "      <td>...</td>\n",
              "      <td>...</td>\n",
              "      <td>...</td>\n",
              "    </tr>\n",
              "    <tr>\n",
              "      <th>428</th>\n",
              "      <td>79402</td>\n",
              "      <td>0.26225</td>\n",
              "      <td>5.25</td>\n",
              "      <td>0.307811</td>\n",
              "      <td>1.346857</td>\n",
              "      <td>0.021220</td>\n",
              "      <td>0.34375</td>\n",
              "    </tr>\n",
              "    <tr>\n",
              "      <th>430</th>\n",
              "      <td>79456</td>\n",
              "      <td>0.30200</td>\n",
              "      <td>0.75</td>\n",
              "      <td>0.337224</td>\n",
              "      <td>0.826477</td>\n",
              "      <td>0.003962</td>\n",
              "      <td>0.35425</td>\n",
              "    </tr>\n",
              "    <tr>\n",
              "      <th>433</th>\n",
              "      <td>79608</td>\n",
              "      <td>0.31700</td>\n",
              "      <td>10.25</td>\n",
              "      <td>0.344578</td>\n",
              "      <td>1.793256</td>\n",
              "      <td>0.035714</td>\n",
              "      <td>0.46725</td>\n",
              "    </tr>\n",
              "    <tr>\n",
              "      <th>435</th>\n",
              "      <td>99606</td>\n",
              "      <td>0.29500</td>\n",
              "      <td>4.00</td>\n",
              "      <td>0.387597</td>\n",
              "      <td>1.074074</td>\n",
              "      <td>0.029412</td>\n",
              "      <td>0.42100</td>\n",
              "    </tr>\n",
              "    <tr>\n",
              "      <th>436</th>\n",
              "      <td>99810</td>\n",
              "      <td>0.31800</td>\n",
              "      <td>3.00</td>\n",
              "      <td>0.359504</td>\n",
              "      <td>1.142857</td>\n",
              "      <td>0.025688</td>\n",
              "      <td>0.41700</td>\n",
              "    </tr>\n",
              "  </tbody>\n",
              "</table>\n",
              "<p>143 rows × 7 columns</p>\n",
              "</div>"
            ],
            "text/plain": [
              "     PCODE       타율     홈런  인플레이타구비율    뜬공땅볼비율      배럴지수      장타율\n",
              "3    50165  0.26050  23.00  0.307494  2.239521  0.182801  0.50700\n",
              "11   50350  0.25400   2.00  0.297030  1.897436  0.068750  0.33600\n",
              "14   50458  0.24950   1.00  0.290960  1.101408  0.000000  0.29300\n",
              "15   50468  0.28000   6.00  0.369048  1.625000  0.119277  0.47700\n",
              "16   50469  0.20900   8.00  0.259843  1.629630  0.086087  0.36700\n",
              "..     ...      ...    ...       ...       ...       ...      ...\n",
              "428  79402  0.26225   5.25  0.307811  1.346857  0.021220  0.34375\n",
              "430  79456  0.30200   0.75  0.337224  0.826477  0.003962  0.35425\n",
              "433  79608  0.31700  10.25  0.344578  1.793256  0.035714  0.46725\n",
              "435  99606  0.29500   4.00  0.387597  1.074074  0.029412  0.42100\n",
              "436  99810  0.31800   3.00  0.359504  1.142857  0.025688  0.41700\n",
              "\n",
              "[143 rows x 7 columns]"
            ]
          },
          "metadata": {},
          "execution_count": 88
        }
      ]
    },
    {
      "cell_type": "markdown",
      "metadata": {
        "id": "cPXVke1cGvbD"
      },
      "source": [
        "장타율 - Linear Regression"
      ]
    },
    {
      "cell_type": "code",
      "metadata": {
        "id": "u9uI_YkbGUPw"
      },
      "source": [
        "x = df6[['타율','홈런','인플레이타구비율','뜬공땅볼비율','배럴지수']]\n",
        "y = df6[['장타율']]\n",
        "x_train, x_test, y_train, y_test = train_test_split(x, y, train_size=0.8, test_size=0.2)"
      ],
      "execution_count": null,
      "outputs": []
    },
    {
      "cell_type": "code",
      "metadata": {
        "id": "YEAP52uSGUTW"
      },
      "source": [
        "from sklearn.preprocessing import StandardScaler\n",
        "scaler = StandardScaler()\n",
        "\n",
        "x_train = scaler.fit_transform(x_train)\n",
        "x_test= scaler.transform(x_test)"
      ],
      "execution_count": null,
      "outputs": []
    },
    {
      "cell_type": "code",
      "metadata": {
        "colab": {
          "base_uri": "https://localhost:8080/"
        },
        "id": "7PEL9dGoGUW1",
        "outputId": "6ed939e7-9025-4459-b6c7-f7b4fb899b94"
      },
      "source": [
        "from sklearn.linear_model import LinearRegression\n",
        "lr_model = LinearRegression()\n",
        "lr_model.fit(x_train, y_train)"
      ],
      "execution_count": null,
      "outputs": [
        {
          "output_type": "execute_result",
          "data": {
            "text/plain": [
              "LinearRegression(copy_X=True, fit_intercept=True, n_jobs=None, normalize=False)"
            ]
          },
          "metadata": {},
          "execution_count": 91
        }
      ]
    },
    {
      "cell_type": "code",
      "metadata": {
        "colab": {
          "base_uri": "https://localhost:8080/",
          "height": 359
        },
        "id": "esLMafR8GUdh",
        "outputId": "fd69f6c9-2ccf-4cbd-e456-4a428e84ec3d"
      },
      "source": [
        "df6_test = pd.read_csv('/content/drive/MyDrive/빅콘테스트/Train_dataset/2번/df3_test.csv', index_col = 0)\n",
        "df6_test"
      ],
      "execution_count": null,
      "outputs": [
        {
          "output_type": "execute_result",
          "data": {
            "text/html": [
              "<div>\n",
              "<style scoped>\n",
              "    .dataframe tbody tr th:only-of-type {\n",
              "        vertical-align: middle;\n",
              "    }\n",
              "\n",
              "    .dataframe tbody tr th {\n",
              "        vertical-align: top;\n",
              "    }\n",
              "\n",
              "    .dataframe thead th {\n",
              "        text-align: right;\n",
              "    }\n",
              "</style>\n",
              "<table border=\"1\" class=\"dataframe\">\n",
              "  <thead>\n",
              "    <tr style=\"text-align: right;\">\n",
              "      <th></th>\n",
              "      <th>PCODE</th>\n",
              "      <th>타율</th>\n",
              "      <th>홈런</th>\n",
              "      <th>인플레이타구비율</th>\n",
              "      <th>뜬공땅볼비율</th>\n",
              "      <th>배럴지수</th>\n",
              "      <th>장타율</th>\n",
              "    </tr>\n",
              "  </thead>\n",
              "  <tbody>\n",
              "    <tr>\n",
              "      <th>372</th>\n",
              "      <td>76232</td>\n",
              "      <td>0.34700</td>\n",
              "      <td>24.00</td>\n",
              "      <td>0.346276</td>\n",
              "      <td>2.512333</td>\n",
              "      <td>0.090429</td>\n",
              "      <td>0.60650</td>\n",
              "    </tr>\n",
              "    <tr>\n",
              "      <th>262</th>\n",
              "      <td>68050</td>\n",
              "      <td>0.33775</td>\n",
              "      <td>18.75</td>\n",
              "      <td>0.382602</td>\n",
              "      <td>1.656646</td>\n",
              "      <td>0.090367</td>\n",
              "      <td>0.53550</td>\n",
              "    </tr>\n",
              "    <tr>\n",
              "      <th>369</th>\n",
              "      <td>75847</td>\n",
              "      <td>0.27625</td>\n",
              "      <td>29.25</td>\n",
              "      <td>0.296059</td>\n",
              "      <td>3.029412</td>\n",
              "      <td>0.115154</td>\n",
              "      <td>0.55050</td>\n",
              "    </tr>\n",
              "    <tr>\n",
              "      <th>245</th>\n",
              "      <td>67341</td>\n",
              "      <td>0.34225</td>\n",
              "      <td>7.50</td>\n",
              "      <td>0.368867</td>\n",
              "      <td>1.747616</td>\n",
              "      <td>0.034280</td>\n",
              "      <td>0.49000</td>\n",
              "    </tr>\n",
              "    <tr>\n",
              "      <th>416</th>\n",
              "      <td>79192</td>\n",
              "      <td>0.31375</td>\n",
              "      <td>16.00</td>\n",
              "      <td>0.353955</td>\n",
              "      <td>1.732507</td>\n",
              "      <td>0.095752</td>\n",
              "      <td>0.49175</td>\n",
              "    </tr>\n",
              "    <tr>\n",
              "      <th>398</th>\n",
              "      <td>78224</td>\n",
              "      <td>0.28850</td>\n",
              "      <td>26.25</td>\n",
              "      <td>0.349153</td>\n",
              "      <td>1.586055</td>\n",
              "      <td>0.139557</td>\n",
              "      <td>0.52325</td>\n",
              "    </tr>\n",
              "    <tr>\n",
              "      <th>402</th>\n",
              "      <td>78513</td>\n",
              "      <td>0.31250</td>\n",
              "      <td>21.25</td>\n",
              "      <td>0.328302</td>\n",
              "      <td>1.553327</td>\n",
              "      <td>0.080761</td>\n",
              "      <td>0.50050</td>\n",
              "    </tr>\n",
              "    <tr>\n",
              "      <th>375</th>\n",
              "      <td>76290</td>\n",
              "      <td>0.32125</td>\n",
              "      <td>16.25</td>\n",
              "      <td>0.343522</td>\n",
              "      <td>1.583758</td>\n",
              "      <td>0.094591</td>\n",
              "      <td>0.50425</td>\n",
              "    </tr>\n",
              "    <tr>\n",
              "      <th>418</th>\n",
              "      <td>79215</td>\n",
              "      <td>0.32175</td>\n",
              "      <td>9.50</td>\n",
              "      <td>0.356465</td>\n",
              "      <td>1.957112</td>\n",
              "      <td>0.086541</td>\n",
              "      <td>0.46125</td>\n",
              "    </tr>\n",
              "    <tr>\n",
              "      <th>257</th>\n",
              "      <td>67872</td>\n",
              "      <td>0.27850</td>\n",
              "      <td>30.50</td>\n",
              "      <td>0.313156</td>\n",
              "      <td>2.391977</td>\n",
              "      <td>0.102302</td>\n",
              "      <td>0.52750</td>\n",
              "    </tr>\n",
              "  </tbody>\n",
              "</table>\n",
              "</div>"
            ],
            "text/plain": [
              "     PCODE       타율     홈런  인플레이타구비율    뜬공땅볼비율      배럴지수      장타율\n",
              "372  76232  0.34700  24.00  0.346276  2.512333  0.090429  0.60650\n",
              "262  68050  0.33775  18.75  0.382602  1.656646  0.090367  0.53550\n",
              "369  75847  0.27625  29.25  0.296059  3.029412  0.115154  0.55050\n",
              "245  67341  0.34225   7.50  0.368867  1.747616  0.034280  0.49000\n",
              "416  79192  0.31375  16.00  0.353955  1.732507  0.095752  0.49175\n",
              "398  78224  0.28850  26.25  0.349153  1.586055  0.139557  0.52325\n",
              "402  78513  0.31250  21.25  0.328302  1.553327  0.080761  0.50050\n",
              "375  76290  0.32125  16.25  0.343522  1.583758  0.094591  0.50425\n",
              "418  79215  0.32175   9.50  0.356465  1.957112  0.086541  0.46125\n",
              "257  67872  0.27850  30.50  0.313156  2.391977  0.102302  0.52750"
            ]
          },
          "metadata": {},
          "execution_count": 92
        }
      ]
    },
    {
      "cell_type": "code",
      "metadata": {
        "id": "qmUxVksfGUih"
      },
      "source": [
        "df6_test = df6_test[['타율','홈런','인플레이타구비율','뜬공땅볼비율','배럴지수']]\n",
        "df6_test = scaler.fit_transform(df6_test)"
      ],
      "execution_count": null,
      "outputs": []
    },
    {
      "cell_type": "code",
      "metadata": {
        "colab": {
          "base_uri": "https://localhost:8080/"
        },
        "id": "4LtTP1bpGB1a",
        "outputId": "3b01878a-5eb1-4c96-8e98-74c6337bd580"
      },
      "source": [
        "df6_test_lr = lr_model.predict(df6_test)\n",
        "df6_test_lr"
      ],
      "execution_count": null,
      "outputs": [
        {
          "output_type": "execute_result",
          "data": {
            "text/plain": [
              "array([[0.47302147],\n",
              "       [0.42162859],\n",
              "       [0.41143011],\n",
              "       [0.33598431],\n",
              "       [0.3808349 ],\n",
              "       [0.41991057],\n",
              "       [0.39188163],\n",
              "       [0.39479052],\n",
              "       [0.35987733],\n",
              "       [0.4011815 ]])"
            ]
          },
          "metadata": {},
          "execution_count": 94
        }
      ]
    },
    {
      "cell_type": "markdown",
      "metadata": {
        "id": "w14ydxCyIG_U"
      },
      "source": [
        "장타율 - RandomForest"
      ]
    },
    {
      "cell_type": "code",
      "metadata": {
        "id": "NS-AFihnGB7K"
      },
      "source": [
        "x = df6[['타율','홈런','인플레이타구비율','뜬공땅볼비율','배럴지수']]\n",
        "y = df6[['장타율']]\n",
        "x_train, x_test, y_train, y_test = train_test_split(x, y, train_size=0.8, test_size=0.2)"
      ],
      "execution_count": null,
      "outputs": []
    },
    {
      "cell_type": "code",
      "metadata": {
        "colab": {
          "base_uri": "https://localhost:8080/"
        },
        "id": "VWWfE8CJGB_-",
        "outputId": "24a38970-e9ea-45fa-c456-3fbe372ac830"
      },
      "source": [
        "rf_model = RandomForestRegressor(max_depth=6, n_estimators = 100, min_samples_leaf=2, min_samples_split = 2, bootstrap=True, random_state=0)\n",
        "\n",
        "rf_model.fit(x_train, y_train)"
      ],
      "execution_count": null,
      "outputs": [
        {
          "output_type": "execute_result",
          "data": {
            "text/plain": [
              "RandomForestRegressor(bootstrap=True, ccp_alpha=0.0, criterion='mse',\n",
              "                      max_depth=6, max_features='auto', max_leaf_nodes=None,\n",
              "                      max_samples=None, min_impurity_decrease=0.0,\n",
              "                      min_impurity_split=None, min_samples_leaf=2,\n",
              "                      min_samples_split=2, min_weight_fraction_leaf=0.0,\n",
              "                      n_estimators=100, n_jobs=None, oob_score=False,\n",
              "                      random_state=0, verbose=0, warm_start=False)"
            ]
          },
          "metadata": {},
          "execution_count": 73
        }
      ]
    },
    {
      "cell_type": "code",
      "metadata": {
        "id": "7rcK4y9qGCEX"
      },
      "source": [
        "df6_test = pd.read_csv('/content/drive/MyDrive/빅콘테스트/Train_dataset/2번/df3_test.csv', index_col = 0)\n",
        "df6_test = df6_test[['타율','홈런','인플레이타구비율','뜬공땅볼비율','배럴지수']]"
      ],
      "execution_count": null,
      "outputs": []
    },
    {
      "cell_type": "code",
      "metadata": {
        "colab": {
          "base_uri": "https://localhost:8080/"
        },
        "id": "J7pg3B6LGCHd",
        "outputId": "3facb87b-8ea8-4261-bb37-23d9708753c7"
      },
      "source": [
        "df6_test_rf = rf_model.predict(df6_test)\n",
        "df6_test_rf"
      ],
      "execution_count": null,
      "outputs": [
        {
          "output_type": "execute_result",
          "data": {
            "text/plain": [
              "array([0.54583108, 0.53326571, 0.53107061, 0.43464688, 0.47852914,\n",
              "       0.53209853, 0.53085015, 0.47818684, 0.44936046, 0.53270857])"
            ]
          },
          "metadata": {},
          "execution_count": 76
        }
      ]
    },
    {
      "cell_type": "code",
      "metadata": {
        "id": "20SGYPf4IpnP"
      },
      "source": [
        "x = df6[['타율','홈런','인플레이타구비율','뜬공땅볼비율','배럴지수']]\n",
        "y = df6[['장타율']]\n",
        "x_train, x_test, y_train, y_test = train_test_split(x, y, train_size=0.8, test_size=0.2)"
      ],
      "execution_count": null,
      "outputs": []
    },
    {
      "cell_type": "code",
      "metadata": {
        "colab": {
          "base_uri": "https://localhost:8080/"
        },
        "id": "mWMiTamxGCKK",
        "outputId": "c72b04f0-480d-465c-e8f0-f7f23e2a0e11"
      },
      "source": [
        "xgb_model = xgboost.XGBRegressor(base_score=0.5, booster='gbtree', colsample_bylevel=1,\n",
        "             colsample_bynode=1, colsample_bytree=0.75, gamma=0,\n",
        "             importance_type='gain', learning_rate=0.02, max_delta_step=0,\n",
        "             max_depth=7, min_child_weight=1, missing=None, n_estimators=1000,\n",
        "             n_jobs=1, nthread=None, objective='reg:linear', random_state=0,\n",
        "             reg_alpha=0.03, reg_lambda=1, scale_pos_weight=1, seed=None,\n",
        "             silent=None, subsample=1, verbosity=1)\n",
        "xgb_model.fit(x_train,y_train)"
      ],
      "execution_count": null,
      "outputs": [
        {
          "output_type": "stream",
          "name": "stdout",
          "text": [
            "[12:29:55] WARNING: /workspace/src/objective/regression_obj.cu:152: reg:linear is now deprecated in favor of reg:squarederror.\n"
          ]
        },
        {
          "output_type": "execute_result",
          "data": {
            "text/plain": [
              "XGBRegressor(base_score=0.5, booster='gbtree', colsample_bylevel=1,\n",
              "             colsample_bynode=1, colsample_bytree=0.75, gamma=0,\n",
              "             importance_type='gain', learning_rate=0.02, max_delta_step=0,\n",
              "             max_depth=7, min_child_weight=1, missing=None, n_estimators=1000,\n",
              "             n_jobs=1, nthread=None, objective='reg:linear', random_state=0,\n",
              "             reg_alpha=0.03, reg_lambda=1, scale_pos_weight=1, seed=None,\n",
              "             silent=None, subsample=1, verbosity=1)"
            ]
          },
          "metadata": {},
          "execution_count": 79
        }
      ]
    },
    {
      "cell_type": "code",
      "metadata": {
        "colab": {
          "base_uri": "https://localhost:8080/"
        },
        "id": "WKA-4DREGCOL",
        "outputId": "03918d68-7d39-4e8f-a0d6-479ca951b3c7"
      },
      "source": [
        "df6_test_xgb = xgb_model.predict(df6_test)\n",
        "df6_test_xgb"
      ],
      "execution_count": null,
      "outputs": [
        {
          "output_type": "execute_result",
          "data": {
            "text/plain": [
              "array([0.55344313, 0.51930195, 0.5162652 , 0.46641502, 0.5031612 ,\n",
              "       0.52902853, 0.5416157 , 0.49011928, 0.48254287, 0.54582655],\n",
              "      dtype=float32)"
            ]
          },
          "metadata": {},
          "execution_count": 80
        }
      ]
    },
    {
      "cell_type": "code",
      "metadata": {
        "colab": {
          "base_uri": "https://localhost:8080/"
        },
        "id": "jU57BN0iGCWx",
        "outputId": "1ed9594b-5721-49c5-cbfd-967860865807"
      },
      "source": [
        "df6_test_lr = np.array(df6_test_lr).flatten()\n",
        "df6_test_lr"
      ],
      "execution_count": null,
      "outputs": [
        {
          "output_type": "execute_result",
          "data": {
            "text/plain": [
              "array([0.47302147, 0.42162859, 0.41143011, 0.33598431, 0.3808349 ,\n",
              "       0.41991057, 0.39188163, 0.39479052, 0.35987733, 0.4011815 ])"
            ]
          },
          "metadata": {},
          "execution_count": 95
        }
      ]
    },
    {
      "cell_type": "code",
      "metadata": {
        "colab": {
          "base_uri": "https://localhost:8080/"
        },
        "id": "OqXLm1mgIyFW",
        "outputId": "499a5985-93c8-45af-ecf4-af902c85edca"
      },
      "source": [
        "df6_test_rf = df6_test_rf.astype(np.float32)\n",
        "df6_test_rf"
      ],
      "execution_count": null,
      "outputs": [
        {
          "output_type": "execute_result",
          "data": {
            "text/plain": [
              "array([0.5458311 , 0.5332657 , 0.5310706 , 0.43464687, 0.47852913,\n",
              "       0.53209853, 0.5308502 , 0.47818685, 0.44936046, 0.5327086 ],\n",
              "      dtype=float32)"
            ]
          },
          "metadata": {},
          "execution_count": 84
        }
      ]
    },
    {
      "cell_type": "code",
      "metadata": {
        "colab": {
          "base_uri": "https://localhost:8080/"
        },
        "id": "U-IR2jOBIyJI",
        "outputId": "dc65cbf6-3412-4a56-d001-24521c828f3a"
      },
      "source": [
        "slg2 = (df6_test_lr + df6_test_rf + df6_test_xgb)/3\n",
        "slg2"
      ],
      "execution_count": null,
      "outputs": [
        {
          "output_type": "execute_result",
          "data": {
            "text/plain": [
              "array([0.52409856, 0.49139875, 0.4862553 , 0.41234874, 0.45417507,\n",
              "       0.49367921, 0.48811584, 0.45436555, 0.43059356, 0.49323888])"
            ]
          },
          "metadata": {},
          "execution_count": 96
        }
      ]
    },
    {
      "cell_type": "markdown",
      "metadata": {
        "id": "PqrkRAY2_byV"
      },
      "source": [
        "#### 3번 (시즌별로 따로 집계)\n",
        "\n",
        "df3 사용 Linear Regression, RandomForest, XGBoost 모델 3개 예측값 평균"
      ]
    },
    {
      "cell_type": "code",
      "metadata": {
        "colab": {
          "base_uri": "https://localhost:8080/",
          "height": 419
        },
        "id": "jU22iNFX87pS",
        "outputId": "3bb7d1ba-2650-4d47-dba1-82cc4d8c865a"
      },
      "source": [
        "df9 = pd.read_csv('/content/drive/MyDrive/빅콘테스트/Train_dataset/3번/df3.csv', index_col=0)\n",
        "df9"
      ],
      "execution_count": null,
      "outputs": [
        {
          "output_type": "execute_result",
          "data": {
            "text/html": [
              "<div>\n",
              "<style scoped>\n",
              "    .dataframe tbody tr th:only-of-type {\n",
              "        vertical-align: middle;\n",
              "    }\n",
              "\n",
              "    .dataframe tbody tr th {\n",
              "        vertical-align: top;\n",
              "    }\n",
              "\n",
              "    .dataframe thead th {\n",
              "        text-align: right;\n",
              "    }\n",
              "</style>\n",
              "<table border=\"1\" class=\"dataframe\">\n",
              "  <thead>\n",
              "    <tr style=\"text-align: right;\">\n",
              "      <th></th>\n",
              "      <th>PCODE_YEAR</th>\n",
              "      <th>타율</th>\n",
              "      <th>홈런</th>\n",
              "      <th>인플레이타구비율</th>\n",
              "      <th>뜬공땅볼비율</th>\n",
              "      <th>배럴지수</th>\n",
              "      <th>장타율</th>\n",
              "    </tr>\n",
              "  </thead>\n",
              "  <tbody>\n",
              "    <tr>\n",
              "      <th>0</th>\n",
              "      <td>50165_2020</td>\n",
              "      <td>0.278</td>\n",
              "      <td>38</td>\n",
              "      <td>0.324111</td>\n",
              "      <td>2.386364</td>\n",
              "      <td>0.160584</td>\n",
              "      <td>0.592</td>\n",
              "    </tr>\n",
              "    <tr>\n",
              "      <th>1</th>\n",
              "      <td>50165_2021</td>\n",
              "      <td>0.243</td>\n",
              "      <td>8</td>\n",
              "      <td>0.276119</td>\n",
              "      <td>2.037037</td>\n",
              "      <td>0.150376</td>\n",
              "      <td>0.422</td>\n",
              "    </tr>\n",
              "    <tr>\n",
              "      <th>2</th>\n",
              "      <td>50350_2020</td>\n",
              "      <td>0.254</td>\n",
              "      <td>2</td>\n",
              "      <td>0.297030</td>\n",
              "      <td>1.897436</td>\n",
              "      <td>0.062500</td>\n",
              "      <td>0.336</td>\n",
              "    </tr>\n",
              "    <tr>\n",
              "      <th>3</th>\n",
              "      <td>50458_2020</td>\n",
              "      <td>0.232</td>\n",
              "      <td>1</td>\n",
              "      <td>0.280193</td>\n",
              "      <td>1.239130</td>\n",
              "      <td>0.000000</td>\n",
              "      <td>0.272</td>\n",
              "    </tr>\n",
              "    <tr>\n",
              "      <th>4</th>\n",
              "      <td>50458_2021</td>\n",
              "      <td>0.267</td>\n",
              "      <td>1</td>\n",
              "      <td>0.306122</td>\n",
              "      <td>0.976744</td>\n",
              "      <td>0.000000</td>\n",
              "      <td>0.314</td>\n",
              "    </tr>\n",
              "    <tr>\n",
              "      <th>...</th>\n",
              "      <td>...</td>\n",
              "      <td>...</td>\n",
              "      <td>...</td>\n",
              "      <td>...</td>\n",
              "      <td>...</td>\n",
              "      <td>...</td>\n",
              "      <td>...</td>\n",
              "    </tr>\n",
              "    <tr>\n",
              "      <th>461</th>\n",
              "      <td>79608_2019</td>\n",
              "      <td>0.315</td>\n",
              "      <td>5</td>\n",
              "      <td>0.346032</td>\n",
              "      <td>1.666667</td>\n",
              "      <td>0.020619</td>\n",
              "      <td>0.412</td>\n",
              "    </tr>\n",
              "    <tr>\n",
              "      <th>462</th>\n",
              "      <td>79608_2020</td>\n",
              "      <td>0.286</td>\n",
              "      <td>8</td>\n",
              "      <td>0.309859</td>\n",
              "      <td>2.203390</td>\n",
              "      <td>0.028571</td>\n",
              "      <td>0.413</td>\n",
              "    </tr>\n",
              "    <tr>\n",
              "      <th>463</th>\n",
              "      <td>79608_2021</td>\n",
              "      <td>0.325</td>\n",
              "      <td>5</td>\n",
              "      <td>0.376471</td>\n",
              "      <td>1.268293</td>\n",
              "      <td>0.048193</td>\n",
              "      <td>0.481</td>\n",
              "    </tr>\n",
              "    <tr>\n",
              "      <th>464</th>\n",
              "      <td>99606_2018</td>\n",
              "      <td>0.295</td>\n",
              "      <td>4</td>\n",
              "      <td>0.387597</td>\n",
              "      <td>1.074074</td>\n",
              "      <td>0.042017</td>\n",
              "      <td>0.421</td>\n",
              "    </tr>\n",
              "    <tr>\n",
              "      <th>465</th>\n",
              "      <td>99810_2018</td>\n",
              "      <td>0.318</td>\n",
              "      <td>3</td>\n",
              "      <td>0.359504</td>\n",
              "      <td>1.142857</td>\n",
              "      <td>0.036697</td>\n",
              "      <td>0.417</td>\n",
              "    </tr>\n",
              "  </tbody>\n",
              "</table>\n",
              "<p>456 rows × 7 columns</p>\n",
              "</div>"
            ],
            "text/plain": [
              "     PCODE_YEAR     타율  홈런  인플레이타구비율    뜬공땅볼비율      배럴지수    장타율\n",
              "0    50165_2020  0.278  38  0.324111  2.386364  0.160584  0.592\n",
              "1    50165_2021  0.243   8  0.276119  2.037037  0.150376  0.422\n",
              "2    50350_2020  0.254   2  0.297030  1.897436  0.062500  0.336\n",
              "3    50458_2020  0.232   1  0.280193  1.239130  0.000000  0.272\n",
              "4    50458_2021  0.267   1  0.306122  0.976744  0.000000  0.314\n",
              "..          ...    ...  ..       ...       ...       ...    ...\n",
              "461  79608_2019  0.315   5  0.346032  1.666667  0.020619  0.412\n",
              "462  79608_2020  0.286   8  0.309859  2.203390  0.028571  0.413\n",
              "463  79608_2021  0.325   5  0.376471  1.268293  0.048193  0.481\n",
              "464  99606_2018  0.295   4  0.387597  1.074074  0.042017  0.421\n",
              "465  99810_2018  0.318   3  0.359504  1.142857  0.036697  0.417\n",
              "\n",
              "[456 rows x 7 columns]"
            ]
          },
          "metadata": {},
          "execution_count": 97
        }
      ]
    },
    {
      "cell_type": "markdown",
      "metadata": {
        "id": "iOm5nxX-KWID"
      },
      "source": [
        "장타율 - Linear Regression"
      ]
    },
    {
      "cell_type": "code",
      "metadata": {
        "id": "kBoamJtY87sB"
      },
      "source": [
        "x = df9[['타율','홈런','인플레이타구비율','뜬공땅볼비율','배럴지수']]\n",
        "y = df9[['장타율']]\n",
        "x_train, x_test, y_train, y_test = train_test_split(x, y, train_size=0.8, test_size=0.2)"
      ],
      "execution_count": null,
      "outputs": []
    },
    {
      "cell_type": "code",
      "metadata": {
        "id": "9GxZ79oF87ul"
      },
      "source": [
        "scaler = StandardScaler()\n",
        "\n",
        "x_train = scaler.fit_transform(x_train)\n",
        "x_test= scaler.transform(x_test)"
      ],
      "execution_count": null,
      "outputs": []
    },
    {
      "cell_type": "code",
      "metadata": {
        "colab": {
          "base_uri": "https://localhost:8080/"
        },
        "id": "Uq0hKa4v87xK",
        "outputId": "580c00e1-ea0d-4749-ea42-ae6b2152449e"
      },
      "source": [
        "from sklearn.linear_model import LinearRegression\n",
        "lr_model = LinearRegression()\n",
        "lr_model.fit(x_train, y_train)"
      ],
      "execution_count": null,
      "outputs": [
        {
          "output_type": "execute_result",
          "data": {
            "text/plain": [
              "LinearRegression(copy_X=True, fit_intercept=True, n_jobs=None, normalize=False)"
            ]
          },
          "metadata": {},
          "execution_count": 100
        }
      ]
    },
    {
      "cell_type": "code",
      "metadata": {
        "colab": {
          "base_uri": "https://localhost:8080/",
          "height": 359
        },
        "id": "gbTEoeZU87z6",
        "outputId": "ef0eccbd-e98c-4291-e57a-9079b2792121"
      },
      "source": [
        "df9_test = pd.read_csv('/content/drive/MyDrive/빅콘테스트/Train_dataset/3번/df3_test.csv', index_col = 0)\n",
        "df9_test "
      ],
      "execution_count": null,
      "outputs": [
        {
          "output_type": "execute_result",
          "data": {
            "text/html": [
              "<div>\n",
              "<style scoped>\n",
              "    .dataframe tbody tr th:only-of-type {\n",
              "        vertical-align: middle;\n",
              "    }\n",
              "\n",
              "    .dataframe tbody tr th {\n",
              "        vertical-align: top;\n",
              "    }\n",
              "\n",
              "    .dataframe thead th {\n",
              "        text-align: right;\n",
              "    }\n",
              "</style>\n",
              "<table border=\"1\" class=\"dataframe\">\n",
              "  <thead>\n",
              "    <tr style=\"text-align: right;\">\n",
              "      <th></th>\n",
              "      <th>PCODE_YEAR</th>\n",
              "      <th>타율</th>\n",
              "      <th>홈런</th>\n",
              "      <th>인플레이타구비율</th>\n",
              "      <th>뜬공땅볼비율</th>\n",
              "      <th>배럴지수</th>\n",
              "      <th>장타율</th>\n",
              "    </tr>\n",
              "  </thead>\n",
              "  <tbody>\n",
              "    <tr>\n",
              "      <th>343</th>\n",
              "      <td>76232_2021</td>\n",
              "      <td>0.348</td>\n",
              "      <td>20</td>\n",
              "      <td>0.341837</td>\n",
              "      <td>3.000000</td>\n",
              "      <td>0.105769</td>\n",
              "      <td>0.664</td>\n",
              "    </tr>\n",
              "    <tr>\n",
              "      <th>220</th>\n",
              "      <td>68050_2021</td>\n",
              "      <td>0.395</td>\n",
              "      <td>10</td>\n",
              "      <td>0.455399</td>\n",
              "      <td>1.928571</td>\n",
              "      <td>0.079365</td>\n",
              "      <td>0.579</td>\n",
              "    </tr>\n",
              "    <tr>\n",
              "      <th>337</th>\n",
              "      <td>75847_2021</td>\n",
              "      <td>0.299</td>\n",
              "      <td>20</td>\n",
              "      <td>0.320988</td>\n",
              "      <td>2.620690</td>\n",
              "      <td>0.114754</td>\n",
              "      <td>0.598</td>\n",
              "    </tr>\n",
              "    <tr>\n",
              "      <th>201</th>\n",
              "      <td>67341_2021</td>\n",
              "      <td>0.345</td>\n",
              "      <td>3</td>\n",
              "      <td>0.372180</td>\n",
              "      <td>1.258621</td>\n",
              "      <td>0.028455</td>\n",
              "      <td>0.503</td>\n",
              "    </tr>\n",
              "    <tr>\n",
              "      <th>435</th>\n",
              "      <td>79192_2021</td>\n",
              "      <td>0.316</td>\n",
              "      <td>12</td>\n",
              "      <td>0.353293</td>\n",
              "      <td>2.129032</td>\n",
              "      <td>0.110465</td>\n",
              "      <td>0.533</td>\n",
              "    </tr>\n",
              "    <tr>\n",
              "      <th>401</th>\n",
              "      <td>78224_2021</td>\n",
              "      <td>0.271</td>\n",
              "      <td>16</td>\n",
              "      <td>0.307692</td>\n",
              "      <td>1.562500</td>\n",
              "      <td>0.166667</td>\n",
              "      <td>0.508</td>\n",
              "    </tr>\n",
              "    <tr>\n",
              "      <th>409</th>\n",
              "      <td>78513_2021</td>\n",
              "      <td>0.328</td>\n",
              "      <td>4</td>\n",
              "      <td>0.365079</td>\n",
              "      <td>1.863636</td>\n",
              "      <td>0.062222</td>\n",
              "      <td>0.447</td>\n",
              "    </tr>\n",
              "    <tr>\n",
              "      <th>354</th>\n",
              "      <td>76290_2021</td>\n",
              "      <td>0.288</td>\n",
              "      <td>12</td>\n",
              "      <td>0.290179</td>\n",
              "      <td>1.695652</td>\n",
              "      <td>0.131068</td>\n",
              "      <td>0.468</td>\n",
              "    </tr>\n",
              "    <tr>\n",
              "      <th>439</th>\n",
              "      <td>79215_2021</td>\n",
              "      <td>0.338</td>\n",
              "      <td>2</td>\n",
              "      <td>0.396648</td>\n",
              "      <td>2.192308</td>\n",
              "      <td>0.049689</td>\n",
              "      <td>0.435</td>\n",
              "    </tr>\n",
              "    <tr>\n",
              "      <th>214</th>\n",
              "      <td>67872_2021</td>\n",
              "      <td>0.240</td>\n",
              "      <td>18</td>\n",
              "      <td>0.247475</td>\n",
              "      <td>1.840909</td>\n",
              "      <td>0.105000</td>\n",
              "      <td>0.459</td>\n",
              "    </tr>\n",
              "  </tbody>\n",
              "</table>\n",
              "</div>"
            ],
            "text/plain": [
              "     PCODE_YEAR     타율  홈런  인플레이타구비율    뜬공땅볼비율      배럴지수    장타율\n",
              "343  76232_2021  0.348  20  0.341837  3.000000  0.105769  0.664\n",
              "220  68050_2021  0.395  10  0.455399  1.928571  0.079365  0.579\n",
              "337  75847_2021  0.299  20  0.320988  2.620690  0.114754  0.598\n",
              "201  67341_2021  0.345   3  0.372180  1.258621  0.028455  0.503\n",
              "435  79192_2021  0.316  12  0.353293  2.129032  0.110465  0.533\n",
              "401  78224_2021  0.271  16  0.307692  1.562500  0.166667  0.508\n",
              "409  78513_2021  0.328   4  0.365079  1.863636  0.062222  0.447\n",
              "354  76290_2021  0.288  12  0.290179  1.695652  0.131068  0.468\n",
              "439  79215_2021  0.338   2  0.396648  2.192308  0.049689  0.435\n",
              "214  67872_2021  0.240  18  0.247475  1.840909  0.105000  0.459"
            ]
          },
          "metadata": {},
          "execution_count": 101
        }
      ]
    },
    {
      "cell_type": "code",
      "metadata": {
        "id": "LgYrZyS-8721"
      },
      "source": [
        "df9_test  = df9_test [['타율','홈런','인플레이타구비율','뜬공땅볼비율','배럴지수']]\n",
        "df9_test = scaler.fit_transform(df9_test)"
      ],
      "execution_count": null,
      "outputs": []
    },
    {
      "cell_type": "code",
      "metadata": {
        "colab": {
          "base_uri": "https://localhost:8080/"
        },
        "id": "z_I10V8t875J",
        "outputId": "23698984-50f2-4747-c9d0-b1be1ba7965f"
      },
      "source": [
        "df9_test_lr = lr_model.predict(df9_test)\n",
        "df9_test_lr"
      ],
      "execution_count": null,
      "outputs": [
        {
          "output_type": "execute_result",
          "data": {
            "text/plain": [
              "array([[0.50198291],\n",
              "       [0.46916383],\n",
              "       [0.45578272],\n",
              "       [0.34233661],\n",
              "       [0.42262075],\n",
              "       [0.43053858],\n",
              "       [0.35794401],\n",
              "       [0.40376794],\n",
              "       [0.35215386],\n",
              "       [0.37274725]])"
            ]
          },
          "metadata": {},
          "execution_count": 104
        }
      ]
    },
    {
      "cell_type": "markdown",
      "metadata": {
        "id": "2wW6mDkWK916"
      },
      "source": [
        "장타율 - RandomForest"
      ]
    },
    {
      "cell_type": "code",
      "metadata": {
        "id": "fLpsiEMt8778"
      },
      "source": [
        "x = df9[['타율','홈런','인플레이타구비율','뜬공땅볼비율','배럴지수']]\n",
        "y = df9[['장타율']]\n",
        "x_train, x_test, y_train, y_test = train_test_split(x, y, train_size=0.8, test_size=0.2)"
      ],
      "execution_count": null,
      "outputs": []
    },
    {
      "cell_type": "code",
      "metadata": {
        "colab": {
          "base_uri": "https://localhost:8080/"
        },
        "id": "NuryCPOs87-v",
        "outputId": "870c2040-6517-47ff-f2eb-cb6ac044785d"
      },
      "source": [
        "rf_model = RandomForestRegressor(max_depth=6, n_estimators = 200, min_samples_leaf=1, min_samples_split = 2, bootstrap=True, random_state=0)\n",
        "\n",
        "rf_model.fit(x_train, y_train)"
      ],
      "execution_count": null,
      "outputs": [
        {
          "output_type": "execute_result",
          "data": {
            "text/plain": [
              "RandomForestRegressor(bootstrap=True, ccp_alpha=0.0, criterion='mse',\n",
              "                      max_depth=6, max_features='auto', max_leaf_nodes=None,\n",
              "                      max_samples=None, min_impurity_decrease=0.0,\n",
              "                      min_impurity_split=None, min_samples_leaf=1,\n",
              "                      min_samples_split=2, min_weight_fraction_leaf=0.0,\n",
              "                      n_estimators=200, n_jobs=None, oob_score=False,\n",
              "                      random_state=0, verbose=0, warm_start=False)"
            ]
          },
          "metadata": {},
          "execution_count": 106
        }
      ]
    },
    {
      "cell_type": "code",
      "metadata": {
        "colab": {
          "base_uri": "https://localhost:8080/",
          "height": 359
        },
        "id": "lVYdanAL88Ba",
        "outputId": "875b7c66-db6d-47bd-921e-969ca4fce3f6"
      },
      "source": [
        "df9_test = pd.read_csv('/content/drive/MyDrive/빅콘테스트/Train_dataset/3번/df3_test.csv', index_col = 0)\n",
        "df9_test  = df9_test [['타율','홈런','인플레이타구비율','뜬공땅볼비율','배럴지수']]\n",
        "df9_test "
      ],
      "execution_count": null,
      "outputs": [
        {
          "output_type": "execute_result",
          "data": {
            "text/html": [
              "<div>\n",
              "<style scoped>\n",
              "    .dataframe tbody tr th:only-of-type {\n",
              "        vertical-align: middle;\n",
              "    }\n",
              "\n",
              "    .dataframe tbody tr th {\n",
              "        vertical-align: top;\n",
              "    }\n",
              "\n",
              "    .dataframe thead th {\n",
              "        text-align: right;\n",
              "    }\n",
              "</style>\n",
              "<table border=\"1\" class=\"dataframe\">\n",
              "  <thead>\n",
              "    <tr style=\"text-align: right;\">\n",
              "      <th></th>\n",
              "      <th>타율</th>\n",
              "      <th>홈런</th>\n",
              "      <th>인플레이타구비율</th>\n",
              "      <th>뜬공땅볼비율</th>\n",
              "      <th>배럴지수</th>\n",
              "    </tr>\n",
              "  </thead>\n",
              "  <tbody>\n",
              "    <tr>\n",
              "      <th>343</th>\n",
              "      <td>0.348</td>\n",
              "      <td>20</td>\n",
              "      <td>0.341837</td>\n",
              "      <td>3.000000</td>\n",
              "      <td>0.105769</td>\n",
              "    </tr>\n",
              "    <tr>\n",
              "      <th>220</th>\n",
              "      <td>0.395</td>\n",
              "      <td>10</td>\n",
              "      <td>0.455399</td>\n",
              "      <td>1.928571</td>\n",
              "      <td>0.079365</td>\n",
              "    </tr>\n",
              "    <tr>\n",
              "      <th>337</th>\n",
              "      <td>0.299</td>\n",
              "      <td>20</td>\n",
              "      <td>0.320988</td>\n",
              "      <td>2.620690</td>\n",
              "      <td>0.114754</td>\n",
              "    </tr>\n",
              "    <tr>\n",
              "      <th>201</th>\n",
              "      <td>0.345</td>\n",
              "      <td>3</td>\n",
              "      <td>0.372180</td>\n",
              "      <td>1.258621</td>\n",
              "      <td>0.028455</td>\n",
              "    </tr>\n",
              "    <tr>\n",
              "      <th>435</th>\n",
              "      <td>0.316</td>\n",
              "      <td>12</td>\n",
              "      <td>0.353293</td>\n",
              "      <td>2.129032</td>\n",
              "      <td>0.110465</td>\n",
              "    </tr>\n",
              "    <tr>\n",
              "      <th>401</th>\n",
              "      <td>0.271</td>\n",
              "      <td>16</td>\n",
              "      <td>0.307692</td>\n",
              "      <td>1.562500</td>\n",
              "      <td>0.166667</td>\n",
              "    </tr>\n",
              "    <tr>\n",
              "      <th>409</th>\n",
              "      <td>0.328</td>\n",
              "      <td>4</td>\n",
              "      <td>0.365079</td>\n",
              "      <td>1.863636</td>\n",
              "      <td>0.062222</td>\n",
              "    </tr>\n",
              "    <tr>\n",
              "      <th>354</th>\n",
              "      <td>0.288</td>\n",
              "      <td>12</td>\n",
              "      <td>0.290179</td>\n",
              "      <td>1.695652</td>\n",
              "      <td>0.131068</td>\n",
              "    </tr>\n",
              "    <tr>\n",
              "      <th>439</th>\n",
              "      <td>0.338</td>\n",
              "      <td>2</td>\n",
              "      <td>0.396648</td>\n",
              "      <td>2.192308</td>\n",
              "      <td>0.049689</td>\n",
              "    </tr>\n",
              "    <tr>\n",
              "      <th>214</th>\n",
              "      <td>0.240</td>\n",
              "      <td>18</td>\n",
              "      <td>0.247475</td>\n",
              "      <td>1.840909</td>\n",
              "      <td>0.105000</td>\n",
              "    </tr>\n",
              "  </tbody>\n",
              "</table>\n",
              "</div>"
            ],
            "text/plain": [
              "        타율  홈런  인플레이타구비율    뜬공땅볼비율      배럴지수\n",
              "343  0.348  20  0.341837  3.000000  0.105769\n",
              "220  0.395  10  0.455399  1.928571  0.079365\n",
              "337  0.299  20  0.320988  2.620690  0.114754\n",
              "201  0.345   3  0.372180  1.258621  0.028455\n",
              "435  0.316  12  0.353293  2.129032  0.110465\n",
              "401  0.271  16  0.307692  1.562500  0.166667\n",
              "409  0.328   4  0.365079  1.863636  0.062222\n",
              "354  0.288  12  0.290179  1.695652  0.131068\n",
              "439  0.338   2  0.396648  2.192308  0.049689\n",
              "214  0.240  18  0.247475  1.840909  0.105000"
            ]
          },
          "metadata": {},
          "execution_count": 107
        }
      ]
    },
    {
      "cell_type": "code",
      "metadata": {
        "colab": {
          "base_uri": "https://localhost:8080/"
        },
        "id": "KGA6kMHt88EN",
        "outputId": "3aea60f0-c2fc-4fd7-a34e-22607d366567"
      },
      "source": [
        "df9_test_rf = rf_model.predict(df9_test)\n",
        "df9_test_rf"
      ],
      "execution_count": null,
      "outputs": [
        {
          "output_type": "execute_result",
          "data": {
            "text/plain": [
              "array([0.52481898, 0.48372813, 0.50334632, 0.42641383, 0.4675185 ,\n",
              "       0.48880645, 0.44665525, 0.45724103, 0.43281608, 0.45870595])"
            ]
          },
          "metadata": {},
          "execution_count": 108
        }
      ]
    },
    {
      "cell_type": "code",
      "metadata": {
        "id": "pkohc3SN88Gx"
      },
      "source": [
        "x = df9[['타율','홈런','인플레이타구비율','뜬공땅볼비율','배럴지수']]\n",
        "y = df9[['장타율']]\n",
        "x_train, x_test, y_train, y_test = train_test_split(x, y, train_size=0.8, test_size=0.2)"
      ],
      "execution_count": null,
      "outputs": []
    },
    {
      "cell_type": "code",
      "metadata": {
        "colab": {
          "base_uri": "https://localhost:8080/"
        },
        "id": "6tDi1QXx88Jh",
        "outputId": "71f7c7a5-5472-4029-bf27-91771ffe2661"
      },
      "source": [
        "xgb_model = xgboost.XGBRegressor(base_score=0.5, booster='gbtree', colsample_bylevel=1,\n",
        "             colsample_bynode=1, colsample_bytree=0.75, gamma=0,\n",
        "             importance_type='gain', learning_rate=0.02, max_delta_step=0,\n",
        "             max_depth=7, min_child_weight=1, missing=None, n_estimators=1000,\n",
        "             n_jobs=1, nthread=None, objective='reg:linear', random_state=0,\n",
        "             reg_alpha=0.03, reg_lambda=1, scale_pos_weight=1, seed=None,\n",
        "             silent=None, subsample=1, verbosity=1)\n",
        "xgb_model.fit(x_train,y_train)"
      ],
      "execution_count": null,
      "outputs": [
        {
          "output_type": "stream",
          "name": "stdout",
          "text": [
            "[12:44:04] WARNING: /workspace/src/objective/regression_obj.cu:152: reg:linear is now deprecated in favor of reg:squarederror.\n"
          ]
        },
        {
          "output_type": "execute_result",
          "data": {
            "text/plain": [
              "XGBRegressor(base_score=0.5, booster='gbtree', colsample_bylevel=1,\n",
              "             colsample_bynode=1, colsample_bytree=0.75, gamma=0,\n",
              "             importance_type='gain', learning_rate=0.02, max_delta_step=0,\n",
              "             max_depth=7, min_child_weight=1, missing=None, n_estimators=1000,\n",
              "             n_jobs=1, nthread=None, objective='reg:linear', random_state=0,\n",
              "             reg_alpha=0.03, reg_lambda=1, scale_pos_weight=1, seed=None,\n",
              "             silent=None, subsample=1, verbosity=1)"
            ]
          },
          "metadata": {},
          "execution_count": 110
        }
      ]
    },
    {
      "cell_type": "code",
      "metadata": {
        "colab": {
          "base_uri": "https://localhost:8080/"
        },
        "id": "nSIJfK6n88MW",
        "outputId": "c339423e-90a6-4977-ad5b-dc84141e9f91"
      },
      "source": [
        "df9_test_xgb = xgb_model.predict(df9_test)\n",
        "df9_test_xgb"
      ],
      "execution_count": null,
      "outputs": [
        {
          "output_type": "execute_result",
          "data": {
            "text/plain": [
              "array([0.54727525, 0.51308984, 0.5029077 , 0.43950003, 0.47845495,\n",
              "       0.48552144, 0.45784366, 0.4786193 , 0.45502716, 0.4571775 ],\n",
              "      dtype=float32)"
            ]
          },
          "metadata": {},
          "execution_count": 111
        }
      ]
    },
    {
      "cell_type": "code",
      "metadata": {
        "colab": {
          "base_uri": "https://localhost:8080/"
        },
        "id": "xlxyvIvJ88O_",
        "outputId": "bb962e5a-5b39-4786-a271-209e2fbccb8c"
      },
      "source": [
        "df9_test_lr = np.array(df9_test_lr).flatten()\n",
        "df9_test_lr"
      ],
      "execution_count": null,
      "outputs": [
        {
          "output_type": "execute_result",
          "data": {
            "text/plain": [
              "array([0.50198291, 0.46916383, 0.45578272, 0.34233661, 0.42262075,\n",
              "       0.43053858, 0.35794401, 0.40376794, 0.35215386, 0.37274725])"
            ]
          },
          "metadata": {},
          "execution_count": 113
        }
      ]
    },
    {
      "cell_type": "code",
      "metadata": {
        "colab": {
          "base_uri": "https://localhost:8080/"
        },
        "id": "n-uCubcG88Ri",
        "outputId": "2412e525-31ca-417c-d713-5039ef0066ad"
      },
      "source": [
        "df9_test_rf = df9_test_rf.astype(np.float32)\n",
        "df9_test_rf"
      ],
      "execution_count": null,
      "outputs": [
        {
          "output_type": "execute_result",
          "data": {
            "text/plain": [
              "array([0.52481896, 0.48372814, 0.5033463 , 0.42641383, 0.4675185 ,\n",
              "       0.48880646, 0.44665524, 0.45724103, 0.4328161 , 0.45870596],\n",
              "      dtype=float32)"
            ]
          },
          "metadata": {},
          "execution_count": 114
        }
      ]
    },
    {
      "cell_type": "code",
      "metadata": {
        "colab": {
          "base_uri": "https://localhost:8080/"
        },
        "id": "GIuj-_io88UL",
        "outputId": "7c302f30-7e5e-41e8-9ba6-3090fc540119"
      },
      "source": [
        "slg3 = (df9_test_lr + df9_test_rf + df9_test_xgb) / 3\n",
        "slg3"
      ],
      "execution_count": null,
      "outputs": [
        {
          "output_type": "execute_result",
          "data": {
            "text/plain": [
              "array([0.52469237, 0.4886606 , 0.48734558, 0.40275016, 0.45619807,\n",
              "       0.46828882, 0.4208143 , 0.44654276, 0.41333237, 0.42954357])"
            ]
          },
          "metadata": {},
          "execution_count": 116
        }
      ]
    },
    {
      "cell_type": "markdown",
      "metadata": {
        "id": "oNWjoie5Mch6"
      },
      "source": [
        "#### 4번(21년 시즌 해당 선수 기록 평균값)"
      ]
    },
    {
      "cell_type": "code",
      "metadata": {
        "colab": {
          "base_uri": "https://localhost:8080/",
          "height": 390
        },
        "id": "NV35sAU688XM",
        "outputId": "74ea3fcc-846b-49ca-bd80-efc11bd6a15d"
      },
      "source": [
        "slg4 = pd.read_excel('/content/drive/MyDrive/빅콘테스트/Train_dataset/21년과최근30일.xlsx',index_col=0)\n",
        "slg4"
      ],
      "execution_count": null,
      "outputs": [
        {
          "output_type": "execute_result",
          "data": {
            "text/html": [
              "<div>\n",
              "<style scoped>\n",
              "    .dataframe tbody tr th:only-of-type {\n",
              "        vertical-align: middle;\n",
              "    }\n",
              "\n",
              "    .dataframe tbody tr th {\n",
              "        vertical-align: top;\n",
              "    }\n",
              "\n",
              "    .dataframe thead th {\n",
              "        text-align: right;\n",
              "    }\n",
              "</style>\n",
              "<table border=\"1\" class=\"dataframe\">\n",
              "  <thead>\n",
              "    <tr style=\"text-align: right;\">\n",
              "      <th></th>\n",
              "      <th>NAME</th>\n",
              "      <th>21출루율</th>\n",
              "      <th>21장타율</th>\n",
              "      <th>21OPS</th>\n",
              "      <th>30일출루율</th>\n",
              "      <th>30일장타율</th>\n",
              "      <th>30일OPS</th>\n",
              "    </tr>\n",
              "    <tr>\n",
              "      <th>PCODE</th>\n",
              "      <th></th>\n",
              "      <th></th>\n",
              "      <th></th>\n",
              "      <th></th>\n",
              "      <th></th>\n",
              "      <th></th>\n",
              "      <th></th>\n",
              "    </tr>\n",
              "  </thead>\n",
              "  <tbody>\n",
              "    <tr>\n",
              "      <th>76232</th>\n",
              "      <td>양의지</td>\n",
              "      <td>0.429</td>\n",
              "      <td>0.612</td>\n",
              "      <td>1.041</td>\n",
              "      <td>0.341</td>\n",
              "      <td>0.430</td>\n",
              "      <td>0.771</td>\n",
              "    </tr>\n",
              "    <tr>\n",
              "      <th>68050</th>\n",
              "      <td>강백호</td>\n",
              "      <td>0.467</td>\n",
              "      <td>0.577</td>\n",
              "      <td>1.044</td>\n",
              "      <td>0.344</td>\n",
              "      <td>0.573</td>\n",
              "      <td>0.917</td>\n",
              "    </tr>\n",
              "    <tr>\n",
              "      <th>75847</th>\n",
              "      <td>최정</td>\n",
              "      <td>0.410</td>\n",
              "      <td>0.584</td>\n",
              "      <td>0.994</td>\n",
              "      <td>0.368</td>\n",
              "      <td>0.623</td>\n",
              "      <td>0.991</td>\n",
              "    </tr>\n",
              "    <tr>\n",
              "      <th>67341</th>\n",
              "      <td>이정후</td>\n",
              "      <td>0.449</td>\n",
              "      <td>0.525</td>\n",
              "      <td>0.973</td>\n",
              "      <td>0.609</td>\n",
              "      <td>0.857</td>\n",
              "      <td>1.466</td>\n",
              "    </tr>\n",
              "    <tr>\n",
              "      <th>79192</th>\n",
              "      <td>채은성</td>\n",
              "      <td>0.372</td>\n",
              "      <td>0.522</td>\n",
              "      <td>0.894</td>\n",
              "      <td>0.250</td>\n",
              "      <td>0.417</td>\n",
              "      <td>0.667</td>\n",
              "    </tr>\n",
              "    <tr>\n",
              "      <th>78224</th>\n",
              "      <td>김재환</td>\n",
              "      <td>0.389</td>\n",
              "      <td>0.505</td>\n",
              "      <td>0.893</td>\n",
              "      <td>0.344</td>\n",
              "      <td>0.471</td>\n",
              "      <td>0.814</td>\n",
              "    </tr>\n",
              "    <tr>\n",
              "      <th>78513</th>\n",
              "      <td>전준우</td>\n",
              "      <td>0.380</td>\n",
              "      <td>0.424</td>\n",
              "      <td>0.805</td>\n",
              "      <td>0.280</td>\n",
              "      <td>0.372</td>\n",
              "      <td>0.652</td>\n",
              "    </tr>\n",
              "    <tr>\n",
              "      <th>76290</th>\n",
              "      <td>김현수</td>\n",
              "      <td>0.376</td>\n",
              "      <td>0.460</td>\n",
              "      <td>0.836</td>\n",
              "      <td>0.381</td>\n",
              "      <td>0.452</td>\n",
              "      <td>0.833</td>\n",
              "    </tr>\n",
              "    <tr>\n",
              "      <th>79215</th>\n",
              "      <td>박건우</td>\n",
              "      <td>0.407</td>\n",
              "      <td>0.439</td>\n",
              "      <td>0.847</td>\n",
              "      <td>0.422</td>\n",
              "      <td>0.465</td>\n",
              "      <td>0.887</td>\n",
              "    </tr>\n",
              "    <tr>\n",
              "      <th>67872</th>\n",
              "      <td>로맥</td>\n",
              "      <td>0.348</td>\n",
              "      <td>0.431</td>\n",
              "      <td>0.778</td>\n",
              "      <td>0.260</td>\n",
              "      <td>0.295</td>\n",
              "      <td>0.556</td>\n",
              "    </tr>\n",
              "  </tbody>\n",
              "</table>\n",
              "</div>"
            ],
            "text/plain": [
              "      NAME  21출루율  21장타율  21OPS  30일출루율  30일장타율  30일OPS\n",
              "PCODE                                                  \n",
              "76232  양의지  0.429  0.612  1.041   0.341   0.430   0.771\n",
              "68050  강백호  0.467  0.577  1.044   0.344   0.573   0.917\n",
              "75847   최정  0.410  0.584  0.994   0.368   0.623   0.991\n",
              "67341  이정후  0.449  0.525  0.973   0.609   0.857   1.466\n",
              "79192  채은성  0.372  0.522  0.894   0.250   0.417   0.667\n",
              "78224  김재환  0.389  0.505  0.893   0.344   0.471   0.814\n",
              "78513  전준우  0.380  0.424  0.805   0.280   0.372   0.652\n",
              "76290  김현수  0.376  0.460  0.836   0.381   0.452   0.833\n",
              "79215  박건우  0.407  0.439  0.847   0.422   0.465   0.887\n",
              "67872   로맥  0.348  0.431  0.778   0.260   0.295   0.556"
            ]
          },
          "metadata": {},
          "execution_count": 123
        }
      ]
    },
    {
      "cell_type": "code",
      "metadata": {
        "colab": {
          "base_uri": "https://localhost:8080/"
        },
        "id": "fCyy7Dt188Zp",
        "outputId": "3efa090f-d888-45fe-9063-9ae51b6d723c"
      },
      "source": [
        "slg4 = slg4['21장타율']\n",
        "slg4"
      ],
      "execution_count": null,
      "outputs": [
        {
          "output_type": "execute_result",
          "data": {
            "text/plain": [
              "PCODE\n",
              "76232    0.612\n",
              "68050    0.577\n",
              "75847    0.584\n",
              "67341    0.525\n",
              "79192    0.522\n",
              "78224    0.505\n",
              "78513    0.424\n",
              "76290    0.460\n",
              "79215    0.439\n",
              "67872    0.431\n",
              "Name: 21장타율, dtype: float64"
            ]
          },
          "metadata": {},
          "execution_count": 124
        }
      ]
    },
    {
      "cell_type": "code",
      "metadata": {
        "id": "wtKBcB0Z88ke"
      },
      "source": [
        ""
      ],
      "execution_count": null,
      "outputs": []
    },
    {
      "cell_type": "markdown",
      "metadata": {
        "id": "eWIdyrs_MlB0"
      },
      "source": [
        "#### 5번(최근 30경기 해당 선수 기록 평균값)"
      ]
    },
    {
      "cell_type": "code",
      "metadata": {
        "colab": {
          "base_uri": "https://localhost:8080/"
        },
        "id": "KElxkWPx88m5",
        "outputId": "0fa4c825-9c31-4094-a933-348c9974914c"
      },
      "source": [
        "slg5 = pd.read_excel('/content/drive/MyDrive/빅콘테스트/Train_dataset/21년과최근30일.xlsx',index_col=0)\n",
        "slg5 = slg5['30일장타율']\n",
        "slg5"
      ],
      "execution_count": null,
      "outputs": [
        {
          "output_type": "execute_result",
          "data": {
            "text/plain": [
              "PCODE\n",
              "76232    0.430\n",
              "68050    0.573\n",
              "75847    0.623\n",
              "67341    0.857\n",
              "79192    0.417\n",
              "78224    0.471\n",
              "78513    0.372\n",
              "76290    0.452\n",
              "79215    0.465\n",
              "67872    0.295\n",
              "Name: 30일장타율, dtype: float64"
            ]
          },
          "metadata": {},
          "execution_count": 126
        }
      ]
    },
    {
      "cell_type": "code",
      "metadata": {
        "id": "B8NfFHlCRSno"
      },
      "source": [
        ""
      ],
      "execution_count": null,
      "outputs": []
    },
    {
      "cell_type": "markdown",
      "metadata": {
        "id": "yn6DQoUUNm6X"
      },
      "source": [
        "#### 최종 장타율 예측"
      ]
    },
    {
      "cell_type": "code",
      "metadata": {
        "colab": {
          "base_uri": "https://localhost:8080/"
        },
        "id": "gvK4Uwfr89E7",
        "outputId": "17746eb0-a5bd-4e9e-a945-ee00b8d2971d"
      },
      "source": [
        "slg1"
      ],
      "execution_count": null,
      "outputs": [
        {
          "output_type": "execute_result",
          "data": {
            "text/plain": [
              "array([0.55834794, 0.539955  , 0.5248708 , 0.4573301 , 0.4997631 ,\n",
              "       0.5352331 , 0.5371465 , 0.49625555, 0.47557104, 0.5119735 ],\n",
              "      dtype=float32)"
            ]
          },
          "metadata": {},
          "execution_count": 127
        }
      ]
    },
    {
      "cell_type": "code",
      "metadata": {
        "colab": {
          "base_uri": "https://localhost:8080/"
        },
        "id": "m75-Ea0M89Hj",
        "outputId": "29952b53-4621-4b5b-c97b-a3a33cf3948a"
      },
      "source": [
        "slg2"
      ],
      "execution_count": null,
      "outputs": [
        {
          "output_type": "execute_result",
          "data": {
            "text/plain": [
              "array([0.52409856, 0.49139875, 0.4862553 , 0.41234874, 0.45417507,\n",
              "       0.49367921, 0.48811584, 0.45436555, 0.43059356, 0.49323888])"
            ]
          },
          "metadata": {},
          "execution_count": 128
        }
      ]
    },
    {
      "cell_type": "code",
      "metadata": {
        "colab": {
          "base_uri": "https://localhost:8080/"
        },
        "id": "gYhZCf8H7_cL",
        "outputId": "5d705469-af89-4e8b-afa7-0742f81c1649"
      },
      "source": [
        "slg3"
      ],
      "execution_count": null,
      "outputs": [
        {
          "output_type": "execute_result",
          "data": {
            "text/plain": [
              "array([0.52469237, 0.4886606 , 0.48734558, 0.40275016, 0.45619807,\n",
              "       0.46828882, 0.4208143 , 0.44654276, 0.41333237, 0.42954357])"
            ]
          },
          "metadata": {},
          "execution_count": 129
        }
      ]
    },
    {
      "cell_type": "code",
      "metadata": {
        "colab": {
          "base_uri": "https://localhost:8080/"
        },
        "id": "5dbzWCcv7_e-",
        "outputId": "7dff9e60-23ff-404e-f12a-790717179266"
      },
      "source": [
        "slg4"
      ],
      "execution_count": null,
      "outputs": [
        {
          "output_type": "execute_result",
          "data": {
            "text/plain": [
              "PCODE\n",
              "76232    0.612\n",
              "68050    0.577\n",
              "75847    0.584\n",
              "67341    0.525\n",
              "79192    0.522\n",
              "78224    0.505\n",
              "78513    0.424\n",
              "76290    0.460\n",
              "79215    0.439\n",
              "67872    0.431\n",
              "Name: 21장타율, dtype: float64"
            ]
          },
          "metadata": {},
          "execution_count": 130
        }
      ]
    },
    {
      "cell_type": "code",
      "metadata": {
        "colab": {
          "base_uri": "https://localhost:8080/"
        },
        "id": "GofRAZJ97_hn",
        "outputId": "1539c1dc-8b20-4c70-9363-127702e6c958"
      },
      "source": [
        "slg5"
      ],
      "execution_count": null,
      "outputs": [
        {
          "output_type": "execute_result",
          "data": {
            "text/plain": [
              "PCODE\n",
              "76232    0.430\n",
              "68050    0.573\n",
              "75847    0.623\n",
              "67341    0.857\n",
              "79192    0.417\n",
              "78224    0.471\n",
              "78513    0.372\n",
              "76290    0.452\n",
              "79215    0.465\n",
              "67872    0.295\n",
              "Name: 30일장타율, dtype: float64"
            ]
          },
          "metadata": {},
          "execution_count": 131
        }
      ]
    },
    {
      "cell_type": "code",
      "metadata": {
        "colab": {
          "base_uri": "https://localhost:8080/"
        },
        "id": "kTXyMq-c7_kP",
        "outputId": "1414f94c-7257-4bef-c1d9-e623cf67c7af"
      },
      "source": [
        "slg = (slg1 + slg2 + slg3 + slg4 + slg5)/5\n",
        "slg"
      ],
      "execution_count": null,
      "outputs": [
        {
          "output_type": "execute_result",
          "data": {
            "text/plain": [
              "PCODE\n",
              "76232    0.529828\n",
              "68050    0.534003\n",
              "75847    0.541094\n",
              "67341    0.530886\n",
              "79192    0.469827\n",
              "78224    0.494640\n",
              "78513    0.448415\n",
              "76290    0.461833\n",
              "79215    0.444699\n",
              "67872    0.432151\n",
              "dtype: float64"
            ]
          },
          "metadata": {},
          "execution_count": 132
        }
      ]
    },
    {
      "cell_type": "code",
      "metadata": {
        "id": "q0giHHKLNAgr"
      },
      "source": [
        ""
      ],
      "execution_count": null,
      "outputs": []
    },
    {
      "cell_type": "markdown",
      "metadata": {
        "id": "0Ge109iiNCFi"
      },
      "source": [
        "## 2) 출루율 예측"
      ]
    },
    {
      "cell_type": "markdown",
      "metadata": {
        "id": "7EBn4TwqOUnt"
      },
      "source": [
        "1번 - df2 / LR, RF, XGB\n",
        "\n",
        "2번 - df1 / LR, RF, XGB\n",
        "\n",
        "3번 - df1 / LR, RF, XGB"
      ]
    },
    {
      "cell_type": "markdown",
      "metadata": {
        "id": "_XJ9O3oTNF4w"
      },
      "source": [
        "#### 1번 (전체 시즌 평균)"
      ]
    },
    {
      "cell_type": "code",
      "metadata": {
        "colab": {
          "base_uri": "https://localhost:8080/",
          "height": 419
        },
        "id": "Tfm-1GMlNSCP",
        "outputId": "8aeb4929-1a4b-4043-bc91-9bfa7492e83c"
      },
      "source": [
        "df2 = pd.read_csv('/content/drive/MyDrive/빅콘테스트/Train_dataset/출루율/1번/df2.csv', index_col=0)\n",
        "df2"
      ],
      "execution_count": null,
      "outputs": [
        {
          "output_type": "execute_result",
          "data": {
            "text/html": [
              "<div>\n",
              "<style scoped>\n",
              "    .dataframe tbody tr th:only-of-type {\n",
              "        vertical-align: middle;\n",
              "    }\n",
              "\n",
              "    .dataframe tbody tr th {\n",
              "        vertical-align: top;\n",
              "    }\n",
              "\n",
              "    .dataframe thead th {\n",
              "        text-align: right;\n",
              "    }\n",
              "</style>\n",
              "<table border=\"1\" class=\"dataframe\">\n",
              "  <thead>\n",
              "    <tr style=\"text-align: right;\">\n",
              "      <th></th>\n",
              "      <th>PCODE</th>\n",
              "      <th>타율</th>\n",
              "      <th>홈런</th>\n",
              "      <th>볼삼비</th>\n",
              "      <th>P/PA</th>\n",
              "      <th>전체</th>\n",
              "      <th>컨택%</th>\n",
              "      <th>2S후선구%</th>\n",
              "      <th>출루율</th>\n",
              "    </tr>\n",
              "  </thead>\n",
              "  <tbody>\n",
              "    <tr>\n",
              "      <th>0</th>\n",
              "      <td>74540</td>\n",
              "      <td>0.278500</td>\n",
              "      <td>16.250000</td>\n",
              "      <td>0.451362</td>\n",
              "      <td>3.7400</td>\n",
              "      <td>45.275</td>\n",
              "      <td>77.725</td>\n",
              "      <td>36.825</td>\n",
              "      <td>0.345431</td>\n",
              "    </tr>\n",
              "    <tr>\n",
              "      <th>2</th>\n",
              "      <td>62925</td>\n",
              "      <td>0.263250</td>\n",
              "      <td>4.500000</td>\n",
              "      <td>0.387931</td>\n",
              "      <td>3.7300</td>\n",
              "      <td>47.050</td>\n",
              "      <td>85.450</td>\n",
              "      <td>26.400</td>\n",
              "      <td>0.337010</td>\n",
              "    </tr>\n",
              "    <tr>\n",
              "      <th>3</th>\n",
              "      <td>61353</td>\n",
              "      <td>0.285000</td>\n",
              "      <td>3.000000</td>\n",
              "      <td>0.215686</td>\n",
              "      <td>3.7250</td>\n",
              "      <td>52.850</td>\n",
              "      <td>76.050</td>\n",
              "      <td>30.300</td>\n",
              "      <td>0.327765</td>\n",
              "    </tr>\n",
              "    <tr>\n",
              "      <th>4</th>\n",
              "      <td>62404</td>\n",
              "      <td>0.296750</td>\n",
              "      <td>15.250000</td>\n",
              "      <td>0.470930</td>\n",
              "      <td>3.9175</td>\n",
              "      <td>47.825</td>\n",
              "      <td>78.075</td>\n",
              "      <td>32.850</td>\n",
              "      <td>0.366544</td>\n",
              "    </tr>\n",
              "    <tr>\n",
              "      <th>5</th>\n",
              "      <td>63963</td>\n",
              "      <td>0.265500</td>\n",
              "      <td>8.500000</td>\n",
              "      <td>0.803738</td>\n",
              "      <td>4.2775</td>\n",
              "      <td>40.675</td>\n",
              "      <td>86.200</td>\n",
              "      <td>36.575</td>\n",
              "      <td>0.370317</td>\n",
              "    </tr>\n",
              "    <tr>\n",
              "      <th>...</th>\n",
              "      <td>...</td>\n",
              "      <td>...</td>\n",
              "      <td>...</td>\n",
              "      <td>...</td>\n",
              "      <td>...</td>\n",
              "      <td>...</td>\n",
              "      <td>...</td>\n",
              "      <td>...</td>\n",
              "      <td>...</td>\n",
              "    </tr>\n",
              "    <tr>\n",
              "      <th>121</th>\n",
              "      <td>79240</td>\n",
              "      <td>0.316750</td>\n",
              "      <td>6.250000</td>\n",
              "      <td>0.881481</td>\n",
              "      <td>3.5875</td>\n",
              "      <td>43.375</td>\n",
              "      <td>89.325</td>\n",
              "      <td>31.200</td>\n",
              "      <td>0.370721</td>\n",
              "    </tr>\n",
              "    <tr>\n",
              "      <th>122</th>\n",
              "      <td>68730</td>\n",
              "      <td>0.261333</td>\n",
              "      <td>17.333333</td>\n",
              "      <td>0.451613</td>\n",
              "      <td>3.7100</td>\n",
              "      <td>47.700</td>\n",
              "      <td>78.350</td>\n",
              "      <td>35.000</td>\n",
              "      <td>0.352336</td>\n",
              "    </tr>\n",
              "    <tr>\n",
              "      <th>123</th>\n",
              "      <td>66108</td>\n",
              "      <td>0.258500</td>\n",
              "      <td>2.000000</td>\n",
              "      <td>1.006623</td>\n",
              "      <td>4.2800</td>\n",
              "      <td>36.800</td>\n",
              "      <td>84.050</td>\n",
              "      <td>42.350</td>\n",
              "      <td>0.433815</td>\n",
              "    </tr>\n",
              "    <tr>\n",
              "      <th>124</th>\n",
              "      <td>76313</td>\n",
              "      <td>0.301500</td>\n",
              "      <td>18.250000</td>\n",
              "      <td>0.524691</td>\n",
              "      <td>3.9325</td>\n",
              "      <td>44.175</td>\n",
              "      <td>80.700</td>\n",
              "      <td>34.225</td>\n",
              "      <td>0.366316</td>\n",
              "    </tr>\n",
              "    <tr>\n",
              "      <th>125</th>\n",
              "      <td>51725</td>\n",
              "      <td>0.257000</td>\n",
              "      <td>7.000000</td>\n",
              "      <td>0.275862</td>\n",
              "      <td>3.8800</td>\n",
              "      <td>46.700</td>\n",
              "      <td>75.700</td>\n",
              "      <td>27.500</td>\n",
              "      <td>0.305970</td>\n",
              "    </tr>\n",
              "  </tbody>\n",
              "</table>\n",
              "<p>116 rows × 9 columns</p>\n",
              "</div>"
            ],
            "text/plain": [
              "     PCODE        타율         홈런       볼삼비  ...      전체     컨택%  2S후선구%       출루율\n",
              "0    74540  0.278500  16.250000  0.451362  ...  45.275  77.725  36.825  0.345431\n",
              "2    62925  0.263250   4.500000  0.387931  ...  47.050  85.450  26.400  0.337010\n",
              "3    61353  0.285000   3.000000  0.215686  ...  52.850  76.050  30.300  0.327765\n",
              "4    62404  0.296750  15.250000  0.470930  ...  47.825  78.075  32.850  0.366544\n",
              "5    63963  0.265500   8.500000  0.803738  ...  40.675  86.200  36.575  0.370317\n",
              "..     ...       ...        ...       ...  ...     ...     ...     ...       ...\n",
              "121  79240  0.316750   6.250000  0.881481  ...  43.375  89.325  31.200  0.370721\n",
              "122  68730  0.261333  17.333333  0.451613  ...  47.700  78.350  35.000  0.352336\n",
              "123  66108  0.258500   2.000000  1.006623  ...  36.800  84.050  42.350  0.433815\n",
              "124  76313  0.301500  18.250000  0.524691  ...  44.175  80.700  34.225  0.366316\n",
              "125  51725  0.257000   7.000000  0.275862  ...  46.700  75.700  27.500  0.305970\n",
              "\n",
              "[116 rows x 9 columns]"
            ]
          },
          "metadata": {},
          "execution_count": 133
        }
      ]
    },
    {
      "cell_type": "code",
      "metadata": {
        "colab": {
          "base_uri": "https://localhost:8080/"
        },
        "id": "Tg5FRWGwONt3",
        "outputId": "91e475fc-b48d-4c53-b54a-785e01ad9043"
      },
      "source": [
        "#linear regression\n",
        "x = df2[['타율','홈런','볼삼비','P/PA','전체','컨택%','2S후선구%']]\n",
        "y = df2[['출루율']]\n",
        "x_train, x_test, y_train, y_test = train_test_split(x, y, train_size=0.8, test_size=0.2)\n",
        "\n",
        "scaler = StandardScaler()\n",
        "\n",
        "x_train = scaler.fit_transform(x_train)\n",
        "x_test= scaler.transform(x_test)\n",
        "\n",
        "lr_model = LinearRegression()\n",
        "lr_model.fit(x_train, y_train)"
      ],
      "execution_count": null,
      "outputs": [
        {
          "output_type": "execute_result",
          "data": {
            "text/plain": [
              "LinearRegression(copy_X=True, fit_intercept=True, n_jobs=None, normalize=False)"
            ]
          },
          "metadata": {},
          "execution_count": 138
        }
      ]
    },
    {
      "cell_type": "code",
      "metadata": {
        "colab": {
          "base_uri": "https://localhost:8080/",
          "height": 359
        },
        "id": "g53XhHGlONwY",
        "outputId": "a3baed9d-374c-4295-8ecd-b02e9617a147"
      },
      "source": [
        "df2_test = pd.read_csv('/content/drive/MyDrive/빅콘테스트/Train_dataset/출루율/1번/df2_test.csv', index_col=0)\n",
        "df2_test"
      ],
      "execution_count": null,
      "outputs": [
        {
          "output_type": "execute_result",
          "data": {
            "text/html": [
              "<div>\n",
              "<style scoped>\n",
              "    .dataframe tbody tr th:only-of-type {\n",
              "        vertical-align: middle;\n",
              "    }\n",
              "\n",
              "    .dataframe tbody tr th {\n",
              "        vertical-align: top;\n",
              "    }\n",
              "\n",
              "    .dataframe thead th {\n",
              "        text-align: right;\n",
              "    }\n",
              "</style>\n",
              "<table border=\"1\" class=\"dataframe\">\n",
              "  <thead>\n",
              "    <tr style=\"text-align: right;\">\n",
              "      <th></th>\n",
              "      <th>PCODE</th>\n",
              "      <th>타율</th>\n",
              "      <th>홈런</th>\n",
              "      <th>볼삼비</th>\n",
              "      <th>P/PA</th>\n",
              "      <th>전체</th>\n",
              "      <th>컨택%</th>\n",
              "      <th>2S후선구%</th>\n",
              "      <th>출루율</th>\n",
              "    </tr>\n",
              "  </thead>\n",
              "  <tbody>\n",
              "    <tr>\n",
              "      <th>70</th>\n",
              "      <td>76232</td>\n",
              "      <td>0.34700</td>\n",
              "      <td>24.00</td>\n",
              "      <td>1.131250</td>\n",
              "      <td>3.6875</td>\n",
              "      <td>45.150</td>\n",
              "      <td>89.150</td>\n",
              "      <td>33.125</td>\n",
              "      <td>0.431806</td>\n",
              "    </tr>\n",
              "    <tr>\n",
              "      <th>1</th>\n",
              "      <td>68050</td>\n",
              "      <td>0.33775</td>\n",
              "      <td>18.75</td>\n",
              "      <td>0.670487</td>\n",
              "      <td>4.0000</td>\n",
              "      <td>44.225</td>\n",
              "      <td>78.775</td>\n",
              "      <td>37.525</td>\n",
              "      <td>0.415301</td>\n",
              "    </tr>\n",
              "    <tr>\n",
              "      <th>111</th>\n",
              "      <td>75847</td>\n",
              "      <td>0.27625</td>\n",
              "      <td>29.25</td>\n",
              "      <td>0.662198</td>\n",
              "      <td>3.9850</td>\n",
              "      <td>47.100</td>\n",
              "      <td>75.475</td>\n",
              "      <td>38.475</td>\n",
              "      <td>0.397044</td>\n",
              "    </tr>\n",
              "    <tr>\n",
              "      <th>87</th>\n",
              "      <td>67341</td>\n",
              "      <td>0.34225</td>\n",
              "      <td>7.50</td>\n",
              "      <td>1.179641</td>\n",
              "      <td>3.7950</td>\n",
              "      <td>38.575</td>\n",
              "      <td>91.750</td>\n",
              "      <td>34.475</td>\n",
              "      <td>0.407529</td>\n",
              "    </tr>\n",
              "    <tr>\n",
              "      <th>106</th>\n",
              "      <td>79192</td>\n",
              "      <td>0.31375</td>\n",
              "      <td>16.00</td>\n",
              "      <td>0.410909</td>\n",
              "      <td>3.7350</td>\n",
              "      <td>49.700</td>\n",
              "      <td>79.500</td>\n",
              "      <td>30.475</td>\n",
              "      <td>0.367841</td>\n",
              "    </tr>\n",
              "    <tr>\n",
              "      <th>17</th>\n",
              "      <td>78224</td>\n",
              "      <td>0.28850</td>\n",
              "      <td>26.25</td>\n",
              "      <td>0.563715</td>\n",
              "      <td>3.8475</td>\n",
              "      <td>47.625</td>\n",
              "      <td>69.750</td>\n",
              "      <td>41.600</td>\n",
              "      <td>0.386711</td>\n",
              "    </tr>\n",
              "    <tr>\n",
              "      <th>97</th>\n",
              "      <td>78513</td>\n",
              "      <td>0.31250</td>\n",
              "      <td>21.25</td>\n",
              "      <td>0.712121</td>\n",
              "      <td>3.7075</td>\n",
              "      <td>43.600</td>\n",
              "      <td>84.100</td>\n",
              "      <td>36.375</td>\n",
              "      <td>0.376540</td>\n",
              "    </tr>\n",
              "    <tr>\n",
              "      <th>25</th>\n",
              "      <td>76290</td>\n",
              "      <td>0.32125</td>\n",
              "      <td>16.25</td>\n",
              "      <td>1.067708</td>\n",
              "      <td>3.7225</td>\n",
              "      <td>44.200</td>\n",
              "      <td>86.900</td>\n",
              "      <td>34.950</td>\n",
              "      <td>0.398547</td>\n",
              "    </tr>\n",
              "    <tr>\n",
              "      <th>42</th>\n",
              "      <td>79215</td>\n",
              "      <td>0.32175</td>\n",
              "      <td>9.50</td>\n",
              "      <td>0.703196</td>\n",
              "      <td>3.6950</td>\n",
              "      <td>45.225</td>\n",
              "      <td>84.025</td>\n",
              "      <td>32.450</td>\n",
              "      <td>0.384202</td>\n",
              "    </tr>\n",
              "    <tr>\n",
              "      <th>36</th>\n",
              "      <td>67872</td>\n",
              "      <td>0.27850</td>\n",
              "      <td>30.50</td>\n",
              "      <td>0.692308</td>\n",
              "      <td>4.1150</td>\n",
              "      <td>43.075</td>\n",
              "      <td>76.125</td>\n",
              "      <td>40.250</td>\n",
              "      <td>0.389045</td>\n",
              "    </tr>\n",
              "  </tbody>\n",
              "</table>\n",
              "</div>"
            ],
            "text/plain": [
              "     PCODE       타율     홈런       볼삼비    P/PA      전체     컨택%  2S후선구%       출루율\n",
              "70   76232  0.34700  24.00  1.131250  3.6875  45.150  89.150  33.125  0.431806\n",
              "1    68050  0.33775  18.75  0.670487  4.0000  44.225  78.775  37.525  0.415301\n",
              "111  75847  0.27625  29.25  0.662198  3.9850  47.100  75.475  38.475  0.397044\n",
              "87   67341  0.34225   7.50  1.179641  3.7950  38.575  91.750  34.475  0.407529\n",
              "106  79192  0.31375  16.00  0.410909  3.7350  49.700  79.500  30.475  0.367841\n",
              "17   78224  0.28850  26.25  0.563715  3.8475  47.625  69.750  41.600  0.386711\n",
              "97   78513  0.31250  21.25  0.712121  3.7075  43.600  84.100  36.375  0.376540\n",
              "25   76290  0.32125  16.25  1.067708  3.7225  44.200  86.900  34.950  0.398547\n",
              "42   79215  0.32175   9.50  0.703196  3.6950  45.225  84.025  32.450  0.384202\n",
              "36   67872  0.27850  30.50  0.692308  4.1150  43.075  76.125  40.250  0.389045"
            ]
          },
          "metadata": {},
          "execution_count": 141
        }
      ]
    },
    {
      "cell_type": "code",
      "metadata": {
        "id": "I9KdRCX9ONzW"
      },
      "source": [
        "df2_test = df2_test[['타율','홈런','볼삼비','P/PA','전체','컨택%','2S후선구%']]\n",
        "df2_test = scaler.fit_transform(df2_test)"
      ],
      "execution_count": null,
      "outputs": []
    },
    {
      "cell_type": "code",
      "metadata": {
        "colab": {
          "base_uri": "https://localhost:8080/"
        },
        "id": "rNYfLeF_ON2E",
        "outputId": "d4f31c8d-5788-4ac4-9abf-08630694c492"
      },
      "source": [
        "df2_test_lr = lr_model.predict(df2_test)\n",
        "df2_test_lr"
      ],
      "execution_count": null,
      "outputs": [
        {
          "output_type": "execute_result",
          "data": {
            "text/plain": [
              "array([[0.37304481],\n",
              "       [0.371318  ],\n",
              "       [0.32960843],\n",
              "       [0.38133993],\n",
              "       [0.31243187],\n",
              "       [0.3389814 ],\n",
              "       [0.34162751],\n",
              "       [0.35781627],\n",
              "       [0.33538387],\n",
              "       [0.34528996]])"
            ]
          },
          "metadata": {},
          "execution_count": 143
        }
      ]
    },
    {
      "cell_type": "code",
      "metadata": {
        "colab": {
          "base_uri": "https://localhost:8080/"
        },
        "id": "28Wp0-fjON42",
        "outputId": "c58e8b11-e818-4a38-d0d9-99cee7219fcb"
      },
      "source": [
        "df2_test_lr = np.array(df2_test_lr).flatten()\n",
        "df2_test_lr"
      ],
      "execution_count": null,
      "outputs": [
        {
          "output_type": "execute_result",
          "data": {
            "text/plain": [
              "array([0.37304481, 0.371318  , 0.32960843, 0.38133993, 0.31243187,\n",
              "       0.3389814 , 0.34162751, 0.35781627, 0.33538387, 0.34528996])"
            ]
          },
          "metadata": {},
          "execution_count": 144
        }
      ]
    },
    {
      "cell_type": "code",
      "metadata": {
        "id": "sBWxq1xhON68"
      },
      "source": [
        ""
      ],
      "execution_count": null,
      "outputs": []
    },
    {
      "cell_type": "code",
      "metadata": {
        "id": "hJwKORrmON90"
      },
      "source": [
        "x = df2[['타율','홈런','볼삼비','P/PA','전체','컨택%','2S후선구%']]\n",
        "y = df2[['출루율']]\n",
        "x_train, x_test, y_train, y_test = train_test_split(x, y, train_size=0.8, test_size=0.2)"
      ],
      "execution_count": null,
      "outputs": []
    },
    {
      "cell_type": "code",
      "metadata": {
        "colab": {
          "base_uri": "https://localhost:8080/"
        },
        "id": "EwvtbDUROOAC",
        "outputId": "24a16add-29d7-4f5c-8ec3-efb3057687ec"
      },
      "source": [
        "rf_model = RandomForestRegressor(max_depth=6, n_estimators = 100, min_samples_leaf=2, min_samples_split = 4, bootstrap=True, random_state=0)\n",
        "\n",
        "rf_model.fit(x_train, y_train)"
      ],
      "execution_count": null,
      "outputs": [
        {
          "output_type": "execute_result",
          "data": {
            "text/plain": [
              "RandomForestRegressor(bootstrap=True, ccp_alpha=0.0, criterion='mse',\n",
              "                      max_depth=6, max_features='auto', max_leaf_nodes=None,\n",
              "                      max_samples=None, min_impurity_decrease=0.0,\n",
              "                      min_impurity_split=None, min_samples_leaf=2,\n",
              "                      min_samples_split=4, min_weight_fraction_leaf=0.0,\n",
              "                      n_estimators=100, n_jobs=None, oob_score=False,\n",
              "                      random_state=0, verbose=0, warm_start=False)"
            ]
          },
          "metadata": {},
          "execution_count": 146
        }
      ]
    },
    {
      "cell_type": "code",
      "metadata": {
        "colab": {
          "base_uri": "https://localhost:8080/",
          "height": 359
        },
        "id": "dHmzN_REZatW",
        "outputId": "efcb542d-5e91-4a46-aa5e-7b0b77b00246"
      },
      "source": [
        "df2_test = pd.read_csv('/content/drive/MyDrive/빅콘테스트/Train_dataset/출루율/1번/df2_test.csv', index_col=0)\n",
        "df2_test = df2_test[['타율','홈런','볼삼비','P/PA','전체','컨택%','2S후선구%']]\n",
        "df2_test"
      ],
      "execution_count": null,
      "outputs": [
        {
          "output_type": "execute_result",
          "data": {
            "text/html": [
              "<div>\n",
              "<style scoped>\n",
              "    .dataframe tbody tr th:only-of-type {\n",
              "        vertical-align: middle;\n",
              "    }\n",
              "\n",
              "    .dataframe tbody tr th {\n",
              "        vertical-align: top;\n",
              "    }\n",
              "\n",
              "    .dataframe thead th {\n",
              "        text-align: right;\n",
              "    }\n",
              "</style>\n",
              "<table border=\"1\" class=\"dataframe\">\n",
              "  <thead>\n",
              "    <tr style=\"text-align: right;\">\n",
              "      <th></th>\n",
              "      <th>타율</th>\n",
              "      <th>홈런</th>\n",
              "      <th>볼삼비</th>\n",
              "      <th>P/PA</th>\n",
              "      <th>전체</th>\n",
              "      <th>컨택%</th>\n",
              "      <th>2S후선구%</th>\n",
              "    </tr>\n",
              "  </thead>\n",
              "  <tbody>\n",
              "    <tr>\n",
              "      <th>70</th>\n",
              "      <td>0.34700</td>\n",
              "      <td>24.00</td>\n",
              "      <td>1.131250</td>\n",
              "      <td>3.6875</td>\n",
              "      <td>45.150</td>\n",
              "      <td>89.150</td>\n",
              "      <td>33.125</td>\n",
              "    </tr>\n",
              "    <tr>\n",
              "      <th>1</th>\n",
              "      <td>0.33775</td>\n",
              "      <td>18.75</td>\n",
              "      <td>0.670487</td>\n",
              "      <td>4.0000</td>\n",
              "      <td>44.225</td>\n",
              "      <td>78.775</td>\n",
              "      <td>37.525</td>\n",
              "    </tr>\n",
              "    <tr>\n",
              "      <th>111</th>\n",
              "      <td>0.27625</td>\n",
              "      <td>29.25</td>\n",
              "      <td>0.662198</td>\n",
              "      <td>3.9850</td>\n",
              "      <td>47.100</td>\n",
              "      <td>75.475</td>\n",
              "      <td>38.475</td>\n",
              "    </tr>\n",
              "    <tr>\n",
              "      <th>87</th>\n",
              "      <td>0.34225</td>\n",
              "      <td>7.50</td>\n",
              "      <td>1.179641</td>\n",
              "      <td>3.7950</td>\n",
              "      <td>38.575</td>\n",
              "      <td>91.750</td>\n",
              "      <td>34.475</td>\n",
              "    </tr>\n",
              "    <tr>\n",
              "      <th>106</th>\n",
              "      <td>0.31375</td>\n",
              "      <td>16.00</td>\n",
              "      <td>0.410909</td>\n",
              "      <td>3.7350</td>\n",
              "      <td>49.700</td>\n",
              "      <td>79.500</td>\n",
              "      <td>30.475</td>\n",
              "    </tr>\n",
              "    <tr>\n",
              "      <th>17</th>\n",
              "      <td>0.28850</td>\n",
              "      <td>26.25</td>\n",
              "      <td>0.563715</td>\n",
              "      <td>3.8475</td>\n",
              "      <td>47.625</td>\n",
              "      <td>69.750</td>\n",
              "      <td>41.600</td>\n",
              "    </tr>\n",
              "    <tr>\n",
              "      <th>97</th>\n",
              "      <td>0.31250</td>\n",
              "      <td>21.25</td>\n",
              "      <td>0.712121</td>\n",
              "      <td>3.7075</td>\n",
              "      <td>43.600</td>\n",
              "      <td>84.100</td>\n",
              "      <td>36.375</td>\n",
              "    </tr>\n",
              "    <tr>\n",
              "      <th>25</th>\n",
              "      <td>0.32125</td>\n",
              "      <td>16.25</td>\n",
              "      <td>1.067708</td>\n",
              "      <td>3.7225</td>\n",
              "      <td>44.200</td>\n",
              "      <td>86.900</td>\n",
              "      <td>34.950</td>\n",
              "    </tr>\n",
              "    <tr>\n",
              "      <th>42</th>\n",
              "      <td>0.32175</td>\n",
              "      <td>9.50</td>\n",
              "      <td>0.703196</td>\n",
              "      <td>3.6950</td>\n",
              "      <td>45.225</td>\n",
              "      <td>84.025</td>\n",
              "      <td>32.450</td>\n",
              "    </tr>\n",
              "    <tr>\n",
              "      <th>36</th>\n",
              "      <td>0.27850</td>\n",
              "      <td>30.50</td>\n",
              "      <td>0.692308</td>\n",
              "      <td>4.1150</td>\n",
              "      <td>43.075</td>\n",
              "      <td>76.125</td>\n",
              "      <td>40.250</td>\n",
              "    </tr>\n",
              "  </tbody>\n",
              "</table>\n",
              "</div>"
            ],
            "text/plain": [
              "          타율     홈런       볼삼비    P/PA      전체     컨택%  2S후선구%\n",
              "70   0.34700  24.00  1.131250  3.6875  45.150  89.150  33.125\n",
              "1    0.33775  18.75  0.670487  4.0000  44.225  78.775  37.525\n",
              "111  0.27625  29.25  0.662198  3.9850  47.100  75.475  38.475\n",
              "87   0.34225   7.50  1.179641  3.7950  38.575  91.750  34.475\n",
              "106  0.31375  16.00  0.410909  3.7350  49.700  79.500  30.475\n",
              "17   0.28850  26.25  0.563715  3.8475  47.625  69.750  41.600\n",
              "97   0.31250  21.25  0.712121  3.7075  43.600  84.100  36.375\n",
              "25   0.32125  16.25  1.067708  3.7225  44.200  86.900  34.950\n",
              "42   0.32175   9.50  0.703196  3.6950  45.225  84.025  32.450\n",
              "36   0.27850  30.50  0.692308  4.1150  43.075  76.125  40.250"
            ]
          },
          "metadata": {},
          "execution_count": 147
        }
      ]
    },
    {
      "cell_type": "code",
      "metadata": {
        "colab": {
          "base_uri": "https://localhost:8080/"
        },
        "id": "pXdLTCFpNx3E",
        "outputId": "d7eae2b3-082c-4d6b-a369-3ab0f5d8b092"
      },
      "source": [
        "df2_test_rf = rf_model.predict(df2_test)\n",
        "df2_test_rf = df2_test_rf.astype(np.float32)\n",
        "df2_test_rf"
      ],
      "execution_count": null,
      "outputs": [
        {
          "output_type": "execute_result",
          "data": {
            "text/plain": [
              "array([0.38807636, 0.39742452, 0.38050398, 0.38997224, 0.36484882,\n",
              "       0.38290042, 0.39163402, 0.39203754, 0.37542972, 0.38355723],\n",
              "      dtype=float32)"
            ]
          },
          "metadata": {},
          "execution_count": 148
        }
      ]
    },
    {
      "cell_type": "code",
      "metadata": {
        "id": "AbhDqp56Zmei"
      },
      "source": [
        ""
      ],
      "execution_count": null,
      "outputs": []
    },
    {
      "cell_type": "code",
      "metadata": {
        "colab": {
          "base_uri": "https://localhost:8080/"
        },
        "id": "7JLmILcuNx55",
        "outputId": "4923f0aa-f820-4027-df03-f5ed98eccc49"
      },
      "source": [
        "xgb_model = xgboost.XGBRegressor(n_estimators=100, learning_rate=0.08, gamma=0, subsample=0.75,\n",
        "                           colsample_bytree=1, max_depth=7)\n",
        "xgb_model.fit(x_train,y_train)"
      ],
      "execution_count": null,
      "outputs": [
        {
          "output_type": "stream",
          "name": "stdout",
          "text": [
            "[13:45:30] WARNING: /workspace/src/objective/regression_obj.cu:152: reg:linear is now deprecated in favor of reg:squarederror.\n"
          ]
        },
        {
          "output_type": "execute_result",
          "data": {
            "text/plain": [
              "XGBRegressor(base_score=0.5, booster='gbtree', colsample_bylevel=1,\n",
              "             colsample_bynode=1, colsample_bytree=1, gamma=0,\n",
              "             importance_type='gain', learning_rate=0.08, max_delta_step=0,\n",
              "             max_depth=7, min_child_weight=1, missing=None, n_estimators=100,\n",
              "             n_jobs=1, nthread=None, objective='reg:linear', random_state=0,\n",
              "             reg_alpha=0, reg_lambda=1, scale_pos_weight=1, seed=None,\n",
              "             silent=None, subsample=0.75, verbosity=1)"
            ]
          },
          "metadata": {},
          "execution_count": 149
        }
      ]
    },
    {
      "cell_type": "code",
      "metadata": {
        "colab": {
          "base_uri": "https://localhost:8080/"
        },
        "id": "U3diIusENzGJ",
        "outputId": "1ba9ccf8-f641-4d60-e36d-5b446976069d"
      },
      "source": [
        "df2_test_xgb = xgb_model.predict(df2_test)\n",
        "df2_test_xgb"
      ],
      "execution_count": null,
      "outputs": [
        {
          "output_type": "execute_result",
          "data": {
            "text/plain": [
              "array([0.40124115, 0.39872655, 0.39642924, 0.40360212, 0.36498317,\n",
              "       0.3934558 , 0.3864321 , 0.38849363, 0.37857956, 0.39725322],\n",
              "      dtype=float32)"
            ]
          },
          "metadata": {},
          "execution_count": 150
        }
      ]
    },
    {
      "cell_type": "code",
      "metadata": {
        "colab": {
          "base_uri": "https://localhost:8080/"
        },
        "id": "E4i_6JWoNzI6",
        "outputId": "da3ebea7-3e16-4b13-d78b-154403898da9"
      },
      "source": [
        "obp1 = (df2_test_lr + df2_test_rf + df2_test_xgb)/3\n",
        "obp1"
      ],
      "execution_count": null,
      "outputs": [
        {
          "output_type": "execute_result",
          "data": {
            "text/plain": [
              "array([0.38745411, 0.38915636, 0.36884722, 0.3916381 , 0.34742129,\n",
              "       0.37177921, 0.37323121, 0.37944915, 0.36313105, 0.3753668 ])"
            ]
          },
          "metadata": {},
          "execution_count": 151
        }
      ]
    },
    {
      "cell_type": "code",
      "metadata": {
        "id": "9V-EUztWNzLv"
      },
      "source": [
        ""
      ],
      "execution_count": null,
      "outputs": []
    },
    {
      "cell_type": "markdown",
      "metadata": {
        "id": "-HZbwRp4NF9_"
      },
      "source": [
        "#### 2번 (연도별 가중치 평균)"
      ]
    },
    {
      "cell_type": "code",
      "metadata": {
        "colab": {
          "base_uri": "https://localhost:8080/"
        },
        "id": "reg5ki4jNx8U",
        "outputId": "263a24da-f7e9-4e44-98db-1194f1bf63bb"
      },
      "source": [
        "df4 = pd.read_csv('/content/drive/MyDrive/빅콘테스트/Train_dataset/출루율/2번/df1.csv', index_col=0)\n",
        "\n",
        "x = df4[['타율','홈런','볼삼비','P/PA','초구','전체','컨택%','2S후커트%','2S후선구%']]\n",
        "y = df4[['출루율']]\n",
        "x_train, x_test, y_train, y_test = train_test_split(x, y, train_size=0.8, test_size=0.2)\n",
        "\n",
        "scaler = StandardScaler()\n",
        "\n",
        "x_train = scaler.fit_transform(x_train)\n",
        "x_test= scaler.transform(x_test)\n",
        "\n",
        "lr_model = LinearRegression()\n",
        "lr_model.fit(x_train, y_train)"
      ],
      "execution_count": null,
      "outputs": [
        {
          "output_type": "execute_result",
          "data": {
            "text/plain": [
              "LinearRegression(copy_X=True, fit_intercept=True, n_jobs=None, normalize=False)"
            ]
          },
          "metadata": {},
          "execution_count": 152
        }
      ]
    },
    {
      "cell_type": "code",
      "metadata": {
        "colab": {
          "base_uri": "https://localhost:8080/",
          "height": 359
        },
        "id": "pkddg1dEapRl",
        "outputId": "8a956c31-12fa-472e-edd3-d63da9bfdfa4"
      },
      "source": [
        "df4_test = pd.read_csv('/content/drive/MyDrive/빅콘테스트/Train_dataset/출루율/2번/df1_test.csv',index_col=0)\n",
        "df4_test"
      ],
      "execution_count": null,
      "outputs": [
        {
          "output_type": "execute_result",
          "data": {
            "text/html": [
              "<div>\n",
              "<style scoped>\n",
              "    .dataframe tbody tr th:only-of-type {\n",
              "        vertical-align: middle;\n",
              "    }\n",
              "\n",
              "    .dataframe tbody tr th {\n",
              "        vertical-align: top;\n",
              "    }\n",
              "\n",
              "    .dataframe thead th {\n",
              "        text-align: right;\n",
              "    }\n",
              "</style>\n",
              "<table border=\"1\" class=\"dataframe\">\n",
              "  <thead>\n",
              "    <tr style=\"text-align: right;\">\n",
              "      <th></th>\n",
              "      <th>PCODE</th>\n",
              "      <th>타율</th>\n",
              "      <th>홈런</th>\n",
              "      <th>볼삼비</th>\n",
              "      <th>P/PA</th>\n",
              "      <th>초구</th>\n",
              "      <th>전체</th>\n",
              "      <th>컨택%</th>\n",
              "      <th>2S후커트%</th>\n",
              "      <th>2S후선구%</th>\n",
              "      <th>출루율</th>\n",
              "    </tr>\n",
              "  </thead>\n",
              "  <tbody>\n",
              "    <tr>\n",
              "      <th>91</th>\n",
              "      <td>76232</td>\n",
              "      <td>0.345600</td>\n",
              "      <td>24.100</td>\n",
              "      <td>1.142948</td>\n",
              "      <td>3.69275</td>\n",
              "      <td>29.5700</td>\n",
              "      <td>44.9600</td>\n",
              "      <td>88.9600</td>\n",
              "      <td>84.9250</td>\n",
              "      <td>32.7775</td>\n",
              "      <td>0.431669</td>\n",
              "    </tr>\n",
              "    <tr>\n",
              "      <th>3</th>\n",
              "      <td>68050</td>\n",
              "      <td>0.345475</td>\n",
              "      <td>17.575</td>\n",
              "      <td>0.722307</td>\n",
              "      <td>4.01950</td>\n",
              "      <td>30.1375</td>\n",
              "      <td>43.8725</td>\n",
              "      <td>79.0825</td>\n",
              "      <td>75.2475</td>\n",
              "      <td>37.3975</td>\n",
              "      <td>0.425245</td>\n",
              "    </tr>\n",
              "    <tr>\n",
              "      <th>146</th>\n",
              "      <td>75847</td>\n",
              "      <td>0.279825</td>\n",
              "      <td>28.225</td>\n",
              "      <td>0.694104</td>\n",
              "      <td>3.97700</td>\n",
              "      <td>38.7400</td>\n",
              "      <td>47.0400</td>\n",
              "      <td>75.8975</td>\n",
              "      <td>74.4375</td>\n",
              "      <td>38.4475</td>\n",
              "      <td>0.400284</td>\n",
              "    </tr>\n",
              "    <tr>\n",
              "      <th>114</th>\n",
              "      <td>67341</td>\n",
              "      <td>0.341425</td>\n",
              "      <td>7.500</td>\n",
              "      <td>1.281708</td>\n",
              "      <td>3.81200</td>\n",
              "      <td>15.1150</td>\n",
              "      <td>38.3125</td>\n",
              "      <td>91.8950</td>\n",
              "      <td>87.4050</td>\n",
              "      <td>34.8325</td>\n",
              "      <td>0.409251</td>\n",
              "    </tr>\n",
              "    <tr>\n",
              "      <th>140</th>\n",
              "      <td>79192</td>\n",
              "      <td>0.312075</td>\n",
              "      <td>15.100</td>\n",
              "      <td>0.424816</td>\n",
              "      <td>3.74350</td>\n",
              "      <td>21.4750</td>\n",
              "      <td>49.4700</td>\n",
              "      <td>79.2450</td>\n",
              "      <td>78.5475</td>\n",
              "      <td>30.3475</td>\n",
              "      <td>0.367242</td>\n",
              "    </tr>\n",
              "    <tr>\n",
              "      <th>25</th>\n",
              "      <td>78224</td>\n",
              "      <td>0.283350</td>\n",
              "      <td>24.525</td>\n",
              "      <td>0.584736</td>\n",
              "      <td>3.87425</td>\n",
              "      <td>42.8900</td>\n",
              "      <td>47.3075</td>\n",
              "      <td>69.1950</td>\n",
              "      <td>63.4025</td>\n",
              "      <td>42.0600</td>\n",
              "      <td>0.385457</td>\n",
              "    </tr>\n",
              "    <tr>\n",
              "      <th>130</th>\n",
              "      <td>78513</td>\n",
              "      <td>0.310900</td>\n",
              "      <td>19.175</td>\n",
              "      <td>0.747798</td>\n",
              "      <td>3.70325</td>\n",
              "      <td>27.0925</td>\n",
              "      <td>43.4400</td>\n",
              "      <td>84.0850</td>\n",
              "      <td>79.7325</td>\n",
              "      <td>36.3025</td>\n",
              "      <td>0.375882</td>\n",
              "    </tr>\n",
              "    <tr>\n",
              "      <th>34</th>\n",
              "      <td>76290</td>\n",
              "      <td>0.316375</td>\n",
              "      <td>15.925</td>\n",
              "      <td>1.123899</td>\n",
              "      <td>3.73275</td>\n",
              "      <td>27.3075</td>\n",
              "      <td>43.9800</td>\n",
              "      <td>87.0750</td>\n",
              "      <td>85.1450</td>\n",
              "      <td>34.8500</td>\n",
              "      <td>0.396961</td>\n",
              "    </tr>\n",
              "    <tr>\n",
              "      <th>53</th>\n",
              "      <td>79215</td>\n",
              "      <td>0.322275</td>\n",
              "      <td>8.850</td>\n",
              "      <td>0.719390</td>\n",
              "      <td>3.71050</td>\n",
              "      <td>27.9025</td>\n",
              "      <td>45.0825</td>\n",
              "      <td>83.9125</td>\n",
              "      <td>79.9200</td>\n",
              "      <td>32.6800</td>\n",
              "      <td>0.385204</td>\n",
              "    </tr>\n",
              "    <tr>\n",
              "      <th>45</th>\n",
              "      <td>67872</td>\n",
              "      <td>0.272950</td>\n",
              "      <td>28.700</td>\n",
              "      <td>0.714861</td>\n",
              "      <td>4.11850</td>\n",
              "      <td>32.1475</td>\n",
              "      <td>42.7425</td>\n",
              "      <td>76.1975</td>\n",
              "      <td>73.2800</td>\n",
              "      <td>40.2200</td>\n",
              "      <td>0.387243</td>\n",
              "    </tr>\n",
              "  </tbody>\n",
              "</table>\n",
              "</div>"
            ],
            "text/plain": [
              "     PCODE        타율      홈런       볼삼비  ...      컨택%   2S후커트%   2S후선구%       출루율\n",
              "91   76232  0.345600  24.100  1.142948  ...  88.9600  84.9250  32.7775  0.431669\n",
              "3    68050  0.345475  17.575  0.722307  ...  79.0825  75.2475  37.3975  0.425245\n",
              "146  75847  0.279825  28.225  0.694104  ...  75.8975  74.4375  38.4475  0.400284\n",
              "114  67341  0.341425   7.500  1.281708  ...  91.8950  87.4050  34.8325  0.409251\n",
              "140  79192  0.312075  15.100  0.424816  ...  79.2450  78.5475  30.3475  0.367242\n",
              "25   78224  0.283350  24.525  0.584736  ...  69.1950  63.4025  42.0600  0.385457\n",
              "130  78513  0.310900  19.175  0.747798  ...  84.0850  79.7325  36.3025  0.375882\n",
              "34   76290  0.316375  15.925  1.123899  ...  87.0750  85.1450  34.8500  0.396961\n",
              "53   79215  0.322275   8.850  0.719390  ...  83.9125  79.9200  32.6800  0.385204\n",
              "45   67872  0.272950  28.700  0.714861  ...  76.1975  73.2800  40.2200  0.387243\n",
              "\n",
              "[10 rows x 11 columns]"
            ]
          },
          "metadata": {},
          "execution_count": 153
        }
      ]
    },
    {
      "cell_type": "code",
      "metadata": {
        "id": "zBBNsRbjNx-0"
      },
      "source": [
        "df4_test = df4_test[['타율','홈런','볼삼비','P/PA','초구','전체','컨택%','2S후커트%','2S후선구%']]\n",
        "df4_test = scaler.fit_transform(df4_test)"
      ],
      "execution_count": null,
      "outputs": []
    },
    {
      "cell_type": "code",
      "metadata": {
        "colab": {
          "base_uri": "https://localhost:8080/"
        },
        "id": "zTaJM6tQNSFD",
        "outputId": "5cacb6c3-5435-4468-ee94-3cbfcca515bb"
      },
      "source": [
        "df4_test_lr = lr_model.predict(df4_test)\n",
        "df4_test_lr = np.array(df4_test_lr).flatten()\n",
        "df4_test_lr"
      ],
      "execution_count": null,
      "outputs": [
        {
          "output_type": "execute_result",
          "data": {
            "text/plain": [
              "array([0.3656144 , 0.42580535, 0.32367945, 0.39418745, 0.29415195,\n",
              "       0.34663864, 0.31671305, 0.33621833, 0.32615616, 0.34930862])"
            ]
          },
          "metadata": {},
          "execution_count": 155
        }
      ]
    },
    {
      "cell_type": "code",
      "metadata": {
        "id": "SDn39D7jbScc"
      },
      "source": [
        ""
      ],
      "execution_count": null,
      "outputs": []
    },
    {
      "cell_type": "code",
      "metadata": {
        "id": "o0mQ0aLvNSIM"
      },
      "source": [
        "x = df4[['타율','홈런','볼삼비','P/PA','초구','전체','컨택%','2S후커트%','2S후선구%']]\n",
        "y = df4[['출루율']]\n",
        "x_train, x_test, y_train, y_test = train_test_split(x, y, train_size=0.8, test_size=0.2)"
      ],
      "execution_count": null,
      "outputs": []
    },
    {
      "cell_type": "code",
      "metadata": {
        "colab": {
          "base_uri": "https://localhost:8080/"
        },
        "id": "gWDj9cJYNSK6",
        "outputId": "07936995-4e4e-4c5f-f02f-e0d61d5787b5"
      },
      "source": [
        "rf_model = RandomForestRegressor(max_depth=5, n_estimators = 150, min_samples_leaf=2, min_samples_split = 2, bootstrap=True, random_state=0)\n",
        "\n",
        "rf_model.fit(x_train, y_train)"
      ],
      "execution_count": null,
      "outputs": [
        {
          "output_type": "execute_result",
          "data": {
            "text/plain": [
              "RandomForestRegressor(bootstrap=True, ccp_alpha=0.0, criterion='mse',\n",
              "                      max_depth=5, max_features='auto', max_leaf_nodes=None,\n",
              "                      max_samples=None, min_impurity_decrease=0.0,\n",
              "                      min_impurity_split=None, min_samples_leaf=2,\n",
              "                      min_samples_split=2, min_weight_fraction_leaf=0.0,\n",
              "                      n_estimators=150, n_jobs=None, oob_score=False,\n",
              "                      random_state=0, verbose=0, warm_start=False)"
            ]
          },
          "metadata": {},
          "execution_count": 157
        }
      ]
    },
    {
      "cell_type": "code",
      "metadata": {
        "id": "Ywi2BbRNNSjb"
      },
      "source": [
        "df4_test = pd.read_csv('/content/drive/MyDrive/빅콘테스트/Train_dataset/출루율/2번/df1_test.csv',index_col=0)\n",
        "df4_test = df4_test[['타율','홈런','볼삼비','P/PA','초구','전체','컨택%','2S후커트%','2S후선구%']]"
      ],
      "execution_count": null,
      "outputs": []
    },
    {
      "cell_type": "code",
      "metadata": {
        "colab": {
          "base_uri": "https://localhost:8080/"
        },
        "id": "rAEtGVd4NzvG",
        "outputId": "8b8ad161-a779-410f-bb9a-0cf15330e48b"
      },
      "source": [
        "df4_test_rf = rf_model.predict(df4_test)\n",
        "df4_test_rf = df4_test_rf.astype(np.float32)\n",
        "df4_test_rf"
      ],
      "execution_count": null,
      "outputs": [
        {
          "output_type": "execute_result",
          "data": {
            "text/plain": [
              "array([0.39345473, 0.37707236, 0.37522388, 0.38944203, 0.33909523,\n",
              "       0.38359544, 0.3844786 , 0.38860777, 0.35685018, 0.37838545],\n",
              "      dtype=float32)"
            ]
          },
          "metadata": {},
          "execution_count": 159
        }
      ]
    },
    {
      "cell_type": "code",
      "metadata": {
        "id": "EcQun31CNzxt"
      },
      "source": [
        ""
      ],
      "execution_count": null,
      "outputs": []
    },
    {
      "cell_type": "code",
      "metadata": {
        "colab": {
          "base_uri": "https://localhost:8080/"
        },
        "id": "d9zDEB-CNz1H",
        "outputId": "2ab92d54-dc3e-4cf5-a924-2aeaded26c58"
      },
      "source": [
        "x = df4[['타율','홈런','볼삼비','P/PA','초구','전체','컨택%','2S후커트%','2S후선구%']]\n",
        "y = df4[['출루율']]\n",
        "x_train, x_test, y_train, y_test = train_test_split(x, y, train_size=0.8, test_size=0.2)\n",
        "\n",
        "xgb_model = xgboost.XGBRegressor(base_score=0.5, booster='gbtree', colsample_bylevel=1,\n",
        "             colsample_bynode=1, colsample_bytree=0.75, gamma=0,\n",
        "             importance_type='gain', learning_rate=0.02, max_delta_step=0,\n",
        "             max_depth=7, min_child_weight=1, missing=None, n_estimators=1000,\n",
        "             n_jobs=1, nthread=None, objective='reg:linear', random_state=0,\n",
        "             reg_alpha=0.03, reg_lambda=1, scale_pos_weight=1, seed=None,\n",
        "             silent=None, subsample=1, verbosity=1)\n",
        "xgb_model.fit(x_train,y_train)"
      ],
      "execution_count": null,
      "outputs": [
        {
          "output_type": "stream",
          "name": "stdout",
          "text": [
            "[13:54:18] WARNING: /workspace/src/objective/regression_obj.cu:152: reg:linear is now deprecated in favor of reg:squarederror.\n"
          ]
        },
        {
          "output_type": "execute_result",
          "data": {
            "text/plain": [
              "XGBRegressor(base_score=0.5, booster='gbtree', colsample_bylevel=1,\n",
              "             colsample_bynode=1, colsample_bytree=0.75, gamma=0,\n",
              "             importance_type='gain', learning_rate=0.02, max_delta_step=0,\n",
              "             max_depth=7, min_child_weight=1, missing=None, n_estimators=1000,\n",
              "             n_jobs=1, nthread=None, objective='reg:linear', random_state=0,\n",
              "             reg_alpha=0.03, reg_lambda=1, scale_pos_weight=1, seed=None,\n",
              "             silent=None, subsample=1, verbosity=1)"
            ]
          },
          "metadata": {},
          "execution_count": 160
        }
      ]
    },
    {
      "cell_type": "code",
      "metadata": {
        "colab": {
          "base_uri": "https://localhost:8080/"
        },
        "id": "Svtn_ijJNSmE",
        "outputId": "db1eee9b-f2b8-4dce-ee75-19d0a8071f28"
      },
      "source": [
        "df4_test_xgb = xgb_model.predict(df4_test)\n",
        "df4_test_xgb"
      ],
      "execution_count": null,
      "outputs": [
        {
          "output_type": "execute_result",
          "data": {
            "text/plain": [
              "array([0.390742  , 0.37994725, 0.38053006, 0.38846037, 0.35314995,\n",
              "       0.38604742, 0.37533748, 0.3912018 , 0.35604984, 0.3810172 ],\n",
              "      dtype=float32)"
            ]
          },
          "metadata": {},
          "execution_count": 161
        }
      ]
    },
    {
      "cell_type": "code",
      "metadata": {
        "id": "lkkLVF54NylA"
      },
      "source": [
        ""
      ],
      "execution_count": null,
      "outputs": []
    },
    {
      "cell_type": "code",
      "metadata": {
        "colab": {
          "base_uri": "https://localhost:8080/"
        },
        "id": "fg65mPg3OOqi",
        "outputId": "b7116e46-be22-433d-f2dc-ea78c2ae2d06"
      },
      "source": [
        "obp2 = (df4_test_lr + df4_test_rf + df4_test_xgb)/3\n",
        "obp2"
      ],
      "execution_count": null,
      "outputs": [
        {
          "output_type": "execute_result",
          "data": {
            "text/plain": [
              "array([0.38327038, 0.39427499, 0.35981113, 0.39069661, 0.32879904,\n",
              "       0.37209383, 0.35884304, 0.3720093 , 0.34635206, 0.36957043])"
            ]
          },
          "metadata": {},
          "execution_count": 162
        }
      ]
    },
    {
      "cell_type": "code",
      "metadata": {
        "id": "_A3Jp2JiOOtH"
      },
      "source": [
        ""
      ],
      "execution_count": null,
      "outputs": []
    },
    {
      "cell_type": "markdown",
      "metadata": {
        "id": "aSLivHQENGC-"
      },
      "source": [
        "#### 3번 (시즌별로 따로 집계)"
      ]
    },
    {
      "cell_type": "code",
      "metadata": {
        "colab": {
          "base_uri": "https://localhost:8080/"
        },
        "id": "eVD9L1WKOOvg",
        "outputId": "a2d5136c-7797-4883-f7d3-91f68ac20fef"
      },
      "source": [
        "df7 = pd.read_csv('/content/drive/MyDrive/빅콘테스트/Train_dataset/출루율/3번/df1.csv', index_col=0)\n",
        "\n",
        "x = df7[['타율','홈런','볼삼비','P/PA','초구','전체','컨택%','2S후커트%','2S후선구%']]\n",
        "y = df7[['출루율']]\n",
        "x_train, x_test, y_train, y_test = train_test_split(x, y, train_size=0.8, test_size=0.2)\n",
        "\n",
        "scaler = StandardScaler()\n",
        "\n",
        "x_train = scaler.fit_transform(x_train)\n",
        "x_test= scaler.transform(x_test)\n",
        "\n",
        "lr_model = LinearRegression()\n",
        "lr_model.fit(x_train, y_train)"
      ],
      "execution_count": null,
      "outputs": [
        {
          "output_type": "execute_result",
          "data": {
            "text/plain": [
              "LinearRegression(copy_X=True, fit_intercept=True, n_jobs=None, normalize=False)"
            ]
          },
          "metadata": {},
          "execution_count": 163
        }
      ]
    },
    {
      "cell_type": "code",
      "metadata": {
        "id": "SoSIPWD8OOxr"
      },
      "source": [
        "df7_test = pd.read_csv('/content/drive/MyDrive/빅콘테스트/Train_dataset/출루율/3번/df1_test.csv', index_col= 0)\n",
        "df7_test = df7_test[['타율','홈런','볼삼비','P/PA','초구','전체','컨택%','2S후커트%','2S후선구%']]\n",
        "df7_test = scaler.fit_transform(df7_test)"
      ],
      "execution_count": null,
      "outputs": []
    },
    {
      "cell_type": "code",
      "metadata": {
        "colab": {
          "base_uri": "https://localhost:8080/"
        },
        "id": "nOg5AsLuOO0x",
        "outputId": "6fe36d28-a99a-46f3-a7fd-59f2c0bd04d9"
      },
      "source": [
        "df7_test_lr = lr_model.predict(df7_test)\n",
        "df7_test_lr = np.array(df7_test_lr).flatten()\n",
        "df7_test_lr"
      ],
      "execution_count": null,
      "outputs": [
        {
          "output_type": "execute_result",
          "data": {
            "text/plain": [
              "array([0.36847368, 0.42771617, 0.342313  , 0.40014993, 0.32128848,\n",
              "       0.34007181, 0.34982978, 0.33464433, 0.33867679, 0.31459735])"
            ]
          },
          "metadata": {},
          "execution_count": 165
        }
      ]
    },
    {
      "cell_type": "code",
      "metadata": {
        "id": "OhlSup5bOO3E"
      },
      "source": [
        ""
      ],
      "execution_count": null,
      "outputs": []
    },
    {
      "cell_type": "code",
      "metadata": {
        "id": "v-LXNbxpOPXV"
      },
      "source": [
        "x = df7[['타율','홈런','볼삼비','P/PA','초구','전체','컨택%','2S후커트%','2S후선구%']]\n",
        "y = df7[['출루율']]\n",
        "x_train, x_test, y_train, y_test = train_test_split(x, y, train_size=0.8, test_size=0.2)"
      ],
      "execution_count": null,
      "outputs": []
    },
    {
      "cell_type": "code",
      "metadata": {
        "colab": {
          "base_uri": "https://localhost:8080/"
        },
        "id": "qsPvHEw3OPaY",
        "outputId": "87fff74a-8fbe-4a5b-f98f-5bb0b300bd3d"
      },
      "source": [
        "rf_model = RandomForestRegressor(max_depth=6, n_estimators = 100, min_samples_leaf=2, min_samples_split = 4, bootstrap=True, random_state=0)\n",
        "\n",
        "rf_model.fit(x_train, y_train)"
      ],
      "execution_count": null,
      "outputs": [
        {
          "output_type": "execute_result",
          "data": {
            "text/plain": [
              "RandomForestRegressor(bootstrap=True, ccp_alpha=0.0, criterion='mse',\n",
              "                      max_depth=6, max_features='auto', max_leaf_nodes=None,\n",
              "                      max_samples=None, min_impurity_decrease=0.0,\n",
              "                      min_impurity_split=None, min_samples_leaf=2,\n",
              "                      min_samples_split=4, min_weight_fraction_leaf=0.0,\n",
              "                      n_estimators=100, n_jobs=None, oob_score=False,\n",
              "                      random_state=0, verbose=0, warm_start=False)"
            ]
          },
          "metadata": {},
          "execution_count": 170
        }
      ]
    },
    {
      "cell_type": "code",
      "metadata": {
        "colab": {
          "base_uri": "https://localhost:8080/"
        },
        "id": "M649FqstOPfY",
        "outputId": "253cd86b-d61d-4ef5-ad66-c02b912fe2f4"
      },
      "source": [
        "df7_test = pd.read_csv('/content/drive/MyDrive/빅콘테스트/Train_dataset/출루율/3번/df1_test.csv', index_col= 0)\n",
        "df7_test = df7_test[['타율','홈런','볼삼비','P/PA','초구','전체','컨택%','2S후커트%','2S후선구%']]\n",
        "df7_test_rf = rf_model.predict(df7_test)\n",
        "df7_test_rf = df7_test_rf.astype(np.float32)\n",
        "df7_test_rf"
      ],
      "execution_count": null,
      "outputs": [
        {
          "output_type": "execute_result",
          "data": {
            "text/plain": [
              "array([0.41726622, 0.43127564, 0.37399527, 0.41558653, 0.37142354,\n",
              "       0.3726    , 0.4050736 , 0.36852568, 0.4081458 , 0.34658453],\n",
              "      dtype=float32)"
            ]
          },
          "metadata": {},
          "execution_count": 171
        }
      ]
    },
    {
      "cell_type": "code",
      "metadata": {
        "id": "TpEdgn4-OPdP"
      },
      "source": [
        ""
      ],
      "execution_count": null,
      "outputs": []
    },
    {
      "cell_type": "code",
      "metadata": {
        "id": "yqmXzc0cOPha"
      },
      "source": [
        "x = df7[['타율','홈런','볼삼비','P/PA','초구','전체','컨택%','2S후커트%','2S후선구%']]\n",
        "y = df7[['출루율']]\n",
        "x_train, x_test, y_train, y_test = train_test_split(x, y, train_size=0.8, test_size=0.2)"
      ],
      "execution_count": null,
      "outputs": []
    },
    {
      "cell_type": "code",
      "metadata": {
        "colab": {
          "base_uri": "https://localhost:8080/"
        },
        "id": "O9JKtcHrOPke",
        "outputId": "5bea017c-3b79-47b8-8192-02739906bc0c"
      },
      "source": [
        "xgb_model = xgboost.XGBRegressor(base_score=0.5, booster='gbtree', colsample_bylevel=1,\n",
        "             colsample_bynode=1, colsample_bytree=0.75, gamma=0,\n",
        "             importance_type='gain', learning_rate=0.02, max_delta_step=0,\n",
        "             max_depth=7, min_child_weight=1, missing=None, n_estimators=1000,\n",
        "             n_jobs=1, nthread=None, objective='reg:linear', random_state=0,\n",
        "             reg_alpha=0.03, reg_lambda=1, scale_pos_weight=1, seed=None,\n",
        "             silent=None, subsample=1, verbosity=1)\n",
        "xgb_model.fit(x_train,y_train)"
      ],
      "execution_count": null,
      "outputs": [
        {
          "output_type": "stream",
          "name": "stdout",
          "text": [
            "[14:01:15] WARNING: /workspace/src/objective/regression_obj.cu:152: reg:linear is now deprecated in favor of reg:squarederror.\n"
          ]
        },
        {
          "output_type": "execute_result",
          "data": {
            "text/plain": [
              "XGBRegressor(base_score=0.5, booster='gbtree', colsample_bylevel=1,\n",
              "             colsample_bynode=1, colsample_bytree=0.75, gamma=0,\n",
              "             importance_type='gain', learning_rate=0.02, max_delta_step=0,\n",
              "             max_depth=7, min_child_weight=1, missing=None, n_estimators=1000,\n",
              "             n_jobs=1, nthread=None, objective='reg:linear', random_state=0,\n",
              "             reg_alpha=0.03, reg_lambda=1, scale_pos_weight=1, seed=None,\n",
              "             silent=None, subsample=1, verbosity=1)"
            ]
          },
          "metadata": {},
          "execution_count": 173
        }
      ]
    },
    {
      "cell_type": "code",
      "metadata": {
        "colab": {
          "base_uri": "https://localhost:8080/"
        },
        "id": "iMmHEWRBNynk",
        "outputId": "b5e5329b-5d5f-491e-98a1-974f1fe42a35"
      },
      "source": [
        "df7_test_xgb = xgb_model.predict(df7_test)\n",
        "df7_test_xgb"
      ],
      "execution_count": null,
      "outputs": [
        {
          "output_type": "execute_result",
          "data": {
            "text/plain": [
              "array([0.41938218, 0.43907574, 0.3949197 , 0.43351197, 0.37262955,\n",
              "       0.3919822 , 0.40578482, 0.3747944 , 0.39920047, 0.3709721 ],\n",
              "      dtype=float32)"
            ]
          },
          "metadata": {},
          "execution_count": 174
        }
      ]
    },
    {
      "cell_type": "code",
      "metadata": {
        "colab": {
          "base_uri": "https://localhost:8080/"
        },
        "id": "th1ji3qHNyqc",
        "outputId": "6f1eefc9-b604-4bef-9ecf-8c192e709298"
      },
      "source": [
        "obp3 = (df7_test_lr + df7_test_rf + df7_test_xgb)/3\n",
        "obp3"
      ],
      "execution_count": null,
      "outputs": [
        {
          "output_type": "execute_result",
          "data": {
            "text/plain": [
              "array([0.40170736, 0.43268918, 0.37040932, 0.41641614, 0.35511386,\n",
              "       0.368218  , 0.38689607, 0.35932147, 0.38200768, 0.34405132])"
            ]
          },
          "metadata": {},
          "execution_count": 175
        }
      ]
    },
    {
      "cell_type": "code",
      "metadata": {
        "id": "4Kc5f_3HNys_"
      },
      "source": [
        ""
      ],
      "execution_count": null,
      "outputs": []
    },
    {
      "cell_type": "markdown",
      "metadata": {
        "id": "l4oor9UXNV6c"
      },
      "source": [
        "#### 4번 (21년 시즌 해당 선수 기록 평균값)"
      ]
    },
    {
      "cell_type": "code",
      "metadata": {
        "colab": {
          "base_uri": "https://localhost:8080/",
          "height": 390
        },
        "id": "lr5IlbWdNA2S",
        "outputId": "95de51f5-f4a4-4eda-e8ea-879b7e4b1395"
      },
      "source": [
        "obp4 = pd.read_excel('/content/drive/MyDrive/빅콘테스트/Train_dataset/21년과최근30일.xlsx',index_col=0)\n",
        "obp4"
      ],
      "execution_count": null,
      "outputs": [
        {
          "output_type": "execute_result",
          "data": {
            "text/html": [
              "<div>\n",
              "<style scoped>\n",
              "    .dataframe tbody tr th:only-of-type {\n",
              "        vertical-align: middle;\n",
              "    }\n",
              "\n",
              "    .dataframe tbody tr th {\n",
              "        vertical-align: top;\n",
              "    }\n",
              "\n",
              "    .dataframe thead th {\n",
              "        text-align: right;\n",
              "    }\n",
              "</style>\n",
              "<table border=\"1\" class=\"dataframe\">\n",
              "  <thead>\n",
              "    <tr style=\"text-align: right;\">\n",
              "      <th></th>\n",
              "      <th>NAME</th>\n",
              "      <th>21출루율</th>\n",
              "      <th>21장타율</th>\n",
              "      <th>21OPS</th>\n",
              "      <th>30일출루율</th>\n",
              "      <th>30일장타율</th>\n",
              "      <th>30일OPS</th>\n",
              "    </tr>\n",
              "    <tr>\n",
              "      <th>PCODE</th>\n",
              "      <th></th>\n",
              "      <th></th>\n",
              "      <th></th>\n",
              "      <th></th>\n",
              "      <th></th>\n",
              "      <th></th>\n",
              "      <th></th>\n",
              "    </tr>\n",
              "  </thead>\n",
              "  <tbody>\n",
              "    <tr>\n",
              "      <th>76232</th>\n",
              "      <td>양의지</td>\n",
              "      <td>0.429</td>\n",
              "      <td>0.612</td>\n",
              "      <td>1.041</td>\n",
              "      <td>0.341</td>\n",
              "      <td>0.430</td>\n",
              "      <td>0.771</td>\n",
              "    </tr>\n",
              "    <tr>\n",
              "      <th>68050</th>\n",
              "      <td>강백호</td>\n",
              "      <td>0.467</td>\n",
              "      <td>0.577</td>\n",
              "      <td>1.044</td>\n",
              "      <td>0.344</td>\n",
              "      <td>0.573</td>\n",
              "      <td>0.917</td>\n",
              "    </tr>\n",
              "    <tr>\n",
              "      <th>75847</th>\n",
              "      <td>최정</td>\n",
              "      <td>0.410</td>\n",
              "      <td>0.584</td>\n",
              "      <td>0.994</td>\n",
              "      <td>0.368</td>\n",
              "      <td>0.623</td>\n",
              "      <td>0.991</td>\n",
              "    </tr>\n",
              "    <tr>\n",
              "      <th>67341</th>\n",
              "      <td>이정후</td>\n",
              "      <td>0.449</td>\n",
              "      <td>0.525</td>\n",
              "      <td>0.973</td>\n",
              "      <td>0.609</td>\n",
              "      <td>0.857</td>\n",
              "      <td>1.466</td>\n",
              "    </tr>\n",
              "    <tr>\n",
              "      <th>79192</th>\n",
              "      <td>채은성</td>\n",
              "      <td>0.372</td>\n",
              "      <td>0.522</td>\n",
              "      <td>0.894</td>\n",
              "      <td>0.250</td>\n",
              "      <td>0.417</td>\n",
              "      <td>0.667</td>\n",
              "    </tr>\n",
              "    <tr>\n",
              "      <th>78224</th>\n",
              "      <td>김재환</td>\n",
              "      <td>0.389</td>\n",
              "      <td>0.505</td>\n",
              "      <td>0.893</td>\n",
              "      <td>0.344</td>\n",
              "      <td>0.471</td>\n",
              "      <td>0.814</td>\n",
              "    </tr>\n",
              "    <tr>\n",
              "      <th>78513</th>\n",
              "      <td>전준우</td>\n",
              "      <td>0.380</td>\n",
              "      <td>0.424</td>\n",
              "      <td>0.805</td>\n",
              "      <td>0.280</td>\n",
              "      <td>0.372</td>\n",
              "      <td>0.652</td>\n",
              "    </tr>\n",
              "    <tr>\n",
              "      <th>76290</th>\n",
              "      <td>김현수</td>\n",
              "      <td>0.376</td>\n",
              "      <td>0.460</td>\n",
              "      <td>0.836</td>\n",
              "      <td>0.381</td>\n",
              "      <td>0.452</td>\n",
              "      <td>0.833</td>\n",
              "    </tr>\n",
              "    <tr>\n",
              "      <th>79215</th>\n",
              "      <td>박건우</td>\n",
              "      <td>0.407</td>\n",
              "      <td>0.439</td>\n",
              "      <td>0.847</td>\n",
              "      <td>0.422</td>\n",
              "      <td>0.465</td>\n",
              "      <td>0.887</td>\n",
              "    </tr>\n",
              "    <tr>\n",
              "      <th>67872</th>\n",
              "      <td>로맥</td>\n",
              "      <td>0.348</td>\n",
              "      <td>0.431</td>\n",
              "      <td>0.778</td>\n",
              "      <td>0.260</td>\n",
              "      <td>0.295</td>\n",
              "      <td>0.556</td>\n",
              "    </tr>\n",
              "  </tbody>\n",
              "</table>\n",
              "</div>"
            ],
            "text/plain": [
              "      NAME  21출루율  21장타율  21OPS  30일출루율  30일장타율  30일OPS\n",
              "PCODE                                                  \n",
              "76232  양의지  0.429  0.612  1.041   0.341   0.430   0.771\n",
              "68050  강백호  0.467  0.577  1.044   0.344   0.573   0.917\n",
              "75847   최정  0.410  0.584  0.994   0.368   0.623   0.991\n",
              "67341  이정후  0.449  0.525  0.973   0.609   0.857   1.466\n",
              "79192  채은성  0.372  0.522  0.894   0.250   0.417   0.667\n",
              "78224  김재환  0.389  0.505  0.893   0.344   0.471   0.814\n",
              "78513  전준우  0.380  0.424  0.805   0.280   0.372   0.652\n",
              "76290  김현수  0.376  0.460  0.836   0.381   0.452   0.833\n",
              "79215  박건우  0.407  0.439  0.847   0.422   0.465   0.887\n",
              "67872   로맥  0.348  0.431  0.778   0.260   0.295   0.556"
            ]
          },
          "metadata": {},
          "execution_count": 176
        }
      ]
    },
    {
      "cell_type": "code",
      "metadata": {
        "colab": {
          "base_uri": "https://localhost:8080/"
        },
        "id": "uFOISZ23N1U9",
        "outputId": "d81005e6-581f-41f6-d8d2-3a7bf66d3e4d"
      },
      "source": [
        "obp4 = obp4['21출루율']\n",
        "obp4"
      ],
      "execution_count": null,
      "outputs": [
        {
          "output_type": "execute_result",
          "data": {
            "text/plain": [
              "PCODE\n",
              "76232    0.429\n",
              "68050    0.467\n",
              "75847    0.410\n",
              "67341    0.449\n",
              "79192    0.372\n",
              "78224    0.389\n",
              "78513    0.380\n",
              "76290    0.376\n",
              "79215    0.407\n",
              "67872    0.348\n",
              "Name: 21출루율, dtype: float64"
            ]
          },
          "metadata": {},
          "execution_count": 177
        }
      ]
    },
    {
      "cell_type": "code",
      "metadata": {
        "id": "wEx0U2j6NBAS"
      },
      "source": [
        ""
      ],
      "execution_count": null,
      "outputs": []
    },
    {
      "cell_type": "markdown",
      "metadata": {
        "id": "rvGawMS2NfKn"
      },
      "source": [
        "#### 5번 (최근 30경기 해당 선수 기록 평균값)"
      ]
    },
    {
      "cell_type": "code",
      "metadata": {
        "colab": {
          "base_uri": "https://localhost:8080/",
          "height": 390
        },
        "id": "ps-nvNX7NBDG",
        "outputId": "132ee99d-6bb9-413f-db12-558202a715b1"
      },
      "source": [
        "obp5 = pd.read_excel('/content/drive/MyDrive/빅콘테스트/Train_dataset/21년과최근30일.xlsx',index_col=0)\n",
        "obp5"
      ],
      "execution_count": null,
      "outputs": [
        {
          "output_type": "execute_result",
          "data": {
            "text/html": [
              "<div>\n",
              "<style scoped>\n",
              "    .dataframe tbody tr th:only-of-type {\n",
              "        vertical-align: middle;\n",
              "    }\n",
              "\n",
              "    .dataframe tbody tr th {\n",
              "        vertical-align: top;\n",
              "    }\n",
              "\n",
              "    .dataframe thead th {\n",
              "        text-align: right;\n",
              "    }\n",
              "</style>\n",
              "<table border=\"1\" class=\"dataframe\">\n",
              "  <thead>\n",
              "    <tr style=\"text-align: right;\">\n",
              "      <th></th>\n",
              "      <th>NAME</th>\n",
              "      <th>21출루율</th>\n",
              "      <th>21장타율</th>\n",
              "      <th>21OPS</th>\n",
              "      <th>30일출루율</th>\n",
              "      <th>30일장타율</th>\n",
              "      <th>30일OPS</th>\n",
              "    </tr>\n",
              "    <tr>\n",
              "      <th>PCODE</th>\n",
              "      <th></th>\n",
              "      <th></th>\n",
              "      <th></th>\n",
              "      <th></th>\n",
              "      <th></th>\n",
              "      <th></th>\n",
              "      <th></th>\n",
              "    </tr>\n",
              "  </thead>\n",
              "  <tbody>\n",
              "    <tr>\n",
              "      <th>76232</th>\n",
              "      <td>양의지</td>\n",
              "      <td>0.429</td>\n",
              "      <td>0.612</td>\n",
              "      <td>1.041</td>\n",
              "      <td>0.341</td>\n",
              "      <td>0.430</td>\n",
              "      <td>0.771</td>\n",
              "    </tr>\n",
              "    <tr>\n",
              "      <th>68050</th>\n",
              "      <td>강백호</td>\n",
              "      <td>0.467</td>\n",
              "      <td>0.577</td>\n",
              "      <td>1.044</td>\n",
              "      <td>0.344</td>\n",
              "      <td>0.573</td>\n",
              "      <td>0.917</td>\n",
              "    </tr>\n",
              "    <tr>\n",
              "      <th>75847</th>\n",
              "      <td>최정</td>\n",
              "      <td>0.410</td>\n",
              "      <td>0.584</td>\n",
              "      <td>0.994</td>\n",
              "      <td>0.368</td>\n",
              "      <td>0.623</td>\n",
              "      <td>0.991</td>\n",
              "    </tr>\n",
              "    <tr>\n",
              "      <th>67341</th>\n",
              "      <td>이정후</td>\n",
              "      <td>0.449</td>\n",
              "      <td>0.525</td>\n",
              "      <td>0.973</td>\n",
              "      <td>0.609</td>\n",
              "      <td>0.857</td>\n",
              "      <td>1.466</td>\n",
              "    </tr>\n",
              "    <tr>\n",
              "      <th>79192</th>\n",
              "      <td>채은성</td>\n",
              "      <td>0.372</td>\n",
              "      <td>0.522</td>\n",
              "      <td>0.894</td>\n",
              "      <td>0.250</td>\n",
              "      <td>0.417</td>\n",
              "      <td>0.667</td>\n",
              "    </tr>\n",
              "    <tr>\n",
              "      <th>78224</th>\n",
              "      <td>김재환</td>\n",
              "      <td>0.389</td>\n",
              "      <td>0.505</td>\n",
              "      <td>0.893</td>\n",
              "      <td>0.344</td>\n",
              "      <td>0.471</td>\n",
              "      <td>0.814</td>\n",
              "    </tr>\n",
              "    <tr>\n",
              "      <th>78513</th>\n",
              "      <td>전준우</td>\n",
              "      <td>0.380</td>\n",
              "      <td>0.424</td>\n",
              "      <td>0.805</td>\n",
              "      <td>0.280</td>\n",
              "      <td>0.372</td>\n",
              "      <td>0.652</td>\n",
              "    </tr>\n",
              "    <tr>\n",
              "      <th>76290</th>\n",
              "      <td>김현수</td>\n",
              "      <td>0.376</td>\n",
              "      <td>0.460</td>\n",
              "      <td>0.836</td>\n",
              "      <td>0.381</td>\n",
              "      <td>0.452</td>\n",
              "      <td>0.833</td>\n",
              "    </tr>\n",
              "    <tr>\n",
              "      <th>79215</th>\n",
              "      <td>박건우</td>\n",
              "      <td>0.407</td>\n",
              "      <td>0.439</td>\n",
              "      <td>0.847</td>\n",
              "      <td>0.422</td>\n",
              "      <td>0.465</td>\n",
              "      <td>0.887</td>\n",
              "    </tr>\n",
              "    <tr>\n",
              "      <th>67872</th>\n",
              "      <td>로맥</td>\n",
              "      <td>0.348</td>\n",
              "      <td>0.431</td>\n",
              "      <td>0.778</td>\n",
              "      <td>0.260</td>\n",
              "      <td>0.295</td>\n",
              "      <td>0.556</td>\n",
              "    </tr>\n",
              "  </tbody>\n",
              "</table>\n",
              "</div>"
            ],
            "text/plain": [
              "      NAME  21출루율  21장타율  21OPS  30일출루율  30일장타율  30일OPS\n",
              "PCODE                                                  \n",
              "76232  양의지  0.429  0.612  1.041   0.341   0.430   0.771\n",
              "68050  강백호  0.467  0.577  1.044   0.344   0.573   0.917\n",
              "75847   최정  0.410  0.584  0.994   0.368   0.623   0.991\n",
              "67341  이정후  0.449  0.525  0.973   0.609   0.857   1.466\n",
              "79192  채은성  0.372  0.522  0.894   0.250   0.417   0.667\n",
              "78224  김재환  0.389  0.505  0.893   0.344   0.471   0.814\n",
              "78513  전준우  0.380  0.424  0.805   0.280   0.372   0.652\n",
              "76290  김현수  0.376  0.460  0.836   0.381   0.452   0.833\n",
              "79215  박건우  0.407  0.439  0.847   0.422   0.465   0.887\n",
              "67872   로맥  0.348  0.431  0.778   0.260   0.295   0.556"
            ]
          },
          "metadata": {},
          "execution_count": 178
        }
      ]
    },
    {
      "cell_type": "code",
      "metadata": {
        "colab": {
          "base_uri": "https://localhost:8080/"
        },
        "id": "Ed9bgtD4NBFj",
        "outputId": "7d5dd094-1424-424d-dcd2-5f0b4646fe5e"
      },
      "source": [
        "obp5 = obp5['30일출루율']\n",
        "obp5"
      ],
      "execution_count": null,
      "outputs": [
        {
          "output_type": "execute_result",
          "data": {
            "text/plain": [
              "PCODE\n",
              "76232    0.341\n",
              "68050    0.344\n",
              "75847    0.368\n",
              "67341    0.609\n",
              "79192    0.250\n",
              "78224    0.344\n",
              "78513    0.280\n",
              "76290    0.381\n",
              "79215    0.422\n",
              "67872    0.260\n",
              "Name: 30일출루율, dtype: float64"
            ]
          },
          "metadata": {},
          "execution_count": 179
        }
      ]
    },
    {
      "cell_type": "code",
      "metadata": {
        "id": "ZTudwyRI7_sD"
      },
      "source": [
        ""
      ],
      "execution_count": null,
      "outputs": []
    },
    {
      "cell_type": "markdown",
      "metadata": {
        "id": "9deEO3t0N3Jp"
      },
      "source": [
        "#### 최종 출루율 예측"
      ]
    },
    {
      "cell_type": "code",
      "metadata": {
        "colab": {
          "base_uri": "https://localhost:8080/"
        },
        "id": "isJyVMl67_up",
        "outputId": "263e1146-6147-4de3-9072-9208672fa4fc"
      },
      "source": [
        "obp1"
      ],
      "execution_count": null,
      "outputs": [
        {
          "output_type": "execute_result",
          "data": {
            "text/plain": [
              "array([0.38745411, 0.38915636, 0.36884722, 0.3916381 , 0.34742129,\n",
              "       0.37177921, 0.37323121, 0.37944915, 0.36313105, 0.3753668 ])"
            ]
          },
          "metadata": {},
          "execution_count": 180
        }
      ]
    },
    {
      "cell_type": "code",
      "metadata": {
        "colab": {
          "base_uri": "https://localhost:8080/"
        },
        "id": "2ZZOaPd67_xe",
        "outputId": "057fe13f-b2b4-4050-ff77-d7704763cb8a"
      },
      "source": [
        "obp2"
      ],
      "execution_count": null,
      "outputs": [
        {
          "output_type": "execute_result",
          "data": {
            "text/plain": [
              "array([0.38327038, 0.39427499, 0.35981113, 0.39069661, 0.32879904,\n",
              "       0.37209383, 0.35884304, 0.3720093 , 0.34635206, 0.36957043])"
            ]
          },
          "metadata": {},
          "execution_count": 181
        }
      ]
    },
    {
      "cell_type": "code",
      "metadata": {
        "colab": {
          "base_uri": "https://localhost:8080/"
        },
        "id": "CQW_ObuC7_0F",
        "outputId": "0a5bd62f-bb4e-43fa-91ba-659abb0b845e"
      },
      "source": [
        "obp3"
      ],
      "execution_count": null,
      "outputs": [
        {
          "output_type": "execute_result",
          "data": {
            "text/plain": [
              "array([0.40170736, 0.43268918, 0.37040932, 0.41641614, 0.35511386,\n",
              "       0.368218  , 0.38689607, 0.35932147, 0.38200768, 0.34405132])"
            ]
          },
          "metadata": {},
          "execution_count": 182
        }
      ]
    },
    {
      "cell_type": "code",
      "metadata": {
        "colab": {
          "base_uri": "https://localhost:8080/"
        },
        "id": "5H1844dx7_2t",
        "outputId": "40f70367-6744-49cf-d7d3-ad815913d2b1"
      },
      "source": [
        "obp4"
      ],
      "execution_count": null,
      "outputs": [
        {
          "output_type": "execute_result",
          "data": {
            "text/plain": [
              "PCODE\n",
              "76232    0.429\n",
              "68050    0.467\n",
              "75847    0.410\n",
              "67341    0.449\n",
              "79192    0.372\n",
              "78224    0.389\n",
              "78513    0.380\n",
              "76290    0.376\n",
              "79215    0.407\n",
              "67872    0.348\n",
              "Name: 21출루율, dtype: float64"
            ]
          },
          "metadata": {},
          "execution_count": 183
        }
      ]
    },
    {
      "cell_type": "code",
      "metadata": {
        "colab": {
          "base_uri": "https://localhost:8080/"
        },
        "id": "K5FrtnmZ7_5T",
        "outputId": "286e5bed-104e-42f0-a9ad-4008cd0c2c2c"
      },
      "source": [
        "obp5"
      ],
      "execution_count": null,
      "outputs": [
        {
          "output_type": "execute_result",
          "data": {
            "text/plain": [
              "PCODE\n",
              "76232    0.341\n",
              "68050    0.344\n",
              "75847    0.368\n",
              "67341    0.609\n",
              "79192    0.250\n",
              "78224    0.344\n",
              "78513    0.280\n",
              "76290    0.381\n",
              "79215    0.422\n",
              "67872    0.260\n",
              "Name: 30일출루율, dtype: float64"
            ]
          },
          "metadata": {},
          "execution_count": 184
        }
      ]
    },
    {
      "cell_type": "code",
      "metadata": {
        "colab": {
          "base_uri": "https://localhost:8080/"
        },
        "id": "ekAppxGm7_74",
        "outputId": "96ba0d52-f5ea-43df-d6eb-f0a978314e3a"
      },
      "source": [
        "obp = (obp1 + obp2 + obp3 + obp4 + obp5) / 5\n",
        "obp"
      ],
      "execution_count": null,
      "outputs": [
        {
          "output_type": "execute_result",
          "data": {
            "text/plain": [
              "PCODE\n",
              "76232    0.388486\n",
              "68050    0.405424\n",
              "75847    0.375414\n",
              "67341    0.451350\n",
              "79192    0.330667\n",
              "78224    0.369018\n",
              "78513    0.355794\n",
              "76290    0.373556\n",
              "79215    0.384098\n",
              "67872    0.339398\n",
              "dtype: float64"
            ]
          },
          "metadata": {},
          "execution_count": 185
        }
      ]
    },
    {
      "cell_type": "code",
      "metadata": {
        "id": "Ac72R-hbOC7I"
      },
      "source": [
        ""
      ],
      "execution_count": null,
      "outputs": []
    },
    {
      "cell_type": "code",
      "metadata": {
        "id": "3VP63KOAOC-Y"
      },
      "source": [
        ""
      ],
      "execution_count": null,
      "outputs": []
    },
    {
      "cell_type": "markdown",
      "metadata": {
        "id": "umymYdyKODsu"
      },
      "source": [
        "## 3) OPS 예측"
      ]
    },
    {
      "cell_type": "code",
      "metadata": {
        "colab": {
          "base_uri": "https://localhost:8080/"
        },
        "id": "Upc9tZmPODAx",
        "outputId": "32e9ad3f-3c75-4fa0-9c46-265feffa7f85"
      },
      "source": [
        "slg"
      ],
      "execution_count": null,
      "outputs": [
        {
          "output_type": "execute_result",
          "data": {
            "text/plain": [
              "PCODE\n",
              "76232    0.529828\n",
              "68050    0.534003\n",
              "75847    0.541094\n",
              "67341    0.530886\n",
              "79192    0.469827\n",
              "78224    0.494640\n",
              "78513    0.448415\n",
              "76290    0.461833\n",
              "79215    0.444699\n",
              "67872    0.432151\n",
              "dtype: float64"
            ]
          },
          "metadata": {},
          "execution_count": 186
        }
      ]
    },
    {
      "cell_type": "code",
      "metadata": {
        "colab": {
          "base_uri": "https://localhost:8080/"
        },
        "id": "6y7gl3aHODCy",
        "outputId": "15be6619-96bf-449e-cb06-83a092364dbd"
      },
      "source": [
        "obp"
      ],
      "execution_count": null,
      "outputs": [
        {
          "output_type": "execute_result",
          "data": {
            "text/plain": [
              "PCODE\n",
              "76232    0.388486\n",
              "68050    0.405424\n",
              "75847    0.375414\n",
              "67341    0.451350\n",
              "79192    0.330667\n",
              "78224    0.369018\n",
              "78513    0.355794\n",
              "76290    0.373556\n",
              "79215    0.384098\n",
              "67872    0.339398\n",
              "dtype: float64"
            ]
          },
          "metadata": {},
          "execution_count": 187
        }
      ]
    },
    {
      "cell_type": "code",
      "metadata": {
        "colab": {
          "base_uri": "https://localhost:8080/"
        },
        "id": "EPKfEkGeODFb",
        "outputId": "7f4f7dfe-5bcd-4520-f316-52c74707d881"
      },
      "source": [
        "ops = slg + obp\n",
        "ops"
      ],
      "execution_count": null,
      "outputs": [
        {
          "output_type": "execute_result",
          "data": {
            "text/plain": [
              "PCODE\n",
              "76232    0.918314\n",
              "68050    0.939427\n",
              "75847    0.916508\n",
              "67341    0.982236\n",
              "79192    0.800494\n",
              "78224    0.863658\n",
              "78513    0.804209\n",
              "76290    0.835389\n",
              "79215    0.828798\n",
              "67872    0.771549\n",
              "dtype: float64"
            ]
          },
          "metadata": {},
          "execution_count": 188
        }
      ]
    },
    {
      "cell_type": "code",
      "metadata": {
        "colab": {
          "base_uri": "https://localhost:8080/",
          "height": 421
        },
        "id": "TiDyejB8ODIq",
        "outputId": "7afa0fa8-056a-4fdb-810a-bdca5c00ab0b"
      },
      "source": [
        "test = pd.read_excel('/content/drive/MyDrive/빅콘테스트/02_평가데이터/2021 빅콘테스트_데이터분석분야_챔피언리그_스포츠테크_평가데이터.xlsx')\n",
        "test "
      ],
      "execution_count": null,
      "outputs": [
        {
          "output_type": "execute_result",
          "data": {
            "text/html": [
              "<div>\n",
              "<style scoped>\n",
              "    .dataframe tbody tr th:only-of-type {\n",
              "        vertical-align: middle;\n",
              "    }\n",
              "\n",
              "    .dataframe tbody tr th {\n",
              "        vertical-align: top;\n",
              "    }\n",
              "\n",
              "    .dataframe thead th {\n",
              "        text-align: right;\n",
              "    }\n",
              "</style>\n",
              "<table border=\"1\" class=\"dataframe\">\n",
              "  <thead>\n",
              "    <tr style=\"text-align: right;\">\n",
              "      <th></th>\n",
              "      <th>NO.</th>\n",
              "      <th>PCODE</th>\n",
              "      <th>OPS</th>\n",
              "      <th>장타율</th>\n",
              "      <th>출루율</th>\n",
              "    </tr>\n",
              "  </thead>\n",
              "  <tbody>\n",
              "    <tr>\n",
              "      <th>0</th>\n",
              "      <td>NaN</td>\n",
              "      <td>(예시)</td>\n",
              "      <td>1.09</td>\n",
              "      <td>0.68</td>\n",
              "      <td>0.417</td>\n",
              "    </tr>\n",
              "    <tr>\n",
              "      <th>1</th>\n",
              "      <td>1</td>\n",
              "      <td>NaN</td>\n",
              "      <td>NaN</td>\n",
              "      <td>NaN</td>\n",
              "      <td>NaN</td>\n",
              "    </tr>\n",
              "    <tr>\n",
              "      <th>2</th>\n",
              "      <td>2</td>\n",
              "      <td>NaN</td>\n",
              "      <td>NaN</td>\n",
              "      <td>NaN</td>\n",
              "      <td>NaN</td>\n",
              "    </tr>\n",
              "    <tr>\n",
              "      <th>3</th>\n",
              "      <td>3</td>\n",
              "      <td>NaN</td>\n",
              "      <td>NaN</td>\n",
              "      <td>NaN</td>\n",
              "      <td>NaN</td>\n",
              "    </tr>\n",
              "    <tr>\n",
              "      <th>4</th>\n",
              "      <td>4</td>\n",
              "      <td>NaN</td>\n",
              "      <td>NaN</td>\n",
              "      <td>NaN</td>\n",
              "      <td>NaN</td>\n",
              "    </tr>\n",
              "    <tr>\n",
              "      <th>5</th>\n",
              "      <td>5</td>\n",
              "      <td>NaN</td>\n",
              "      <td>NaN</td>\n",
              "      <td>NaN</td>\n",
              "      <td>NaN</td>\n",
              "    </tr>\n",
              "    <tr>\n",
              "      <th>6</th>\n",
              "      <td>6</td>\n",
              "      <td>NaN</td>\n",
              "      <td>NaN</td>\n",
              "      <td>NaN</td>\n",
              "      <td>NaN</td>\n",
              "    </tr>\n",
              "    <tr>\n",
              "      <th>7</th>\n",
              "      <td>7</td>\n",
              "      <td>NaN</td>\n",
              "      <td>NaN</td>\n",
              "      <td>NaN</td>\n",
              "      <td>NaN</td>\n",
              "    </tr>\n",
              "    <tr>\n",
              "      <th>8</th>\n",
              "      <td>8</td>\n",
              "      <td>NaN</td>\n",
              "      <td>NaN</td>\n",
              "      <td>NaN</td>\n",
              "      <td>NaN</td>\n",
              "    </tr>\n",
              "    <tr>\n",
              "      <th>9</th>\n",
              "      <td>9</td>\n",
              "      <td>NaN</td>\n",
              "      <td>NaN</td>\n",
              "      <td>NaN</td>\n",
              "      <td>NaN</td>\n",
              "    </tr>\n",
              "    <tr>\n",
              "      <th>10</th>\n",
              "      <td>10</td>\n",
              "      <td>NaN</td>\n",
              "      <td>NaN</td>\n",
              "      <td>NaN</td>\n",
              "      <td>NaN</td>\n",
              "    </tr>\n",
              "    <tr>\n",
              "      <th>11</th>\n",
              "      <td>*설명회 자료 참고</td>\n",
              "      <td>NaN</td>\n",
              "      <td>NaN</td>\n",
              "      <td>NaN</td>\n",
              "      <td>NaN</td>\n",
              "    </tr>\n",
              "  </tbody>\n",
              "</table>\n",
              "</div>"
            ],
            "text/plain": [
              "           NO. PCODE   OPS   장타율    출루율\n",
              "0          NaN  (예시)  1.09  0.68  0.417\n",
              "1            1   NaN   NaN   NaN    NaN\n",
              "2            2   NaN   NaN   NaN    NaN\n",
              "3            3   NaN   NaN   NaN    NaN\n",
              "4            4   NaN   NaN   NaN    NaN\n",
              "5            5   NaN   NaN   NaN    NaN\n",
              "6            6   NaN   NaN   NaN    NaN\n",
              "7            7   NaN   NaN   NaN    NaN\n",
              "8            8   NaN   NaN   NaN    NaN\n",
              "9            9   NaN   NaN   NaN    NaN\n",
              "10          10   NaN   NaN   NaN    NaN\n",
              "11  *설명회 자료 참고   NaN   NaN   NaN    NaN"
            ]
          },
          "metadata": {},
          "execution_count": 190
        }
      ]
    },
    {
      "cell_type": "code",
      "metadata": {
        "colab": {
          "base_uri": "https://localhost:8080/",
          "height": 359
        },
        "id": "JsGYP25geTh1",
        "outputId": "c5dcf899-d9b5-49a4-ed63-fe9d28454ffd"
      },
      "source": [
        "test = test.drop([0, 11])\n",
        "test"
      ],
      "execution_count": null,
      "outputs": [
        {
          "output_type": "execute_result",
          "data": {
            "text/html": [
              "<div>\n",
              "<style scoped>\n",
              "    .dataframe tbody tr th:only-of-type {\n",
              "        vertical-align: middle;\n",
              "    }\n",
              "\n",
              "    .dataframe tbody tr th {\n",
              "        vertical-align: top;\n",
              "    }\n",
              "\n",
              "    .dataframe thead th {\n",
              "        text-align: right;\n",
              "    }\n",
              "</style>\n",
              "<table border=\"1\" class=\"dataframe\">\n",
              "  <thead>\n",
              "    <tr style=\"text-align: right;\">\n",
              "      <th></th>\n",
              "      <th>NO.</th>\n",
              "      <th>PCODE</th>\n",
              "      <th>OPS</th>\n",
              "      <th>장타율</th>\n",
              "      <th>출루율</th>\n",
              "    </tr>\n",
              "  </thead>\n",
              "  <tbody>\n",
              "    <tr>\n",
              "      <th>1</th>\n",
              "      <td>1</td>\n",
              "      <td>NaN</td>\n",
              "      <td>NaN</td>\n",
              "      <td>NaN</td>\n",
              "      <td>NaN</td>\n",
              "    </tr>\n",
              "    <tr>\n",
              "      <th>2</th>\n",
              "      <td>2</td>\n",
              "      <td>NaN</td>\n",
              "      <td>NaN</td>\n",
              "      <td>NaN</td>\n",
              "      <td>NaN</td>\n",
              "    </tr>\n",
              "    <tr>\n",
              "      <th>3</th>\n",
              "      <td>3</td>\n",
              "      <td>NaN</td>\n",
              "      <td>NaN</td>\n",
              "      <td>NaN</td>\n",
              "      <td>NaN</td>\n",
              "    </tr>\n",
              "    <tr>\n",
              "      <th>4</th>\n",
              "      <td>4</td>\n",
              "      <td>NaN</td>\n",
              "      <td>NaN</td>\n",
              "      <td>NaN</td>\n",
              "      <td>NaN</td>\n",
              "    </tr>\n",
              "    <tr>\n",
              "      <th>5</th>\n",
              "      <td>5</td>\n",
              "      <td>NaN</td>\n",
              "      <td>NaN</td>\n",
              "      <td>NaN</td>\n",
              "      <td>NaN</td>\n",
              "    </tr>\n",
              "    <tr>\n",
              "      <th>6</th>\n",
              "      <td>6</td>\n",
              "      <td>NaN</td>\n",
              "      <td>NaN</td>\n",
              "      <td>NaN</td>\n",
              "      <td>NaN</td>\n",
              "    </tr>\n",
              "    <tr>\n",
              "      <th>7</th>\n",
              "      <td>7</td>\n",
              "      <td>NaN</td>\n",
              "      <td>NaN</td>\n",
              "      <td>NaN</td>\n",
              "      <td>NaN</td>\n",
              "    </tr>\n",
              "    <tr>\n",
              "      <th>8</th>\n",
              "      <td>8</td>\n",
              "      <td>NaN</td>\n",
              "      <td>NaN</td>\n",
              "      <td>NaN</td>\n",
              "      <td>NaN</td>\n",
              "    </tr>\n",
              "    <tr>\n",
              "      <th>9</th>\n",
              "      <td>9</td>\n",
              "      <td>NaN</td>\n",
              "      <td>NaN</td>\n",
              "      <td>NaN</td>\n",
              "      <td>NaN</td>\n",
              "    </tr>\n",
              "    <tr>\n",
              "      <th>10</th>\n",
              "      <td>10</td>\n",
              "      <td>NaN</td>\n",
              "      <td>NaN</td>\n",
              "      <td>NaN</td>\n",
              "      <td>NaN</td>\n",
              "    </tr>\n",
              "  </tbody>\n",
              "</table>\n",
              "</div>"
            ],
            "text/plain": [
              "   NO. PCODE  OPS  장타율  출루율\n",
              "1    1   NaN  NaN  NaN  NaN\n",
              "2    2   NaN  NaN  NaN  NaN\n",
              "3    3   NaN  NaN  NaN  NaN\n",
              "4    4   NaN  NaN  NaN  NaN\n",
              "5    5   NaN  NaN  NaN  NaN\n",
              "6    6   NaN  NaN  NaN  NaN\n",
              "7    7   NaN  NaN  NaN  NaN\n",
              "8    8   NaN  NaN  NaN  NaN\n",
              "9    9   NaN  NaN  NaN  NaN\n",
              "10  10   NaN  NaN  NaN  NaN"
            ]
          },
          "metadata": {},
          "execution_count": 193
        }
      ]
    },
    {
      "cell_type": "code",
      "metadata": {
        "colab": {
          "base_uri": "https://localhost:8080/",
          "height": 359
        },
        "id": "_mabQSJieTw4",
        "outputId": "a67ed245-6e20-4c94-d817-107cc64686d5"
      },
      "source": [
        "test['PCODE'] = ops.index\n",
        "test['OPS'] = ops.values\n",
        "test['장타율'] = slg.values\n",
        "test['출루율'] = obp.values\n",
        "test"
      ],
      "execution_count": null,
      "outputs": [
        {
          "output_type": "execute_result",
          "data": {
            "text/html": [
              "<div>\n",
              "<style scoped>\n",
              "    .dataframe tbody tr th:only-of-type {\n",
              "        vertical-align: middle;\n",
              "    }\n",
              "\n",
              "    .dataframe tbody tr th {\n",
              "        vertical-align: top;\n",
              "    }\n",
              "\n",
              "    .dataframe thead th {\n",
              "        text-align: right;\n",
              "    }\n",
              "</style>\n",
              "<table border=\"1\" class=\"dataframe\">\n",
              "  <thead>\n",
              "    <tr style=\"text-align: right;\">\n",
              "      <th></th>\n",
              "      <th>NO.</th>\n",
              "      <th>PCODE</th>\n",
              "      <th>OPS</th>\n",
              "      <th>장타율</th>\n",
              "      <th>출루율</th>\n",
              "    </tr>\n",
              "  </thead>\n",
              "  <tbody>\n",
              "    <tr>\n",
              "      <th>1</th>\n",
              "      <td>1</td>\n",
              "      <td>76232</td>\n",
              "      <td>0.918314</td>\n",
              "      <td>0.529828</td>\n",
              "      <td>0.388486</td>\n",
              "    </tr>\n",
              "    <tr>\n",
              "      <th>2</th>\n",
              "      <td>2</td>\n",
              "      <td>68050</td>\n",
              "      <td>0.939427</td>\n",
              "      <td>0.534003</td>\n",
              "      <td>0.405424</td>\n",
              "    </tr>\n",
              "    <tr>\n",
              "      <th>3</th>\n",
              "      <td>3</td>\n",
              "      <td>75847</td>\n",
              "      <td>0.916508</td>\n",
              "      <td>0.541094</td>\n",
              "      <td>0.375414</td>\n",
              "    </tr>\n",
              "    <tr>\n",
              "      <th>4</th>\n",
              "      <td>4</td>\n",
              "      <td>67341</td>\n",
              "      <td>0.982236</td>\n",
              "      <td>0.530886</td>\n",
              "      <td>0.451350</td>\n",
              "    </tr>\n",
              "    <tr>\n",
              "      <th>5</th>\n",
              "      <td>5</td>\n",
              "      <td>79192</td>\n",
              "      <td>0.800494</td>\n",
              "      <td>0.469827</td>\n",
              "      <td>0.330667</td>\n",
              "    </tr>\n",
              "    <tr>\n",
              "      <th>6</th>\n",
              "      <td>6</td>\n",
              "      <td>78224</td>\n",
              "      <td>0.863658</td>\n",
              "      <td>0.494640</td>\n",
              "      <td>0.369018</td>\n",
              "    </tr>\n",
              "    <tr>\n",
              "      <th>7</th>\n",
              "      <td>7</td>\n",
              "      <td>78513</td>\n",
              "      <td>0.804209</td>\n",
              "      <td>0.448415</td>\n",
              "      <td>0.355794</td>\n",
              "    </tr>\n",
              "    <tr>\n",
              "      <th>8</th>\n",
              "      <td>8</td>\n",
              "      <td>76290</td>\n",
              "      <td>0.835389</td>\n",
              "      <td>0.461833</td>\n",
              "      <td>0.373556</td>\n",
              "    </tr>\n",
              "    <tr>\n",
              "      <th>9</th>\n",
              "      <td>9</td>\n",
              "      <td>79215</td>\n",
              "      <td>0.828798</td>\n",
              "      <td>0.444699</td>\n",
              "      <td>0.384098</td>\n",
              "    </tr>\n",
              "    <tr>\n",
              "      <th>10</th>\n",
              "      <td>10</td>\n",
              "      <td>67872</td>\n",
              "      <td>0.771549</td>\n",
              "      <td>0.432151</td>\n",
              "      <td>0.339398</td>\n",
              "    </tr>\n",
              "  </tbody>\n",
              "</table>\n",
              "</div>"
            ],
            "text/plain": [
              "   NO.  PCODE       OPS       장타율       출루율\n",
              "1    1  76232  0.918314  0.529828  0.388486\n",
              "2    2  68050  0.939427  0.534003  0.405424\n",
              "3    3  75847  0.916508  0.541094  0.375414\n",
              "4    4  67341  0.982236  0.530886  0.451350\n",
              "5    5  79192  0.800494  0.469827  0.330667\n",
              "6    6  78224  0.863658  0.494640  0.369018\n",
              "7    7  78513  0.804209  0.448415  0.355794\n",
              "8    8  76290  0.835389  0.461833  0.373556\n",
              "9    9  79215  0.828798  0.444699  0.384098\n",
              "10  10  67872  0.771549  0.432151  0.339398"
            ]
          },
          "metadata": {},
          "execution_count": 206
        }
      ]
    },
    {
      "cell_type": "code",
      "metadata": {
        "id": "1KXjnjrkfoCq"
      },
      "source": [
        "test.to_csv('/content/drive/MyDrive/빅콘테스트/02_평가데이터/최종제출.csv')"
      ],
      "execution_count": null,
      "outputs": []
    },
    {
      "cell_type": "code",
      "metadata": {
        "colab": {
          "base_uri": "https://localhost:8080/"
        },
        "id": "9_A406lwgIvE",
        "outputId": "af9477ff-fccf-4012-e23b-fa17987f172d"
      },
      "source": [
        "!pip install openpyxl\n",
        "!pip install xlwt"
      ],
      "execution_count": null,
      "outputs": [
        {
          "output_type": "stream",
          "name": "stdout",
          "text": [
            "Requirement already satisfied: openpyxl in /usr/local/lib/python3.7/dist-packages (2.5.9)\n",
            "Requirement already satisfied: jdcal in /usr/local/lib/python3.7/dist-packages (from openpyxl) (1.4.1)\n",
            "Requirement already satisfied: et-xmlfile in /usr/local/lib/python3.7/dist-packages (from openpyxl) (1.1.0)\n",
            "Requirement already satisfied: xlwt in /usr/local/lib/python3.7/dist-packages (1.3.0)\n"
          ]
        }
      ]
    },
    {
      "cell_type": "code",
      "metadata": {
        "id": "yBePUBiKfaeF"
      },
      "source": [
        "test.to_excel('/content/drive/MyDrive/빅콘테스트/02_평가데이터/최종제출.xlsx', sheet_name='Sheet1', index=False)"
      ],
      "execution_count": null,
      "outputs": []
    },
    {
      "cell_type": "code",
      "metadata": {
        "id": "7zVROIDvf7mg"
      },
      "source": [
        ""
      ],
      "execution_count": null,
      "outputs": []
    }
  ]
}